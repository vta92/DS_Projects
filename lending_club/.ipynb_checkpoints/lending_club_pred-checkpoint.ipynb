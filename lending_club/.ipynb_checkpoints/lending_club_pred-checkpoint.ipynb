{
 "cells": [
  {
   "cell_type": "code",
   "execution_count": 1,
   "metadata": {
    "collapsed": true
   },
   "outputs": [],
   "source": [
    "import pandas as pd\n",
    "import numpy as np\n",
    "from scipy import stats\n",
    "import warnings\n",
    "warnings.filterwarnings('ignore')\n",
    "\n",
    "from sklearn.metrics import make_scorer, accuracy_score, precision_score, recall_score, f1_score\n",
    "from sklearn import svm, tree, linear_model, neighbors, naive_bayes, ensemble, discriminant_analysis, gaussian_process\n",
    "from xgboost import XGBClassifier\n",
    "\n",
    "from sklearn.preprocessing import OneHotEncoder, LabelEncoder\n",
    "from sklearn.preprocessing import StandardScaler\n",
    "from sklearn.preprocessing import MinMaxScaler\n",
    "from sklearn import feature_selection\n",
    "from sklearn import model_selection\n",
    "from sklearn import metrics\n",
    "from sklearn.metrics import precision_score\n",
    "from sklearn.metrics import recall_score\n",
    "from sklearn.metrics import matthews_corrcoef\n",
    "\n",
    "from pandas.tools.plotting import scatter_matrix\n",
    "import matplotlib as mpl\n",
    "import matplotlib.pyplot as plt\n",
    "import matplotlib.pylab as pylab\n",
    "import seaborn as sns\n",
    "\n",
    "\n",
    "\n",
    "%matplotlib inline\n",
    "pylab.rcParams['figure.figsize'] = 12,8"
   ]
  },
  {
   "cell_type": "code",
   "execution_count": 2,
   "metadata": {},
   "outputs": [
    {
     "name": "stdout",
     "output_type": "stream",
     "text": [
      "Index(['loan_amnt', 'int_rate', 'installment', 'emp_length', 'annual_inc',\n",
      "       'loan_status', 'dti', 'delinq_2yrs', 'inq_last_6mths', 'open_acc',\n",
      "       'pub_rec', 'revol_bal', 'revol_util', 'total_acc',\n",
      "       'home_ownership_MORTGAGE', 'home_ownership_NONE',\n",
      "       'home_ownership_OTHER', 'home_ownership_OWN', 'home_ownership_RENT',\n",
      "       'verification_status_Not Verified',\n",
      "       'verification_status_Source Verified', 'verification_status_Verified',\n",
      "       'purpose_car', 'purpose_credit_card', 'purpose_debt_consolidation',\n",
      "       'purpose_educational', 'purpose_home_improvement', 'purpose_house',\n",
      "       'purpose_major_purchase', 'purpose_medical', 'purpose_moving',\n",
      "       'purpose_other', 'purpose_renewable_energy', 'purpose_small_business',\n",
      "       'purpose_vacation', 'purpose_wedding', 'term_ 36 months',\n",
      "       'term_ 60 months'],\n",
      "      dtype='object')\n"
     ]
    },
    {
     "data": {
      "text/plain": [
       "(37675, 38)"
      ]
     },
     "execution_count": 2,
     "metadata": {},
     "output_type": "execute_result"
    }
   ],
   "source": [
    "df = pd.read_csv(\"processed_loans_2007.csv\")\n",
    "#print(df.columns)\n",
    "df.drop([\"Unnamed: 0\"],axis=1, inplace=True) #index from the last export on cleaning steps\n",
    "print(df.columns)\n",
    "df.shape"
   ]
  },
  {
   "cell_type": "code",
   "execution_count": 3,
   "metadata": {},
   "outputs": [
    {
     "data": {
      "text/plain": [
       "1    0.856961\n",
       "0    0.143039\n",
       "Name: loan_status, dtype: float64"
      ]
     },
     "execution_count": 3,
     "metadata": {},
     "output_type": "execute_result"
    }
   ],
   "source": [
    "df.loan_status.value_counts(normalize=True)"
   ]
  },
  {
   "cell_type": "markdown",
   "metadata": {},
   "source": [
    "It seems that we have a problem with class imbalance. Therefore, it's not a good idea to just train it with the normal accuracy benchmarks. That would be superficially high and would not be helpful in our predictions. This is a good example to use high recall(true positive) and low fallout (false positive) rates for evaluation.\n",
    "\n",
    "True positive rate = (True postives)/(True positives + false negatives).\n",
    "False positive rate = (false positives)/(false positive + true negatives)."
   ]
  },
  {
   "cell_type": "markdown",
   "metadata": {},
   "source": [
    "# Exloratory Analysis"
   ]
  },
  {
   "cell_type": "code",
   "execution_count": 4,
   "metadata": {},
   "outputs": [
    {
     "data": {
      "text/plain": [
       "int_rate                              -0.210814\n",
       "term_ 60 months                       -0.171194\n",
       "revol_util                            -0.099547\n",
       "purpose_small_business                -0.078515\n",
       "inq_last_6mths                        -0.070536\n",
       "loan_amnt                             -0.062140\n",
       "pub_rec                               -0.050193\n",
       "dti                                   -0.042815\n",
       "verification_status_Verified          -0.041976\n",
       "installment                           -0.030309\n",
       "purpose_debt_consolidation            -0.021098\n",
       "home_ownership_RENT                   -0.020678\n",
       "delinq_2yrs                           -0.019279\n",
       "emp_length                            -0.016195\n",
       "purpose_other                         -0.015565\n",
       "revol_bal                             -0.007141\n",
       "purpose_renewable_energy              -0.006921\n",
       "home_ownership_OTHER                  -0.006418\n",
       "purpose_house                         -0.006330\n",
       "purpose_educational                   -0.006167\n",
       "verification_status_Source Verified   -0.005351\n",
       "purpose_medical                       -0.003660\n",
       "purpose_moving                        -0.003182\n",
       "home_ownership_OWN                    -0.000475\n",
       "purpose_vacation                      -0.000176\n",
       "home_ownership_NONE                    0.003646\n",
       "open_acc                               0.005667\n",
       "purpose_wedding                        0.019208\n",
       "total_acc                              0.020318\n",
       "purpose_home_improvement               0.021261\n",
       "purpose_car                            0.021491\n",
       "home_ownership_MORTGAGE                0.021635\n",
       "purpose_major_purchase                 0.029175\n",
       "annual_inc                             0.038175\n",
       "purpose_credit_card                    0.043337\n",
       "verification_status_Not Verified       0.044048\n",
       "term_ 36 months                        0.171194\n",
       "loan_status                            1.000000\n",
       "Name: loan_status, dtype: float64"
      ]
     },
     "execution_count": 4,
     "metadata": {},
     "output_type": "execute_result"
    }
   ],
   "source": [
    "df.corr()[\"loan_status\"].sort_values()"
   ]
  },
  {
   "cell_type": "markdown",
   "metadata": {},
   "source": [
    "Initial looks show no clear dominant feature on our data, thus the weights and contributions of any feature should not overwhelm the rest of the features. There are however, a few key points that we would like to look at to see if there's any special information we can get out of our data."
   ]
  },
  {
   "cell_type": "code",
   "execution_count": 5,
   "metadata": {},
   "outputs": [
    {
     "data": {
      "text/plain": [
       "<matplotlib.axes._subplots.AxesSubplot at 0x10f38b160>"
      ]
     },
     "execution_count": 5,
     "metadata": {},
     "output_type": "execute_result"
    },
    {
     "data": {
      "image/png": "[encoded data removed]",
      "text/plain": [
       "<matplotlib.figure.Figure at 0x10ebc7e48>"
      ]
     },
     "metadata": {},
     "output_type": "display_data"
    }
   ],
   "source": [
    "vis_df = df.copy()\n",
    "def inc_range(row):\n",
    "    if row <= 30000:\n",
    "        return \"Low\"\n",
    "    elif (row >30000) and (row <= 60000):\n",
    "        return \"Medium\"\n",
    "    elif (row > 60000) and (row < 100000):\n",
    "        return \"High\"\n",
    "    else:\n",
    "        return \"Very High\"\n",
    "    \n",
    "vis_df[\"income_range\"] = vis_df[\"annual_inc\"].apply(inc_range)\n",
    "vis_df[\"inc_loan_ratio\"] = vis_df[\"annual_inc\"]/vis_df[\"loan_amnt\"]\n",
    "fig, ((ax1, ax2), (ax3, ax4),(ax5, ax6))= plt.subplots(nrows=3, ncols=2, figsize=(20,20))\n",
    "sns.barplot(x=\"income_range\", y=\"loan_status\", data=vis_df,ax=ax1) #ax = ax1\n",
    "sns.boxplot(x=\"income_range\",y=\"int_rate\",data=vis_df,ax=ax2)\n",
    "sns.violinplot(x=\"income_range\",y=\"loan_amnt\",data=vis_df,ax=ax3)\n",
    "sns.violinplot(x=\"loan_status\",y=\"emp_length\",data=vis_df,ax=ax4)\n",
    "sns.violinplot(x=\"loan_status\",y=\"loan_amnt\",data=vis_df,ax=ax5)\n",
    "\n",
    "sns.lineplot(x=\"int_rate\",y=\"inc_loan_ratio\",data=vis_df,ax=ax6)"
   ]
  },
  {
   "cell_type": "markdown",
   "metadata": {},
   "source": [
    "What have we learned based on those plots?\n",
    "1. People who has earned more are more likely to pay off the loans. This is very much expected. However, on average, we would've guessed that the difference might be bigger.\n",
    "2. Pretty much the interest rate in general are the same across all borrowers. Higher income does not neccessarily require a higher interest. This is balanced by the fact that people of lower income tends to borrow less money in general (plot #3).\n",
    "3. The amount of money borrowed varied, and has a higher spread as income level increases. This makes sense because one probably cannot borrow to buy a house with a very low income. It's just very unlikely.\n",
    "4. There seems to be no difference on the decision of lending money based on employment length. However, it's interesting to note that people who has worked longer are less likely to apply for a loan(aside from the fact that we grouped everyone who has 10+ years of employment, thus exaggerating its meaning).\n",
    "5. Plot #5 is just another way to look at plot #1 and plot #3, confirming the fact that most of the loan applications aren't high in values.\n",
    "6. We took a income/loan ratio and see if it's correlated to the interest rate. Infact, it's quite clear (aside from occasional high points), that people who doesn't make much money and needed a big loan tend to have a higher interest rate. This is by far the best predictor in our loan approval technique."
   ]
  },
  {
   "cell_type": "markdown",
   "metadata": {},
   "source": [
    "# Let's utilize the raw data to see other trends in this dataset"
   ]
  },
  {
   "cell_type": "code",
   "execution_count": 6,
   "metadata": {},
   "outputs": [
    {
     "data": {
      "text/plain": [
       "<matplotlib.axes._subplots.AxesSubplot at 0x11412a6d8>"
      ]
     },
     "execution_count": 6,
     "metadata": {},
     "output_type": "execute_result"
    },
    {
     "data": {
      "image/png": "[encoded data removed]",
      "text/plain": [
       "<matplotlib.figure.Figure at 0x11412a2e8>"
      ]
     },
     "metadata": {},
     "output_type": "display_data"
    }
   ],
   "source": [
    "df_raw = pd.read_csv(\"loans_2007.csv\")\n",
    "#to group, take a mean of each column, and sort them for a prettier graph\n",
    "temp = df_raw.groupby(\"purpose\").mean().sort_values(\"loan_amnt\").reset_index()\n",
    "sns.barplot(x=\"loan_amnt\",y=\"purpose\",data=temp)"
   ]
  },
  {
   "cell_type": "markdown",
   "metadata": {},
   "source": [
    "Finally, we import the older raw dataset to see our customer profile and the loan purposes. Which represented the consumer profile. Obviously, small businesses and bigger traps like credit card debts, wedding, and home improvement represented on average a higher loan_amnt per request. It's a good thing that based on our plot #5 above, the approval rate isn't neccessarily dictated by the loan amount. It is the utmost importance that the borrower can pay for it with a higher salary based on our plot #6. Else, we compensate for the risks with the higher interest rate."
   ]
  },
  {
   "cell_type": "code",
   "execution_count": 7,
   "metadata": {},
   "outputs": [
    {
     "name": "stdout",
     "output_type": "stream",
     "text": [
      "Index(['id', 'member_id', 'loan_amnt', 'funded_amnt', 'funded_amnt_inv',\n",
      "       'term', 'int_rate', 'installment', 'grade', 'sub_grade', 'emp_title',\n",
      "       'emp_length', 'home_ownership', 'annual_inc', 'verification_status',\n",
      "       'issue_d', 'loan_status', 'pymnt_plan', 'purpose', 'title', 'zip_code',\n",
      "       'addr_state', 'dti', 'delinq_2yrs', 'earliest_cr_line',\n",
      "       'inq_last_6mths', 'open_acc', 'pub_rec', 'revol_bal', 'revol_util',\n",
      "       'total_acc', 'initial_list_status', 'out_prncp', 'out_prncp_inv',\n",
      "       'total_pymnt', 'total_pymnt_inv', 'total_rec_prncp', 'total_rec_int',\n",
      "       'total_rec_late_fee', 'recoveries', 'collection_recovery_fee',\n",
      "       'last_pymnt_d', 'last_pymnt_amnt', 'last_credit_pull_d',\n",
      "       'collections_12_mths_ex_med', 'policy_code', 'application_type',\n",
      "       'acc_now_delinq', 'chargeoff_within_12_mths', 'delinq_amnt',\n",
      "       'pub_rec_bankruptcies', 'tax_liens', 'income_range', 'inc_loan_ratio'],\n",
      "      dtype='object')\n"
     ]
    }
   ],
   "source": [
    "#reprocessing for some of the raw data to look extra into the analysis\n",
    "df_raw[\"income_range\"] = df_raw[\"annual_inc\"].apply(inc_range)\n",
    "df_raw['int_rate'] = df_raw['int_rate'].str.rstrip('%')\n",
    "df_raw['int_rate'] = df_raw['int_rate'].astype('float')\n",
    "df_raw[\"inc_loan_ratio\"] = df_raw[\"annual_inc\"]/df_raw[\"loan_amnt\"]\n",
    "\n",
    "print(df_raw.columns)"
   ]
  },
  {
   "cell_type": "code",
   "execution_count": 8,
   "metadata": {
    "scrolled": true
   },
   "outputs": [
    {
     "data": {
      "image/png": "[encoded data removed]",
      "text/plain": [
       "<matplotlib.figure.Figure at 0x1a1de70748>"
      ]
     },
     "metadata": {},
     "output_type": "display_data"
    }
   ],
   "source": [
    "def plot3(df_raw):\n",
    "    temp = df_raw[~df_raw['loan_status'].isin([\"Does not meet the credit policy. Status:Fully Paid\",\n",
    "                                               \"Does not meet the credit policy. Status:Charged Off\"])]\n",
    "    sns.boxplot(x=\"loan_status\", y=\"int_rate\", data=temp,ax=ax3) #charge off and default rate needs to be high\n",
    "    ax3.set_xticklabels(ax3.get_xticklabels(),rotation=90)\n",
    "\n",
    "\n",
    "#helper function with plot #4. Mean loan_amnt for various purposes\n",
    "def plot4(df_raw):\n",
    "    temp = df_raw.loc[df_raw['loan_status'].isin(['Charged Off','Default','Fully Paid'])]\n",
    "    temp = temp.groupby([\"purpose\",\"loan_status\"]).mean()\n",
    "    temp.reset_index(inplace = True)\n",
    "    sns.barplot(x=\"purpose\",y=\"loan_amnt\",hue=\"loan_status\",data=temp,ax=ax4)\n",
    "    ax4.set_xticklabels(ax4.get_xticklabels(),rotation=90)\n",
    "\n",
    "#helper function with plot #5. Which loan purpose can generate most values without being the most risky\n",
    "def plot5(df_raw):\n",
    "    temp = df_raw.loc[df_raw['loan_status'].isin(['Charged Off','Default','Fully Paid'])]\n",
    "    temp = temp.groupby([\"purpose\",\"loan_status\"]).mean()\n",
    "    temp.reset_index(inplace = True)\n",
    "    sns.barplot(x=\"purpose\",y=\"int_rate\",hue=\"loan_status\",data=temp,ax=ax5)\n",
    "    ax5.set_xticklabels(ax5.get_xticklabels(),rotation=90)\n",
    "\n",
    "#helper function with plot #6. Can we count on the fact that higher credits loans are safer in general?\n",
    "#this is an essential question to recap our data\n",
    "def plot6(df_raw):\n",
    "    temp = df_raw.loc[df_raw['loan_status'].isin(['Charged Off','Default','Fully Paid'])]\n",
    "    temp = temp.groupby([\"grade\",\"loan_status\"]).mean()\n",
    "    temp.reset_index(inplace = True)\n",
    "    sns.barplot(x=\"grade\",y=\"int_rate\",hue=\"loan_status\",data=temp,ax=ax6)\n",
    "    ax6.set_xticklabels(ax6.get_xticklabels(),rotation=90)\n",
    "\n",
    "fig, ((ax1, ax2), (ax3, ax4),(ax5, ax6))= plt.subplots(nrows=3, ncols=2, figsize=(20,20))\n",
    "plt.subplots_adjust(hspace=0.5, wspace=0.5) #to adjust spacings between plots\n",
    "sns.boxplot(x=\"grade\", y=\"int_rate\", data=df_raw,order=[\"A\",\"B\",\"C\",\"D\",\"E\",\"F\",\"G\"],ax=ax1)\n",
    "df_raw[\"grade\"].value_counts().plot(kind='pie', subplots=True, figsize=(8,8),ax=ax2)\n",
    "plot3(df_raw)\n",
    "plot4(df_raw)\n",
    "plot5(df_raw)\n",
    "plot6(df_raw)\n",
    "\n",
    "#plot income with grade\n",
    "#loan status default with grade\n",
    "#loan purpose and default grade\n",
    "#percentage of paid off based on each grades"
   ]
  },
  {
   "cell_type": "markdown",
   "metadata": {},
   "source": [
    "It seems that there's no free lunch here. Lastly, we'll look at the ratio of income/loans and loan_status\n",
    "1. Grades are based off from interest rate. It makes sense to remove them for our analysis\n",
    "2. Most of our loans are reasonably safe, at the grades of A,B,C, and D.\n",
    "3. On average, our loans with lower interest rate has a higher chance to be paid off. Perhaps, below 11% is a good bet.\n",
    "4 & 5. No clear trend on which category of loan has the best paid-off/charge off ratio. We also had a couple of defaults in the credit card category (this is insignificant amount compared to fully paid and charge-off).\n",
    "6. Again, we see interest rate with grade assigned for each loan. However, it's interesting to note that there is no clear trend as to why high quality loans don't have a higher fully paid/charge-off ratio."
   ]
  },
  {
   "cell_type": "code",
   "execution_count": 9,
   "metadata": {},
   "outputs": [
    {
     "data": {
      "image/png": "[encoded data removed]",
      "text/plain": [
       "<matplotlib.figure.Figure at 0x11412d358>"
      ]
     },
     "metadata": {},
     "output_type": "display_data"
    }
   ],
   "source": [
    "#print(vis_df.shape)\n",
    "sns.violinplot(x=\"loan_status\",y=\"inc_loan_ratio\",data=vis_df)\n",
    "plt.ylim(0,30)\n",
    "plt.show()"
   ]
  },
  {
   "cell_type": "markdown",
   "metadata": {},
   "source": [
    "Finally, the 10x and above - \"income\" to \"loan amount\" ratio certainly helps secure our full payments. At 10x the ratio, it's safe to say that there will be statistically more people who's going to pay off their loans. It doesn't guarantee if the bad loans will be covered with the good loans however."
   ]
  },
  {
   "cell_type": "markdown",
   "metadata": {},
   "source": [
    "# Machine Learning Algorithms - Part 1"
   ]
  },
  {
   "cell_type": "markdown",
   "metadata": {},
   "source": [
    "For this problem, we'll divide it into 2 parts. For the first part, we'll worry ourselves with algorithms that does not need feature scaling, and for the second part, we'll use feature scaling algorithms.\n",
    "Since we do have a non-balance classification, we need something other than accuracy. The standard convention would be using roc, auc. Thus, we'll be looking at precision vs recall.\n",
    "\n",
    "precision = tp/(tp+fp)\n",
    "\n",
    "recall = tp/(tp+fn)"
   ]
  },
  {
   "cell_type": "code",
   "execution_count": 10,
   "metadata": {},
   "outputs": [
    {
     "data": {
      "text/plain": [
       "1    0.856961\n",
       "0    0.143039\n",
       "Name: loan_status, dtype: float64"
      ]
     },
     "execution_count": 10,
     "metadata": {},
     "output_type": "execute_result"
    }
   ],
   "source": [
    "#Let's see our target profile\n",
    "df.loan_status.value_counts(normalize=True)"
   ]
  },
  {
   "cell_type": "code",
   "execution_count": 11,
   "metadata": {
    "collapsed": true
   },
   "outputs": [],
   "source": [
    "#custom scorer\n",
    "#why dont we use f1 score? I'd like to make sure that we can maximize the best potential of all 4 quadrants\n",
    "#we'll be using Matthew correlation coefficient, or MCC. This was explored earlier with optimization on AUC ROC, and f1-score\n",
    "scoring = {\n",
    "    \"accuracy\":make_scorer(accuracy_score),\n",
    "    \"precision\":make_scorer(precision_score),\n",
    "    \"recall\":make_scorer(recall_score),\n",
    "    \"mcc\":make_scorer(matthews_corrcoef)\n",
    "}"
   ]
  },
  {
   "cell_type": "code",
   "execution_count": 12,
   "metadata": {},
   "outputs": [],
   "source": [
    "#Spreadsheet of algorithms to filter initially\n",
    "#https://machinelearningmastery.com/gentle-introduction-xgboost-applied-machine-learning/\n",
    "#we need to account for imbalance classes whenever possible\n",
    "tree_algs = [tree.DecisionTreeClassifier(class_weight=\"balanced\"), tree.ExtraTreeClassifier(class_weight=\"balanced\"),\n",
    "             XGBClassifier(scale_pos_weight=0.15)] #gradient boosted tree\n",
    "\n",
    "ensemble_algs = [ensemble.AdaBoostClassifier(base_estimator=tree.DecisionTreeClassifier(class_weight=\"balanced\")), \n",
    "                ensemble.BaggingClassifier(base_estimator=tree.DecisionTreeClassifier(class_weight=\"balanced\")), \n",
    "                ensemble.ExtraTreesClassifier(class_weight=\"balanced\"),\n",
    "                ensemble.GradientBoostingClassifier(), ensemble.RandomForestClassifier(class_weight=\"balanced\")]\n",
    "linear_algs = [linear_model.LogisticRegressionCV(class_weight=\"balanced\")]\n",
    "da_algs = [discriminant_analysis.LinearDiscriminantAnalysis(), discriminant_analysis.QuadraticDiscriminantAnalysis()]"
   ]
  },
  {
   "cell_type": "code",
   "execution_count": 13,
   "metadata": {},
   "outputs": [
    {
     "data": {
      "text/plain": [
       "Index(['loan_amnt', 'int_rate', 'installment', 'emp_length', 'annual_inc',\n",
       "       'loan_status', 'dti', 'delinq_2yrs', 'inq_last_6mths', 'open_acc',\n",
       "       'pub_rec', 'revol_bal', 'revol_util', 'total_acc',\n",
       "       'home_ownership_MORTGAGE', 'home_ownership_NONE',\n",
       "       'home_ownership_OTHER', 'home_ownership_OWN', 'home_ownership_RENT',\n",
       "       'verification_status_Not Verified',\n",
       "       'verification_status_Source Verified', 'verification_status_Verified',\n",
       "       'purpose_car', 'purpose_credit_card', 'purpose_debt_consolidation',\n",
       "       'purpose_educational', 'purpose_home_improvement', 'purpose_house',\n",
       "       'purpose_major_purchase', 'purpose_medical', 'purpose_moving',\n",
       "       'purpose_other', 'purpose_renewable_energy', 'purpose_small_business',\n",
       "       'purpose_vacation', 'purpose_wedding', 'term_ 36 months',\n",
       "       'term_ 60 months'],\n",
       "      dtype='object')"
      ]
     },
     "execution_count": 13,
     "metadata": {},
     "output_type": "execute_result"
    }
   ],
   "source": [
    "df.columns"
   ]
  },
  {
   "cell_type": "code",
   "execution_count": 14,
   "metadata": {},
   "outputs": [
    {
     "name": "stdout",
     "output_type": "stream",
     "text": [
      "['loan_amnt', 'int_rate', 'installment', 'emp_length', 'annual_inc', 'dti', 'delinq_2yrs', 'inq_last_6mths', 'open_acc', 'pub_rec', 'revol_bal', 'revol_util', 'total_acc', 'home_ownership_MORTGAGE', 'home_ownership_NONE', 'home_ownership_OWN', 'home_ownership_RENT', 'verification_status_Not Verified', 'verification_status_Verified', 'purpose_car', 'purpose_credit_card', 'purpose_debt_consolidation', 'purpose_educational', 'purpose_home_improvement', 'purpose_house', 'purpose_major_purchase', 'purpose_medical', 'purpose_moving', 'purpose_renewable_energy', 'purpose_small_business', 'purpose_vacation', 'purpose_wedding', 'term_ 36 months']\n"
     ]
    }
   ],
   "source": [
    "features = df.columns.tolist()\n",
    "features.remove(\"loan_status\")\n",
    "\n",
    "#we remove these columns because it is important to prevent biases/double counting due to dummy variables trap.\n",
    "#this wasn't done in the preprocessing step because we wanted to use them with the data explorative step.\n",
    "features.remove(\"home_ownership_OTHER\")\n",
    "features.remove(\"verification_status_Source Verified\")\n",
    "features.remove(\"purpose_other\")\n",
    "features.remove(\"term_ 60 months\")\n",
    "\n",
    "target = \"loan_status\"\n",
    "print(features)\n",
    "\n",
    "def baseline_ml(algs,features,target,scoring,df):\n",
    "    \n",
    "    X_train, X_test, y_train, y_test = model_selection.train_test_split(df[features], df[target], test_size=0.25, random_state=1)\n",
    "    #print(X_train.shape,X_test.shape,y_train.shape, y_test.shape)\n",
    "    #making a dataframe spreadsheet of ML Algorithms performances\n",
    "    \n",
    "    ml_cols = [\"ML_alg\",\"ML_params\",\"ML_runtime\",\"ML_train_accuracy\",\"ML_train_precision\",\"ML_train_recall\",\"ML_train_mcc\",\n",
    "               \"ML_test_accuracy\",\"ML_test_precision\",\"ML_test_recall\",\"ML_test_mcc\"]\n",
    "    ml_table = pd.DataFrame(columns=ml_cols)\n",
    "\n",
    "    #ml_pred = y_test\n",
    "\n",
    "    row_ind = 0\n",
    "    for alg in algs:\n",
    "\n",
    "        cv_results = model_selection.cross_validate(alg, X_train, y_train, scoring=scoring, cv=10) #main object\n",
    "        #print(cv_results)\n",
    "        #fill in the table by calling attributes from the cv_results object\n",
    "        alg_name = alg.__class__.__name__\n",
    "        ml_table.loc[row_ind, 'ML_alg'] = alg_name\n",
    "        ml_table.loc[row_ind, 'ML_params'] = str(alg.get_params())\n",
    "        ml_table.loc[row_ind, 'ML_runtime'] = cv_results['fit_time'].mean()\n",
    "        ml_table.loc[row_ind, 'ML_train_accuracy'] = cv_results['train_accuracy'].mean()\n",
    "        ml_table.loc[row_ind, 'ML_train_precision'] = cv_results['train_precision'].mean()\n",
    "        ml_table.loc[row_ind, 'ML_train_recall'] = cv_results['train_recall'].mean() \n",
    "        ml_table.loc[row_ind, 'ML_train_mcc'] = cv_results['train_mcc'].mean()\n",
    "\n",
    "        ml_table.loc[row_ind, 'ML_test_accuracy'] = cv_results['test_accuracy'].mean()\n",
    "        ml_table.loc[row_ind, 'ML_test_precision'] = cv_results['test_precision'].mean()\n",
    "        ml_table.loc[row_ind, 'ML_test_recall'] = cv_results['test_recall'].mean() \n",
    "        ml_table.loc[row_ind, 'ML_test_mcc'] = cv_results['test_mcc'].mean()\n",
    "\n",
    "        alg.fit(X_train, y_train)\n",
    "        #prediction needs to be returned later for a second stage ensemble\n",
    "        ml_pred = alg.predict(X_test)\n",
    "        #print(cv_results)\n",
    "\n",
    "        row_ind += 1\n",
    "    return ml_table, ml_pred"
   ]
  },
  {
   "cell_type": "code",
   "execution_count": 15,
   "metadata": {},
   "outputs": [
    {
     "data": {
      "text/html": [
       "<div>\n",
       "<style scoped>\n",
       "    .dataframe tbody tr th:only-of-type {\n",
       "        vertical-align: middle;\n",
       "    }\n",
       "\n",
       "    .dataframe tbody tr th {\n",
       "        vertical-align: top;\n",
       "    }\n",
       "\n",
       "    .dataframe thead th {\n",
       "        text-align: right;\n",
       "    }\n",
       "</style>\n",
       "<table border=\"1\" class=\"dataframe\">\n",
       "  <thead>\n",
       "    <tr style=\"text-align: right;\">\n",
       "      <th></th>\n",
       "      <th>ML_alg</th>\n",
       "      <th>ML_params</th>\n",
       "      <th>ML_runtime</th>\n",
       "      <th>ML_train_accuracy</th>\n",
       "      <th>ML_train_precision</th>\n",
       "      <th>ML_train_recall</th>\n",
       "      <th>ML_train_mcc</th>\n",
       "      <th>ML_test_accuracy</th>\n",
       "      <th>ML_test_precision</th>\n",
       "      <th>ML_test_recall</th>\n",
       "      <th>ML_test_mcc</th>\n",
       "    </tr>\n",
       "  </thead>\n",
       "  <tbody>\n",
       "    <tr>\n",
       "      <th>0</th>\n",
       "      <td>DecisionTreeClassifier</td>\n",
       "      <td>{'class_weight': 'balanced', 'criterion': 'gin...</td>\n",
       "      <td>0.290853</td>\n",
       "      <td>1</td>\n",
       "      <td>1</td>\n",
       "      <td>1</td>\n",
       "      <td>1</td>\n",
       "      <td>0.766847</td>\n",
       "      <td>0.86604</td>\n",
       "      <td>0.861539</td>\n",
       "      <td>0.0552833</td>\n",
       "    </tr>\n",
       "    <tr>\n",
       "      <th>1</th>\n",
       "      <td>ExtraTreeClassifier</td>\n",
       "      <td>{'class_weight': 'balanced', 'criterion': 'gin...</td>\n",
       "      <td>0.0407172</td>\n",
       "      <td>1</td>\n",
       "      <td>1</td>\n",
       "      <td>1</td>\n",
       "      <td>1</td>\n",
       "      <td>0.773747</td>\n",
       "      <td>0.867988</td>\n",
       "      <td>0.868385</td>\n",
       "      <td>0.070289</td>\n",
       "    </tr>\n",
       "    <tr>\n",
       "      <th>2</th>\n",
       "      <td>XGBClassifier</td>\n",
       "      <td>{'base_score': 0.5, 'booster': 'gbtree', 'cols...</td>\n",
       "      <td>3.9017</td>\n",
       "      <td>0.618787</td>\n",
       "      <td>0.931821</td>\n",
       "      <td>0.599592</td>\n",
       "      <td>0.234703</td>\n",
       "      <td>0.60511</td>\n",
       "      <td>0.921172</td>\n",
       "      <td>0.590348</td>\n",
       "      <td>0.199746</td>\n",
       "    </tr>\n",
       "  </tbody>\n",
       "</table>\n",
       "</div>"
      ],
      "text/plain": [
       "                   ML_alg                                          ML_params  \\\n",
       "0  DecisionTreeClassifier  {'class_weight': 'balanced', 'criterion': 'gin...   \n",
       "1     ExtraTreeClassifier  {'class_weight': 'balanced', 'criterion': 'gin...   \n",
       "2           XGBClassifier  {'base_score': 0.5, 'booster': 'gbtree', 'cols...   \n",
       "\n",
       "  ML_runtime ML_train_accuracy ML_train_precision ML_train_recall  \\\n",
       "0   0.290853                 1                  1               1   \n",
       "1  0.0407172                 1                  1               1   \n",
       "2     3.9017          0.618787           0.931821        0.599592   \n",
       "\n",
       "  ML_train_mcc ML_test_accuracy ML_test_precision ML_test_recall ML_test_mcc  \n",
       "0            1         0.766847           0.86604       0.861539   0.0552833  \n",
       "1            1         0.773747          0.867988       0.868385    0.070289  \n",
       "2     0.234703          0.60511          0.921172       0.590348    0.199746  "
      ]
     },
     "execution_count": 15,
     "metadata": {},
     "output_type": "execute_result"
    }
   ],
   "source": [
    "#Spreadsheet of algorithms to filter initially\n",
    "tree_table,temp = baseline_ml(tree_algs,features,target,scoring,df)\n",
    "tree_table"
   ]
  },
  {
   "cell_type": "code",
   "execution_count": 16,
   "metadata": {},
   "outputs": [
    {
     "data": {
      "text/html": [
       "<div>\n",
       "<style scoped>\n",
       "    .dataframe tbody tr th:only-of-type {\n",
       "        vertical-align: middle;\n",
       "    }\n",
       "\n",
       "    .dataframe tbody tr th {\n",
       "        vertical-align: top;\n",
       "    }\n",
       "\n",
       "    .dataframe thead th {\n",
       "        text-align: right;\n",
       "    }\n",
       "</style>\n",
       "<table border=\"1\" class=\"dataframe\">\n",
       "  <thead>\n",
       "    <tr style=\"text-align: right;\">\n",
       "      <th></th>\n",
       "      <th>ML_alg</th>\n",
       "      <th>ML_params</th>\n",
       "      <th>ML_runtime</th>\n",
       "      <th>ML_train_accuracy</th>\n",
       "      <th>ML_train_precision</th>\n",
       "      <th>ML_train_recall</th>\n",
       "      <th>ML_train_mcc</th>\n",
       "      <th>ML_test_accuracy</th>\n",
       "      <th>ML_test_precision</th>\n",
       "      <th>ML_test_recall</th>\n",
       "      <th>ML_test_mcc</th>\n",
       "    </tr>\n",
       "  </thead>\n",
       "  <tbody>\n",
       "    <tr>\n",
       "      <th>0</th>\n",
       "      <td>AdaBoostClassifier</td>\n",
       "      <td>{'algorithm': 'SAMME.R', 'base_estimator__clas...</td>\n",
       "      <td>0.319139</td>\n",
       "      <td>1</td>\n",
       "      <td>1</td>\n",
       "      <td>1</td>\n",
       "      <td>1</td>\n",
       "      <td>0.764227</td>\n",
       "      <td>0.865296</td>\n",
       "      <td>0.85894</td>\n",
       "      <td>0.0497488</td>\n",
       "    </tr>\n",
       "    <tr>\n",
       "      <th>1</th>\n",
       "      <td>BaggingClassifier</td>\n",
       "      <td>{'base_estimator__class_weight': 'balanced', '...</td>\n",
       "      <td>1.92209</td>\n",
       "      <td>0.992485</td>\n",
       "      <td>0.992146</td>\n",
       "      <td>0.999152</td>\n",
       "      <td>0.968904</td>\n",
       "      <td>0.839893</td>\n",
       "      <td>0.86328</td>\n",
       "      <td>0.966468</td>\n",
       "      <td>0.0742776</td>\n",
       "    </tr>\n",
       "    <tr>\n",
       "      <th>2</th>\n",
       "      <td>ExtraTreesClassifier</td>\n",
       "      <td>{'bootstrap': False, 'class_weight': 'balanced...</td>\n",
       "      <td>0.291306</td>\n",
       "      <td>1</td>\n",
       "      <td>1</td>\n",
       "      <td>1</td>\n",
       "      <td>1</td>\n",
       "      <td>0.841556</td>\n",
       "      <td>0.863328</td>\n",
       "      <td>0.968694</td>\n",
       "      <td>0.077617</td>\n",
       "    </tr>\n",
       "    <tr>\n",
       "      <th>3</th>\n",
       "      <td>GradientBoostingClassifier</td>\n",
       "      <td>{'criterion': 'friedman_mse', 'init': None, 'l...</td>\n",
       "      <td>3.09462</td>\n",
       "      <td>0.860769</td>\n",
       "      <td>0.861087</td>\n",
       "      <td>0.998877</td>\n",
       "      <td>0.127295</td>\n",
       "      <td>0.857163</td>\n",
       "      <td>0.858863</td>\n",
       "      <td>0.997443</td>\n",
       "      <td>0.0381398</td>\n",
       "    </tr>\n",
       "    <tr>\n",
       "      <th>4</th>\n",
       "      <td>RandomForestClassifier</td>\n",
       "      <td>{'bootstrap': True, 'class_weight': 'balanced'...</td>\n",
       "      <td>0.402658</td>\n",
       "      <td>0.992434</td>\n",
       "      <td>0.991724</td>\n",
       "      <td>0.999523</td>\n",
       "      <td>0.968701</td>\n",
       "      <td>0.845059</td>\n",
       "      <td>0.862049</td>\n",
       "      <td>0.975541</td>\n",
       "      <td>0.066243</td>\n",
       "    </tr>\n",
       "  </tbody>\n",
       "</table>\n",
       "</div>"
      ],
      "text/plain": [
       "                       ML_alg  \\\n",
       "0          AdaBoostClassifier   \n",
       "1           BaggingClassifier   \n",
       "2        ExtraTreesClassifier   \n",
       "3  GradientBoostingClassifier   \n",
       "4      RandomForestClassifier   \n",
       "\n",
       "                                           ML_params ML_runtime  \\\n",
       "0  {'algorithm': 'SAMME.R', 'base_estimator__clas...   0.319139   \n",
       "1  {'base_estimator__class_weight': 'balanced', '...    1.92209   \n",
       "2  {'bootstrap': False, 'class_weight': 'balanced...   0.291306   \n",
       "3  {'criterion': 'friedman_mse', 'init': None, 'l...    3.09462   \n",
       "4  {'bootstrap': True, 'class_weight': 'balanced'...   0.402658   \n",
       "\n",
       "  ML_train_accuracy ML_train_precision ML_train_recall ML_train_mcc  \\\n",
       "0                 1                  1               1            1   \n",
       "1          0.992485           0.992146        0.999152     0.968904   \n",
       "2                 1                  1               1            1   \n",
       "3          0.860769           0.861087        0.998877     0.127295   \n",
       "4          0.992434           0.991724        0.999523     0.968701   \n",
       "\n",
       "  ML_test_accuracy ML_test_precision ML_test_recall ML_test_mcc  \n",
       "0         0.764227          0.865296        0.85894   0.0497488  \n",
       "1         0.839893           0.86328       0.966468   0.0742776  \n",
       "2         0.841556          0.863328       0.968694    0.077617  \n",
       "3         0.857163          0.858863       0.997443   0.0381398  \n",
       "4         0.845059          0.862049       0.975541    0.066243  "
      ]
     },
     "execution_count": 16,
     "metadata": {},
     "output_type": "execute_result"
    }
   ],
   "source": [
    "ensemble_table,temp = baseline_ml(ensemble_algs,features,target,scoring,df)\n",
    "ensemble_table"
   ]
  },
  {
   "cell_type": "code",
   "execution_count": 17,
   "metadata": {},
   "outputs": [
    {
     "data": {
      "text/html": [
       "<div>\n",
       "<style scoped>\n",
       "    .dataframe tbody tr th:only-of-type {\n",
       "        vertical-align: middle;\n",
       "    }\n",
       "\n",
       "    .dataframe tbody tr th {\n",
       "        vertical-align: top;\n",
       "    }\n",
       "\n",
       "    .dataframe thead th {\n",
       "        text-align: right;\n",
       "    }\n",
       "</style>\n",
       "<table border=\"1\" class=\"dataframe\">\n",
       "  <thead>\n",
       "    <tr style=\"text-align: right;\">\n",
       "      <th></th>\n",
       "      <th>ML_alg</th>\n",
       "      <th>ML_params</th>\n",
       "      <th>ML_runtime</th>\n",
       "      <th>ML_train_accuracy</th>\n",
       "      <th>ML_train_precision</th>\n",
       "      <th>ML_train_recall</th>\n",
       "      <th>ML_train_mcc</th>\n",
       "      <th>ML_test_accuracy</th>\n",
       "      <th>ML_test_precision</th>\n",
       "      <th>ML_test_recall</th>\n",
       "      <th>ML_test_mcc</th>\n",
       "    </tr>\n",
       "  </thead>\n",
       "  <tbody>\n",
       "    <tr>\n",
       "      <th>0</th>\n",
       "      <td>LogisticRegressionCV</td>\n",
       "      <td>{'Cs': 10, 'class_weight': 'balanced', 'cv': '...</td>\n",
       "      <td>1.20854</td>\n",
       "      <td>0.568375</td>\n",
       "      <td>0.909948</td>\n",
       "      <td>0.551578</td>\n",
       "      <td>0.154744</td>\n",
       "      <td>0.566995</td>\n",
       "      <td>0.90886</td>\n",
       "      <td>0.550629</td>\n",
       "      <td>0.151302</td>\n",
       "    </tr>\n",
       "  </tbody>\n",
       "</table>\n",
       "</div>"
      ],
      "text/plain": [
       "                 ML_alg                                          ML_params  \\\n",
       "0  LogisticRegressionCV  {'Cs': 10, 'class_weight': 'balanced', 'cv': '...   \n",
       "\n",
       "  ML_runtime ML_train_accuracy ML_train_precision ML_train_recall  \\\n",
       "0    1.20854          0.568375           0.909948        0.551578   \n",
       "\n",
       "  ML_train_mcc ML_test_accuracy ML_test_precision ML_test_recall ML_test_mcc  \n",
       "0     0.154744         0.566995           0.90886       0.550629    0.151302  "
      ]
     },
     "execution_count": 17,
     "metadata": {},
     "output_type": "execute_result"
    }
   ],
   "source": [
    "#oh wow! one of the highest mcc thus far\n",
    "linear_table,temp = baseline_ml(linear_algs,features,target,scoring,df)\n",
    "linear_table"
   ]
  },
  {
   "cell_type": "code",
   "execution_count": 18,
   "metadata": {},
   "outputs": [
    {
     "data": {
      "text/html": [
       "<div>\n",
       "<style scoped>\n",
       "    .dataframe tbody tr th:only-of-type {\n",
       "        vertical-align: middle;\n",
       "    }\n",
       "\n",
       "    .dataframe tbody tr th {\n",
       "        vertical-align: top;\n",
       "    }\n",
       "\n",
       "    .dataframe thead th {\n",
       "        text-align: right;\n",
       "    }\n",
       "</style>\n",
       "<table border=\"1\" class=\"dataframe\">\n",
       "  <thead>\n",
       "    <tr style=\"text-align: right;\">\n",
       "      <th></th>\n",
       "      <th>ML_alg</th>\n",
       "      <th>ML_params</th>\n",
       "      <th>ML_runtime</th>\n",
       "      <th>ML_train_accuracy</th>\n",
       "      <th>ML_train_precision</th>\n",
       "      <th>ML_train_recall</th>\n",
       "      <th>ML_train_mcc</th>\n",
       "      <th>ML_test_accuracy</th>\n",
       "      <th>ML_test_precision</th>\n",
       "      <th>ML_test_recall</th>\n",
       "      <th>ML_test_mcc</th>\n",
       "    </tr>\n",
       "  </thead>\n",
       "  <tbody>\n",
       "    <tr>\n",
       "      <th>0</th>\n",
       "      <td>LinearDiscriminantAnalysis</td>\n",
       "      <td>{'n_components': None, 'priors': None, 'shrink...</td>\n",
       "      <td>0.148253</td>\n",
       "      <td>0.856837</td>\n",
       "      <td>0.860107</td>\n",
       "      <td>0.994982</td>\n",
       "      <td>0.0683083</td>\n",
       "      <td>0.856455</td>\n",
       "      <td>0.859966</td>\n",
       "      <td>0.994679</td>\n",
       "      <td>0.06333</td>\n",
       "    </tr>\n",
       "    <tr>\n",
       "      <th>1</th>\n",
       "      <td>QuadraticDiscriminantAnalysis</td>\n",
       "      <td>{'priors': None, 'reg_param': 0.0, 'store_cova...</td>\n",
       "      <td>0.069878</td>\n",
       "      <td>0.143663</td>\n",
       "      <td>0.869738</td>\n",
       "      <td>0.00233268</td>\n",
       "      <td>0.00178845</td>\n",
       "      <td>0.143686</td>\n",
       "      <td>0.860714</td>\n",
       "      <td>0.0024335</td>\n",
       "      <td>-0.000106952</td>\n",
       "    </tr>\n",
       "  </tbody>\n",
       "</table>\n",
       "</div>"
      ],
      "text/plain": [
       "                          ML_alg  \\\n",
       "0     LinearDiscriminantAnalysis   \n",
       "1  QuadraticDiscriminantAnalysis   \n",
       "\n",
       "                                           ML_params ML_runtime  \\\n",
       "0  {'n_components': None, 'priors': None, 'shrink...   0.148253   \n",
       "1  {'priors': None, 'reg_param': 0.0, 'store_cova...   0.069878   \n",
       "\n",
       "  ML_train_accuracy ML_train_precision ML_train_recall ML_train_mcc  \\\n",
       "0          0.856837           0.860107        0.994982    0.0683083   \n",
       "1          0.143663           0.869738      0.00233268   0.00178845   \n",
       "\n",
       "  ML_test_accuracy ML_test_precision ML_test_recall  ML_test_mcc  \n",
       "0         0.856455          0.859966       0.994679      0.06333  \n",
       "1         0.143686          0.860714      0.0024335 -0.000106952  "
      ]
     },
     "execution_count": 18,
     "metadata": {},
     "output_type": "execute_result"
    }
   ],
   "source": [
    "da_table,temp = baseline_ml(da_algs,features,target,scoring,df)\n",
    "da_table"
   ]
  },
  {
   "cell_type": "code",
   "execution_count": 19,
   "metadata": {},
   "outputs": [
    {
     "name": "stdout",
     "output_type": "stream",
     "text": [
      "1    0.858048\n",
      "0    0.141952\n",
      "Name: loan_status, dtype: float64\n",
      "1    0.8537\n",
      "0    0.1463\n",
      "Name: loan_status, dtype: float64\n"
     ]
    }
   ],
   "source": [
    "X_train, X_test, y_train, y_test = model_selection.train_test_split(df[features], df[target], test_size=0.25, random_state=1)\n",
    "print(y_train.value_counts(normalize=True))\n",
    "print(y_test.value_counts(normalize=True))"
   ]
  },
  {
   "cell_type": "code",
   "execution_count": 20,
   "metadata": {},
   "outputs": [
    {
     "name": "stdout",
     "output_type": "stream",
     "text": [
      "accuracy baseline:  0.85 \n",
      "precision baseline:  0.85 \n",
      "recall_baseline:  1.0\n",
      "Keep in mind that the recall baseline is meaningless here since we don't predict 0 at all.\n",
      "However, we can see that it's very high toward 1\n",
      "Therefore, let's use a different benchmark to tune in our data, Mathew Correlation Coefficient.\n",
      "A -1 means we classified everything wrong. A 1 means we classified everything right\n",
      "MCC is a balanced metric, so our imbalanced dataset is good enough.\n"
     ]
    }
   ],
   "source": [
    "#so our baseline prediction is (let's assume everything is 1 for our loan target)\n",
    "acc_baseline = 0.85 #a very meaningless stats here\n",
    "prec_baseline = 0.85/(0.85+0.15)\n",
    "rec_baseline = 0.85/(0.85+0) #we never predict 0 for false negative\n",
    "\n",
    "print(\"accuracy baseline: \",acc_baseline, \"\\nprecision baseline: \", prec_baseline, \"\\nrecall_baseline: \",rec_baseline)\n",
    "print(\"Keep in mind that the recall baseline is meaningless here since we don't predict 0 at all.\\nHowever, we can see that it's very high toward 1\")\n",
    "print(\"Therefore, let's use a different benchmark to tune in our data, Mathew Correlation Coefficient.\\nA -1 means we classified everything wrong. A 1 means we classified everything right\")\n",
    "print(\"MCC is a balanced metric, so our imbalanced dataset is good enough.\")"
   ]
  },
  {
   "cell_type": "markdown",
   "metadata": {},
   "source": [
    "# Algorithms Focus #1:"
   ]
  },
  {
   "cell_type": "markdown",
   "metadata": {},
   "source": [
    "What we've learned?\n",
    "Our tree models are overfitting, which is expected in the default state (this is also seen with perfect/near perfect score on the training set).\n",
    "The overfitting continues with ensemble algorithms.\n",
    "Logistic regression seems to be competitive enough surprisingly.\n",
    "Due ot the limitation toward imbalance dataset on the current baseline, LDA and QDA probably are not a good idea to be used.\n",
    "\n",
    "Let's keep:\n",
    "XGBClassifier, all of the ensemble techniques, and Logistic Regression."
   ]
  },
  {
   "cell_type": "code",
   "execution_count": 21,
   "metadata": {},
   "outputs": [
    {
     "data": {
      "text/html": [
       "<div>\n",
       "<style scoped>\n",
       "    .dataframe tbody tr th:only-of-type {\n",
       "        vertical-align: middle;\n",
       "    }\n",
       "\n",
       "    .dataframe tbody tr th {\n",
       "        vertical-align: top;\n",
       "    }\n",
       "\n",
       "    .dataframe thead th {\n",
       "        text-align: right;\n",
       "    }\n",
       "</style>\n",
       "<table border=\"1\" class=\"dataframe\">\n",
       "  <thead>\n",
       "    <tr style=\"text-align: right;\">\n",
       "      <th></th>\n",
       "      <th>ML_alg</th>\n",
       "      <th>ML_params</th>\n",
       "      <th>ML_runtime</th>\n",
       "      <th>ML_train_accuracy</th>\n",
       "      <th>ML_train_precision</th>\n",
       "      <th>ML_train_recall</th>\n",
       "      <th>ML_train_mcc</th>\n",
       "      <th>ML_test_accuracy</th>\n",
       "      <th>ML_test_precision</th>\n",
       "      <th>ML_test_recall</th>\n",
       "      <th>ML_test_mcc</th>\n",
       "    </tr>\n",
       "  </thead>\n",
       "  <tbody>\n",
       "    <tr>\n",
       "      <th>0</th>\n",
       "      <td>DecisionTreeClassifier</td>\n",
       "      <td>{'class_weight': 'balanced', 'criterion': 'gin...</td>\n",
       "      <td>0.290521</td>\n",
       "      <td>1</td>\n",
       "      <td>1</td>\n",
       "      <td>1</td>\n",
       "      <td>1</td>\n",
       "      <td>0.766846</td>\n",
       "      <td>0.866522</td>\n",
       "      <td>0.860878</td>\n",
       "      <td>0.05846</td>\n",
       "    </tr>\n",
       "    <tr>\n",
       "      <th>1</th>\n",
       "      <td>ExtraTreeClassifier</td>\n",
       "      <td>{'class_weight': 'balanced', 'criterion': 'gin...</td>\n",
       "      <td>0.0397331</td>\n",
       "      <td>1</td>\n",
       "      <td>1</td>\n",
       "      <td>1</td>\n",
       "      <td>1</td>\n",
       "      <td>0.771269</td>\n",
       "      <td>0.867123</td>\n",
       "      <td>0.866157</td>\n",
       "      <td>0.0638065</td>\n",
       "    </tr>\n",
       "    <tr>\n",
       "      <th>2</th>\n",
       "      <td>XGBClassifier</td>\n",
       "      <td>{'base_score': 0.5, 'booster': 'gbtree', 'cols...</td>\n",
       "      <td>4.11041</td>\n",
       "      <td>0.618787</td>\n",
       "      <td>0.931821</td>\n",
       "      <td>0.599592</td>\n",
       "      <td>0.234703</td>\n",
       "      <td>0.60511</td>\n",
       "      <td>0.921172</td>\n",
       "      <td>0.590348</td>\n",
       "      <td>0.199746</td>\n",
       "    </tr>\n",
       "    <tr>\n",
       "      <th>3</th>\n",
       "      <td>AdaBoostClassifier</td>\n",
       "      <td>{'algorithm': 'SAMME.R', 'base_estimator__clas...</td>\n",
       "      <td>0.300738</td>\n",
       "      <td>1</td>\n",
       "      <td>1</td>\n",
       "      <td>1</td>\n",
       "      <td>1</td>\n",
       "      <td>0.765112</td>\n",
       "      <td>0.866431</td>\n",
       "      <td>0.85861</td>\n",
       "      <td>0.0574178</td>\n",
       "    </tr>\n",
       "    <tr>\n",
       "      <th>4</th>\n",
       "      <td>BaggingClassifier</td>\n",
       "      <td>{'base_estimator__class_weight': 'balanced', '...</td>\n",
       "      <td>1.78419</td>\n",
       "      <td>0.992513</td>\n",
       "      <td>0.991994</td>\n",
       "      <td>0.99934</td>\n",
       "      <td>0.969022</td>\n",
       "      <td>0.838831</td>\n",
       "      <td>0.863691</td>\n",
       "      <td>0.964364</td>\n",
       "      <td>0.077601</td>\n",
       "    </tr>\n",
       "    <tr>\n",
       "      <th>5</th>\n",
       "      <td>ExtraTreesClassifier</td>\n",
       "      <td>{'bootstrap': False, 'class_weight': 'balanced...</td>\n",
       "      <td>0.295103</td>\n",
       "      <td>1</td>\n",
       "      <td>1</td>\n",
       "      <td>1</td>\n",
       "      <td>1</td>\n",
       "      <td>0.841486</td>\n",
       "      <td>0.863505</td>\n",
       "      <td>0.968323</td>\n",
       "      <td>0.0795329</td>\n",
       "    </tr>\n",
       "    <tr>\n",
       "      <th>6</th>\n",
       "      <td>GradientBoostingClassifier</td>\n",
       "      <td>{'criterion': 'friedman_mse', 'init': None, 'l...</td>\n",
       "      <td>3.01668</td>\n",
       "      <td>0.860769</td>\n",
       "      <td>0.861087</td>\n",
       "      <td>0.998877</td>\n",
       "      <td>0.127295</td>\n",
       "      <td>0.857163</td>\n",
       "      <td>0.858863</td>\n",
       "      <td>0.997443</td>\n",
       "      <td>0.0381398</td>\n",
       "    </tr>\n",
       "    <tr>\n",
       "      <th>7</th>\n",
       "      <td>RandomForestClassifier</td>\n",
       "      <td>{'bootstrap': True, 'class_weight': 'balanced'...</td>\n",
       "      <td>0.423634</td>\n",
       "      <td>0.99291</td>\n",
       "      <td>0.992212</td>\n",
       "      <td>0.999583</td>\n",
       "      <td>0.970684</td>\n",
       "      <td>0.846156</td>\n",
       "      <td>0.862947</td>\n",
       "      <td>0.975665</td>\n",
       "      <td>0.0797516</td>\n",
       "    </tr>\n",
       "    <tr>\n",
       "      <th>8</th>\n",
       "      <td>LogisticRegressionCV</td>\n",
       "      <td>{'Cs': 10, 'class_weight': 'balanced', 'cv': '...</td>\n",
       "      <td>1.40733</td>\n",
       "      <td>0.568375</td>\n",
       "      <td>0.909948</td>\n",
       "      <td>0.551578</td>\n",
       "      <td>0.154744</td>\n",
       "      <td>0.566995</td>\n",
       "      <td>0.90886</td>\n",
       "      <td>0.550629</td>\n",
       "      <td>0.151302</td>\n",
       "    </tr>\n",
       "  </tbody>\n",
       "</table>\n",
       "</div>"
      ],
      "text/plain": [
       "                       ML_alg  \\\n",
       "0      DecisionTreeClassifier   \n",
       "1         ExtraTreeClassifier   \n",
       "2               XGBClassifier   \n",
       "3          AdaBoostClassifier   \n",
       "4           BaggingClassifier   \n",
       "5        ExtraTreesClassifier   \n",
       "6  GradientBoostingClassifier   \n",
       "7      RandomForestClassifier   \n",
       "8        LogisticRegressionCV   \n",
       "\n",
       "                                           ML_params ML_runtime  \\\n",
       "0  {'class_weight': 'balanced', 'criterion': 'gin...   0.290521   \n",
       "1  {'class_weight': 'balanced', 'criterion': 'gin...  0.0397331   \n",
       "2  {'base_score': 0.5, 'booster': 'gbtree', 'cols...    4.11041   \n",
       "3  {'algorithm': 'SAMME.R', 'base_estimator__clas...   0.300738   \n",
       "4  {'base_estimator__class_weight': 'balanced', '...    1.78419   \n",
       "5  {'bootstrap': False, 'class_weight': 'balanced...   0.295103   \n",
       "6  {'criterion': 'friedman_mse', 'init': None, 'l...    3.01668   \n",
       "7  {'bootstrap': True, 'class_weight': 'balanced'...   0.423634   \n",
       "8  {'Cs': 10, 'class_weight': 'balanced', 'cv': '...    1.40733   \n",
       "\n",
       "  ML_train_accuracy ML_train_precision ML_train_recall ML_train_mcc  \\\n",
       "0                 1                  1               1            1   \n",
       "1                 1                  1               1            1   \n",
       "2          0.618787           0.931821        0.599592     0.234703   \n",
       "3                 1                  1               1            1   \n",
       "4          0.992513           0.991994         0.99934     0.969022   \n",
       "5                 1                  1               1            1   \n",
       "6          0.860769           0.861087        0.998877     0.127295   \n",
       "7           0.99291           0.992212        0.999583     0.970684   \n",
       "8          0.568375           0.909948        0.551578     0.154744   \n",
       "\n",
       "  ML_test_accuracy ML_test_precision ML_test_recall ML_test_mcc  \n",
       "0         0.766846          0.866522       0.860878     0.05846  \n",
       "1         0.771269          0.867123       0.866157   0.0638065  \n",
       "2          0.60511          0.921172       0.590348    0.199746  \n",
       "3         0.765112          0.866431        0.85861   0.0574178  \n",
       "4         0.838831          0.863691       0.964364    0.077601  \n",
       "5         0.841486          0.863505       0.968323   0.0795329  \n",
       "6         0.857163          0.858863       0.997443   0.0381398  \n",
       "7         0.846156          0.862947       0.975665   0.0797516  \n",
       "8         0.566995           0.90886       0.550629    0.151302  "
      ]
     },
     "execution_count": 21,
     "metadata": {},
     "output_type": "execute_result"
    }
   ],
   "source": [
    "#let's put them all in a table\n",
    "algs_set1 = [tree.DecisionTreeClassifier(class_weight=\"balanced\"), tree.ExtraTreeClassifier(class_weight=\"balanced\"),\n",
    "             XGBClassifier(scale_pos_weight=0.15),ensemble.AdaBoostClassifier(base_estimator=tree.DecisionTreeClassifier(class_weight=\"balanced\")), \n",
    "             ensemble.BaggingClassifier(base_estimator=tree.DecisionTreeClassifier(class_weight=\"balanced\")), \n",
    "             ensemble.ExtraTreesClassifier(class_weight=\"balanced\"), ensemble.GradientBoostingClassifier(), \n",
    "             ensemble.RandomForestClassifier(class_weight=\"balanced\"),linear_model.LogisticRegressionCV(class_weight=\"balanced\")] \n",
    "table_set1,temp = baseline_ml(algs_set1,features,target,scoring,df)\n",
    "table_set1"
   ]
  },
  {
   "cell_type": "code",
   "execution_count": 22,
   "metadata": {
    "collapsed": true
   },
   "outputs": [],
   "source": [
    "#we're going to use a benchmark of Mathew's correlation coefficent to determine our imbalanced dataset.\n",
    "#refer to:https://lettier.github.io/posts/2016-08-05-matthews-correlation-coefficient.html\n",
    "#we can also try the \"balanced_accuracy\" scorer, which is also designed for imbalanced dataset. It takes into account of the average macro recall.\n",
    "#Let's stick with the former.\n",
    "\n",
    "mcc_scorer = make_scorer(matthews_corrcoef)\n",
    "\n",
    "def tuning_grid(model_,features,target,hyperparams,df):\n",
    "    global mcc_scorer\n",
    "    X_train, X_test, y_train, y_test = model_selection.train_test_split(df[features], df[target], test_size=0.25, random_state=1)\n",
    "    model = model_selection.GridSearchCV(model_,param_grid=hyperparams,scoring=mcc_scorer, cv = 10)\n",
    "    model.fit(X_train,y_train)\n",
    "    print(model.best_params_)\n",
    "    print(model.cv_results_['mean_train_score'])\n",
    "    print(model.cv_results_['mean_test_score'])\n",
    "    return model"
   ]
  },
  {
   "cell_type": "code",
   "execution_count": 23,
   "metadata": {
    "collapsed": true
   },
   "outputs": [],
   "source": [
    "#fine-tunning hyperparameters with GridsearchCV\n",
    "#Store the estimators in this dictionary for later usage\n",
    "hyper_tuning = {}\n",
    "Y_pred = pd.DataFrame()"
   ]
  },
  {
   "cell_type": "code",
   "execution_count": 24,
   "metadata": {
    "collapsed": true,
    "scrolled": true
   },
   "outputs": [],
   "source": [
    "XGBClassifier_hp = {\"eta\":[0.1,0.2], #learning rate\n",
    "                    \"min_child_weight\":[1], #“sum of weights” of observations while GBM has min “number of observations”.\n",
    "                    #used lower number because of class imbalance\n",
    "                    \"max_depth\":[3,6,9,13], #pruning to control overfitting\n",
    "                    \"scale_pos_weight\":[0.17,0.1] #the ratio of positive to negative (0.15/0.85), imbalanced dataset\n",
    "                   }\n",
    "\n",
    "#manually optimize, testing\n",
    "#tune_model = model_selection.GridSearchCV(XGBClassifier(),param_grid=XGBClassifier_hp,scoring=\"matthews_corrcoef\", cv = 2)\n",
    "#fit to tune the gridsearch\n",
    "#tune_model.fit(X_test,y_test)\n",
    "\n",
    "#print(tune_model.cv_results_.keys())\n",
    "#print(tune_model.cv_results_['params'])\n",
    "#print(tune_model.best_params_)"
   ]
  },
  {
   "cell_type": "code",
   "execution_count": 25,
   "metadata": {},
   "outputs": [
    {
     "data": {
      "text/plain": [
       "'\\nXGB_model = tuning_grid(XGBClassifier(),features,target,XGBClassifier_hp,df)\\nXGB_model\\n'"
      ]
     },
     "execution_count": 25,
     "metadata": {},
     "output_type": "execute_result"
    }
   ],
   "source": [
    "'''\n",
    "XGB_model = tuning_grid(XGBClassifier(),features,target,XGBClassifier_hp,df)\n",
    "XGB_model\n",
    "'''"
   ]
  },
  {
   "cell_type": "code",
   "execution_count": 26,
   "metadata": {},
   "outputs": [
    {
     "data": {
      "text/html": [
       "<div>\n",
       "<style scoped>\n",
       "    .dataframe tbody tr th:only-of-type {\n",
       "        vertical-align: middle;\n",
       "    }\n",
       "\n",
       "    .dataframe tbody tr th {\n",
       "        vertical-align: top;\n",
       "    }\n",
       "\n",
       "    .dataframe thead th {\n",
       "        text-align: right;\n",
       "    }\n",
       "</style>\n",
       "<table border=\"1\" class=\"dataframe\">\n",
       "  <thead>\n",
       "    <tr style=\"text-align: right;\">\n",
       "      <th></th>\n",
       "      <th>ML_alg</th>\n",
       "      <th>ML_params</th>\n",
       "      <th>ML_runtime</th>\n",
       "      <th>ML_train_accuracy</th>\n",
       "      <th>ML_train_precision</th>\n",
       "      <th>ML_train_recall</th>\n",
       "      <th>ML_train_mcc</th>\n",
       "      <th>ML_test_accuracy</th>\n",
       "      <th>ML_test_precision</th>\n",
       "      <th>ML_test_recall</th>\n",
       "      <th>ML_test_mcc</th>\n",
       "    </tr>\n",
       "  </thead>\n",
       "  <tbody>\n",
       "    <tr>\n",
       "      <th>0</th>\n",
       "      <td>XGBClassifier</td>\n",
       "      <td>{'base_score': 0.5, 'booster': 'gbtree', 'cols...</td>\n",
       "      <td>4.03872</td>\n",
       "      <td>0.667414</td>\n",
       "      <td>0.924858</td>\n",
       "      <td>0.666548</td>\n",
       "      <td>0.243697</td>\n",
       "      <td>0.653241</td>\n",
       "      <td>0.913635</td>\n",
       "      <td>0.658114</td>\n",
       "      <td>0.202515</td>\n",
       "    </tr>\n",
       "  </tbody>\n",
       "</table>\n",
       "</div>"
      ],
      "text/plain": [
       "          ML_alg                                          ML_params  \\\n",
       "0  XGBClassifier  {'base_score': 0.5, 'booster': 'gbtree', 'cols...   \n",
       "\n",
       "  ML_runtime ML_train_accuracy ML_train_precision ML_train_recall  \\\n",
       "0    4.03872          0.667414           0.924858        0.666548   \n",
       "\n",
       "  ML_train_mcc ML_test_accuracy ML_test_precision ML_test_recall ML_test_mcc  \n",
       "0     0.243697         0.653241          0.913635       0.658114    0.202515  "
      ]
     },
     "execution_count": 26,
     "metadata": {},
     "output_type": "execute_result"
    }
   ],
   "source": [
    "current_model = [XGBClassifier(eta=0.1, max_depth=3, min_child_weight=1,scale_pos_weight=0.17,random_state=1)]\n",
    "current_table,y_pred = baseline_ml(current_model,features,target,scoring,df)\n",
    "#assigning the best XGBClassfier hyperparameters we have\n",
    "hyper_tuning[\"XGBClassifier\"] = current_model\n",
    "Y_pred[\"XGBClassifier\"] = y_pred\n",
    "current_table\n",
    "#we did improve the mcc value quite a bit here from the default. \n",
    "#at the expense of higher precision, we have been lowering our recall rate.\n",
    "\n"
   ]
  },
  {
   "cell_type": "code",
   "execution_count": 27,
   "metadata": {},
   "outputs": [
    {
     "data": {
      "text/plain": [
       "'\\nAdaBoostClassifier_hp = {\"base_estimator\":[tree.DecisionTreeClassifier(class_weight=\\'balanced\\',max_depth=3)],\\n                         \"n_estimators\":[100,250,400,550],\"learning_rate\":[0.3,0.6,1,1.5],\\n                         \"algorithm\":[\"SAMME\",\"SAMME.R\"],\"random_state\":[1]}\\nAdaBoostClassifier_model = tuning_grid(ensemble.AdaBoostClassifier(),features,target,AdaBoostClassifier_hp,df)\\nAdaBoostClassifier_model\\n'"
      ]
     },
     "execution_count": 27,
     "metadata": {},
     "output_type": "execute_result"
    }
   ],
   "source": [
    "#AdaBoostClassfier, max_depth has to be minimum of 3 to perform better than random guesses(error).\n",
    "#we want weak learners so we use max_depth=3 for each learner.\n",
    "'''\n",
    "AdaBoostClassifier_hp = {\"base_estimator\":[tree.DecisionTreeClassifier(class_weight='balanced',max_depth=3)],\n",
    "                         \"n_estimators\":[100,250,400,550],\"learning_rate\":[0.3,0.6,1,1.5],\n",
    "                         \"algorithm\":[\"SAMME\",\"SAMME.R\"],\"random_state\":[1]}\n",
    "AdaBoostClassifier_model = tuning_grid(ensemble.AdaBoostClassifier(),features,target,AdaBoostClassifier_hp,df)\n",
    "AdaBoostClassifier_model\n",
    "'''"
   ]
  },
  {
   "cell_type": "code",
   "execution_count": 28,
   "metadata": {},
   "outputs": [
    {
     "data": {
      "text/html": [
       "<div>\n",
       "<style scoped>\n",
       "    .dataframe tbody tr th:only-of-type {\n",
       "        vertical-align: middle;\n",
       "    }\n",
       "\n",
       "    .dataframe tbody tr th {\n",
       "        vertical-align: top;\n",
       "    }\n",
       "\n",
       "    .dataframe thead th {\n",
       "        text-align: right;\n",
       "    }\n",
       "</style>\n",
       "<table border=\"1\" class=\"dataframe\">\n",
       "  <thead>\n",
       "    <tr style=\"text-align: right;\">\n",
       "      <th></th>\n",
       "      <th>ML_alg</th>\n",
       "      <th>ML_params</th>\n",
       "      <th>ML_runtime</th>\n",
       "      <th>ML_train_accuracy</th>\n",
       "      <th>ML_train_precision</th>\n",
       "      <th>ML_train_recall</th>\n",
       "      <th>ML_train_mcc</th>\n",
       "      <th>ML_test_accuracy</th>\n",
       "      <th>ML_test_precision</th>\n",
       "      <th>ML_test_recall</th>\n",
       "      <th>ML_test_mcc</th>\n",
       "    </tr>\n",
       "  </thead>\n",
       "  <tbody>\n",
       "    <tr>\n",
       "      <th>0</th>\n",
       "      <td>AdaBoostClassifier</td>\n",
       "      <td>{'algorithm': 'SAMME.R', 'base_estimator__clas...</td>\n",
       "      <td>6.53869</td>\n",
       "      <td>0.686544</td>\n",
       "      <td>0.940593</td>\n",
       "      <td>0.677478</td>\n",
       "      <td>0.300853</td>\n",
       "      <td>0.650871</td>\n",
       "      <td>0.908663</td>\n",
       "      <td>0.659434</td>\n",
       "      <td>0.186145</td>\n",
       "    </tr>\n",
       "  </tbody>\n",
       "</table>\n",
       "</div>"
      ],
      "text/plain": [
       "               ML_alg                                          ML_params  \\\n",
       "0  AdaBoostClassifier  {'algorithm': 'SAMME.R', 'base_estimator__clas...   \n",
       "\n",
       "  ML_runtime ML_train_accuracy ML_train_precision ML_train_recall  \\\n",
       "0    6.53869          0.686544           0.940593        0.677478   \n",
       "\n",
       "  ML_train_mcc ML_test_accuracy ML_test_precision ML_test_recall ML_test_mcc  \n",
       "0     0.300853         0.650871          0.908663       0.659434    0.186145  "
      ]
     },
     "execution_count": 28,
     "metadata": {},
     "output_type": "execute_result"
    }
   ],
   "source": [
    "#the learning rate and n_estimators are inversely related (somewhat) due to the effectiveness of each weak leaner.\n",
    "#using balanced decisiontree for class imbalance, keep default hyperparam\n",
    "current_model = [ensemble.AdaBoostClassifier(base_estimator=tree.DecisionTreeClassifier(class_weight='balanced',max_depth=3),\n",
    "                                             n_estimators=100,learning_rate=0.3,algorithm=\"SAMME.R\",random_state=1)]\n",
    "current_table, y_pred = baseline_ml(current_model,features,target,scoring,df)\n",
    "hyper_tuning[\"AdaBoostClassifier\"] = current_model\n",
    "Y_pred[\"AdaBoostClassifier\"] = y_pred\n",
    "current_table"
   ]
  },
  {
   "cell_type": "code",
   "execution_count": 29,
   "metadata": {},
   "outputs": [
    {
     "data": {
      "text/plain": [
       "'\\nBaggingClassifier_hp = {\"base_estimator\":[tree.DecisionTreeClassifier(class_weight=\\'balanced\\',max_depth=3)],\\n                        \"n_estimators\":[10,30,50,70,90],\"max_samples\":[0.7,1],\"max_features\":[0.5,0.7,1],\"random_state\":[1]}\\nBaggingClassifier_model = tuning_grid(ensemble.BaggingClassifier(),features,target,BaggingClassifier_hp,df)\\nBaggingClassifier_model\\n'"
      ]
     },
     "execution_count": 29,
     "metadata": {},
     "output_type": "execute_result"
    }
   ],
   "source": [
    "#max_samples is for the number of observations being used max_samples*total_sample_size\n",
    "#max_features = max_features*total_features\n",
    "#same weak learner as the previous AdaBoost for the base_estimator\n",
    "'''\n",
    "BaggingClassifier_hp = {\"base_estimator\":[tree.DecisionTreeClassifier(class_weight='balanced',max_depth=3)],\n",
    "                        \"n_estimators\":[10,30,50,70,90],\"max_samples\":[0.7,1],\"max_features\":[0.5,0.7,1],\"random_state\":[1]}\n",
    "BaggingClassifier_model = tuning_grid(ensemble.BaggingClassifier(),features,target,BaggingClassifier_hp,df)\n",
    "BaggingClassifier_model\n",
    "'''"
   ]
  },
  {
   "cell_type": "code",
   "execution_count": 30,
   "metadata": {},
   "outputs": [
    {
     "data": {
      "text/html": [
       "<div>\n",
       "<style scoped>\n",
       "    .dataframe tbody tr th:only-of-type {\n",
       "        vertical-align: middle;\n",
       "    }\n",
       "\n",
       "    .dataframe tbody tr th {\n",
       "        vertical-align: top;\n",
       "    }\n",
       "\n",
       "    .dataframe thead th {\n",
       "        text-align: right;\n",
       "    }\n",
       "</style>\n",
       "<table border=\"1\" class=\"dataframe\">\n",
       "  <thead>\n",
       "    <tr style=\"text-align: right;\">\n",
       "      <th></th>\n",
       "      <th>ML_alg</th>\n",
       "      <th>ML_params</th>\n",
       "      <th>ML_runtime</th>\n",
       "      <th>ML_train_accuracy</th>\n",
       "      <th>ML_train_precision</th>\n",
       "      <th>ML_train_recall</th>\n",
       "      <th>ML_train_mcc</th>\n",
       "      <th>ML_test_accuracy</th>\n",
       "      <th>ML_test_precision</th>\n",
       "      <th>ML_test_recall</th>\n",
       "      <th>ML_test_mcc</th>\n",
       "    </tr>\n",
       "  </thead>\n",
       "  <tbody>\n",
       "    <tr>\n",
       "      <th>0</th>\n",
       "      <td>BaggingClassifier</td>\n",
       "      <td>{'base_estimator__class_weight': 'balanced', '...</td>\n",
       "      <td>1.82058</td>\n",
       "      <td>0.635389</td>\n",
       "      <td>0.916587</td>\n",
       "      <td>0.632648</td>\n",
       "      <td>0.202151</td>\n",
       "      <td>0.632327</td>\n",
       "      <td>0.91378</td>\n",
       "      <td>0.6311</td>\n",
       "      <td>0.192445</td>\n",
       "    </tr>\n",
       "  </tbody>\n",
       "</table>\n",
       "</div>"
      ],
      "text/plain": [
       "              ML_alg                                          ML_params  \\\n",
       "0  BaggingClassifier  {'base_estimator__class_weight': 'balanced', '...   \n",
       "\n",
       "  ML_runtime ML_train_accuracy ML_train_precision ML_train_recall  \\\n",
       "0    1.82058          0.635389           0.916587        0.632648   \n",
       "\n",
       "  ML_train_mcc ML_test_accuracy ML_test_precision ML_test_recall ML_test_mcc  \n",
       "0     0.202151         0.632327           0.91378         0.6311    0.192445  "
      ]
     },
     "execution_count": 30,
     "metadata": {},
     "output_type": "execute_result"
    }
   ],
   "source": [
    "#the learning rate and n_estimators are inversely related (somewhat) due to the effectiveness of each weak leaner.\n",
    "#perhaps one of the better mcc value thus far.\n",
    "current_model = [ensemble.BaggingClassifier(base_estimator=tree.DecisionTreeClassifier(class_weight='balanced',max_depth=3),\n",
    "                                            n_estimators=90,max_samples=0.7,max_features=0.5,random_state=1)] \n",
    "current_table, y_pred = baseline_ml(current_model,features,target,scoring,df)\n",
    "Y_pred[\"BaggingClassifier\"] = y_pred\n",
    "hyper_tuning[\"BaggingClassifier\"] = current_model\n",
    "current_table"
   ]
  },
  {
   "cell_type": "code",
   "execution_count": 31,
   "metadata": {},
   "outputs": [
    {
     "data": {
      "text/plain": [
       "'\\nExtraTreeClassifier_hp = {\"class_weight\":[\"balanced\",{0:1,1:1},{0:7,1:1},{0:10,1:1}],\"criterion\":[\"gini\",\"entropy\"],\\n                          \"max_depth\":[5,10,15],\"min_samples_leaf\":[3,6,9,12],\"random_state\":[1]}\\nExtraTreeClassifier_model = tuning_grid(tree.ExtraTreeClassifier(),features,target,ExtraTreeClassifier_hp,df)\\nExtraTreeClassifier_model\\n'"
      ]
     },
     "execution_count": 31,
     "metadata": {},
     "output_type": "execute_result"
    }
   ],
   "source": [
    "#balanced weight = 0.85/0.15 = 0.56\n",
    "'''\n",
    "ExtraTreeClassifier_hp = {\"class_weight\":[\"balanced\",{0:1,1:1},{0:7,1:1},{0:10,1:1}],\"criterion\":[\"gini\",\"entropy\"],\n",
    "                          \"max_depth\":[5,10,15],\"min_samples_leaf\":[3,6,9,12],\"random_state\":[1]}\n",
    "ExtraTreeClassifier_model = tuning_grid(tree.ExtraTreeClassifier(),features,target,ExtraTreeClassifier_hp,df)\n",
    "ExtraTreeClassifier_model\n",
    "'''"
   ]
  },
  {
   "cell_type": "code",
   "execution_count": 32,
   "metadata": {},
   "outputs": [
    {
     "data": {
      "text/html": [
       "<div>\n",
       "<style scoped>\n",
       "    .dataframe tbody tr th:only-of-type {\n",
       "        vertical-align: middle;\n",
       "    }\n",
       "\n",
       "    .dataframe tbody tr th {\n",
       "        vertical-align: top;\n",
       "    }\n",
       "\n",
       "    .dataframe thead th {\n",
       "        text-align: right;\n",
       "    }\n",
       "</style>\n",
       "<table border=\"1\" class=\"dataframe\">\n",
       "  <thead>\n",
       "    <tr style=\"text-align: right;\">\n",
       "      <th></th>\n",
       "      <th>ML_alg</th>\n",
       "      <th>ML_params</th>\n",
       "      <th>ML_runtime</th>\n",
       "      <th>ML_train_accuracy</th>\n",
       "      <th>ML_train_precision</th>\n",
       "      <th>ML_train_recall</th>\n",
       "      <th>ML_train_mcc</th>\n",
       "      <th>ML_test_accuracy</th>\n",
       "      <th>ML_test_precision</th>\n",
       "      <th>ML_test_recall</th>\n",
       "      <th>ML_test_mcc</th>\n",
       "    </tr>\n",
       "  </thead>\n",
       "  <tbody>\n",
       "    <tr>\n",
       "      <th>0</th>\n",
       "      <td>ExtraTreeClassifier</td>\n",
       "      <td>{'class_weight': 'balanced', 'criterion': 'ent...</td>\n",
       "      <td>0.0184767</td>\n",
       "      <td>0.707893</td>\n",
       "      <td>0.896493</td>\n",
       "      <td>0.745661</td>\n",
       "      <td>0.17392</td>\n",
       "      <td>0.706539</td>\n",
       "      <td>0.895686</td>\n",
       "      <td>0.74473</td>\n",
       "      <td>0.170266</td>\n",
       "    </tr>\n",
       "  </tbody>\n",
       "</table>\n",
       "</div>"
      ],
      "text/plain": [
       "                ML_alg                                          ML_params  \\\n",
       "0  ExtraTreeClassifier  {'class_weight': 'balanced', 'criterion': 'ent...   \n",
       "\n",
       "  ML_runtime ML_train_accuracy ML_train_precision ML_train_recall  \\\n",
       "0  0.0184767          0.707893           0.896493        0.745661   \n",
       "\n",
       "  ML_train_mcc ML_test_accuracy ML_test_precision ML_test_recall ML_test_mcc  \n",
       "0      0.17392         0.706539          0.895686        0.74473    0.170266  "
      ]
     },
     "execution_count": 32,
     "metadata": {},
     "output_type": "execute_result"
    }
   ],
   "source": [
    "current_model = [tree.ExtraTreeClassifier(criterion=\"entropy\", class_weight=\"balanced\",max_depth=5, min_samples_leaf=6,random_state=1)]\n",
    "current_table, y_pred = baseline_ml(current_model,features,target,scoring,df)\n",
    "hyper_tuning[\"ExtraTreeClassifier\"] = current_model\n",
    "Y_pred[\"ExtraTreeClassifier\"] = y_pred\n",
    "current_table\n",
    "#quite a good result with the fast runtime"
   ]
  },
  {
   "cell_type": "code",
   "execution_count": 33,
   "metadata": {},
   "outputs": [
    {
     "data": {
      "text/plain": [
       "'\\nGBClassifier_hp = {\"learning_rate\":[0.05,0.1,0.15],\"n_estimators\":[40,60,80,100],\\n                   \"max_features\":[\"auto\",\"sqrt\",\"log2\"],\"max_depth\":[3,6,8],\"random_state\":[1]}\\nGradientBoostingClassifier_model = tuning_grid(ensemble.GradientBoostingClassifier(),features,target,GBClassifier_hp,df)\\nGradientBoostingClassifier_model\\n'"
      ]
     },
     "execution_count": 33,
     "metadata": {},
     "output_type": "execute_result"
    }
   ],
   "source": [
    "#refer to: https://www.analyticsvidhya.com/blog/2016/02/complete-guide-parameter-tuning-gradient-boosting-gbm-python/\n",
    "#for hyperparameter tuning, it's unlikely to beat XGBClassifier previously\n",
    "#let's do a rough estimate\n",
    "'''\n",
    "GBClassifier_hp = {\"learning_rate\":[0.05,0.1,0.15],\"n_estimators\":[40,60,80,100],\n",
    "                   \"max_features\":[\"auto\",\"sqrt\",\"log2\"],\"max_depth\":[3,6,8],\"random_state\":[1]}\n",
    "GradientBoostingClassifier_model = tuning_grid(ensemble.GradientBoostingClassifier(),features,target,GBClassifier_hp,df)\n",
    "GradientBoostingClassifier_model\n",
    "'''"
   ]
  },
  {
   "cell_type": "code",
   "execution_count": 34,
   "metadata": {},
   "outputs": [
    {
     "data": {
      "text/html": [
       "<div>\n",
       "<style scoped>\n",
       "    .dataframe tbody tr th:only-of-type {\n",
       "        vertical-align: middle;\n",
       "    }\n",
       "\n",
       "    .dataframe tbody tr th {\n",
       "        vertical-align: top;\n",
       "    }\n",
       "\n",
       "    .dataframe thead th {\n",
       "        text-align: right;\n",
       "    }\n",
       "</style>\n",
       "<table border=\"1\" class=\"dataframe\">\n",
       "  <thead>\n",
       "    <tr style=\"text-align: right;\">\n",
       "      <th></th>\n",
       "      <th>ML_alg</th>\n",
       "      <th>ML_params</th>\n",
       "      <th>ML_runtime</th>\n",
       "      <th>ML_train_accuracy</th>\n",
       "      <th>ML_train_precision</th>\n",
       "      <th>ML_train_recall</th>\n",
       "      <th>ML_train_mcc</th>\n",
       "      <th>ML_test_accuracy</th>\n",
       "      <th>ML_test_precision</th>\n",
       "      <th>ML_test_recall</th>\n",
       "      <th>ML_test_mcc</th>\n",
       "    </tr>\n",
       "  </thead>\n",
       "  <tbody>\n",
       "    <tr>\n",
       "      <th>0</th>\n",
       "      <td>GradientBoostingClassifier</td>\n",
       "      <td>{'criterion': 'friedman_mse', 'init': None, 'l...</td>\n",
       "      <td>2.68025</td>\n",
       "      <td>0.884854</td>\n",
       "      <td>0.882367</td>\n",
       "      <td>0.998987</td>\n",
       "      <td>0.406374</td>\n",
       "      <td>0.854155</td>\n",
       "      <td>0.861812</td>\n",
       "      <td>0.988534</td>\n",
       "      <td>0.0852921</td>\n",
       "    </tr>\n",
       "  </tbody>\n",
       "</table>\n",
       "</div>"
      ],
      "text/plain": [
       "                       ML_alg  \\\n",
       "0  GradientBoostingClassifier   \n",
       "\n",
       "                                           ML_params ML_runtime  \\\n",
       "0  {'criterion': 'friedman_mse', 'init': None, 'l...    2.68025   \n",
       "\n",
       "  ML_train_accuracy ML_train_precision ML_train_recall ML_train_mcc  \\\n",
       "0          0.884854           0.882367        0.998987     0.406374   \n",
       "\n",
       "  ML_test_accuracy ML_test_precision ML_test_recall ML_test_mcc  \n",
       "0         0.854155          0.861812       0.988534   0.0852921  "
      ]
     },
     "execution_count": 34,
     "metadata": {},
     "output_type": "execute_result"
    }
   ],
   "source": [
    "current_model = [ensemble.GradientBoostingClassifier(learning_rate=0.15, n_estimators=100, min_samples_split=0.005,\n",
    "                                                    max_features=\"sqrt\",max_depth=8, random_state=1)]\n",
    "current_table, y_pred = baseline_ml(current_model,features,target,scoring,df)\n",
    "#hyper_tuning[\"GradientBoostingClassifier\"] = current_model\n",
    "#Y_pred[\"GradientBoostingClassifier\"] = y_pred\n",
    "current_table\n",
    "#long runtime and very unsatisfied result, not much better than baselines, and worse than the XGB algorithm. \n",
    "#The problem comes from the unavailablity to treat imbalance datasets. We'll skip this"
   ]
  },
  {
   "cell_type": "code",
   "execution_count": 35,
   "metadata": {},
   "outputs": [
    {
     "data": {
      "text/plain": [
       "'\\nRandomForestClassifier_hp = {\"class_weight\":[\"balanced\"],\"min_samples_split\":[0.005],\\n                             \"max_depth\":[3,5,7,9,11],\"n_estimators\":[10,20,30,40]}\\nRF_model = tuning_grid(ensemble.RandomForestClassifier(),features,target,RandomForestClassifier_hp,df)\\nRF_model\\n'"
      ]
     },
     "execution_count": 35,
     "metadata": {},
     "output_type": "execute_result"
    }
   ],
   "source": [
    "'''\n",
    "RandomForestClassifier_hp = {\"class_weight\":[\"balanced\"],\"min_samples_split\":[0.005],\n",
    "                             \"max_depth\":[3,5,7,9,11],\"n_estimators\":[10,20,30,40]}\n",
    "RF_model = tuning_grid(ensemble.RandomForestClassifier(),features,target,RandomForestClassifier_hp,df)\n",
    "RF_model\n",
    "'''"
   ]
  },
  {
   "cell_type": "code",
   "execution_count": 36,
   "metadata": {},
   "outputs": [
    {
     "data": {
      "text/html": [
       "<div>\n",
       "<style scoped>\n",
       "    .dataframe tbody tr th:only-of-type {\n",
       "        vertical-align: middle;\n",
       "    }\n",
       "\n",
       "    .dataframe tbody tr th {\n",
       "        vertical-align: top;\n",
       "    }\n",
       "\n",
       "    .dataframe thead th {\n",
       "        text-align: right;\n",
       "    }\n",
       "</style>\n",
       "<table border=\"1\" class=\"dataframe\">\n",
       "  <thead>\n",
       "    <tr style=\"text-align: right;\">\n",
       "      <th></th>\n",
       "      <th>ML_alg</th>\n",
       "      <th>ML_params</th>\n",
       "      <th>ML_runtime</th>\n",
       "      <th>ML_train_accuracy</th>\n",
       "      <th>ML_train_precision</th>\n",
       "      <th>ML_train_recall</th>\n",
       "      <th>ML_train_mcc</th>\n",
       "      <th>ML_test_accuracy</th>\n",
       "      <th>ML_test_precision</th>\n",
       "      <th>ML_test_recall</th>\n",
       "      <th>ML_test_mcc</th>\n",
       "    </tr>\n",
       "  </thead>\n",
       "  <tbody>\n",
       "    <tr>\n",
       "      <th>0</th>\n",
       "      <td>RandomForestClassifier</td>\n",
       "      <td>{'bootstrap': True, 'class_weight': 'balanced'...</td>\n",
       "      <td>0.781173</td>\n",
       "      <td>0.694342</td>\n",
       "      <td>0.931096</td>\n",
       "      <td>0.695227</td>\n",
       "      <td>0.279502</td>\n",
       "      <td>0.666655</td>\n",
       "      <td>0.909435</td>\n",
       "      <td>0.67915</td>\n",
       "      <td>0.196634</td>\n",
       "    </tr>\n",
       "  </tbody>\n",
       "</table>\n",
       "</div>"
      ],
      "text/plain": [
       "                   ML_alg                                          ML_params  \\\n",
       "0  RandomForestClassifier  {'bootstrap': True, 'class_weight': 'balanced'...   \n",
       "\n",
       "  ML_runtime ML_train_accuracy ML_train_precision ML_train_recall  \\\n",
       "0   0.781173          0.694342           0.931096        0.695227   \n",
       "\n",
       "  ML_train_mcc ML_test_accuracy ML_test_precision ML_test_recall ML_test_mcc  \n",
       "0     0.279502         0.666655          0.909435        0.67915    0.196634  "
      ]
     },
     "execution_count": 36,
     "metadata": {},
     "output_type": "execute_result"
    }
   ],
   "source": [
    "current_model = [ensemble.RandomForestClassifier(n_estimators=40, class_weight=\"balanced\", max_depth=9, min_samples_split=0.005,random_state=1)]\n",
    "current_table,y_pred = baseline_ml(current_model,features,target,scoring,df)\n",
    "Y_pred[\"RandomForestClassifier\"] = y_pred\n",
    "hyper_tuning[\"RandomForestClassifier\"] = current_model\n",
    "current_table\n",
    "#pred.head()"
   ]
  },
  {
   "cell_type": "code",
   "execution_count": 37,
   "metadata": {},
   "outputs": [
    {
     "data": {
      "text/plain": [
       "'\\nLogisticRegression_hp = {\"penalty\":[\"l2\"],\"class_weight\":[\"balanced\"],\"max_iter\":[1000],\"n_jobs\":[-1],\\n                        \"Cs\":[i for i in range(1,100,3)],\"random_state\":[1]}\\nLogisticRegression_model = tuning_grid(linear_model.LogisticRegressionCV(),features,target,LogisticRegression_hp,df)\\nLogisticRegression_model\\n'"
      ]
     },
     "execution_count": 37,
     "metadata": {},
     "output_type": "execute_result"
    }
   ],
   "source": [
    "#Each of the values in Cs describes the inverse of regularization strength. \n",
    "#If Cs is as an int, then a grid of Cs values are chosen in a logarithmic scale between 1e-4 and 1e4. \n",
    "#Like in svm, smaller values specify stronger regularization.\n",
    "'''\n",
    "LogisticRegression_hp = {\"penalty\":[\"l2\"],\"class_weight\":[\"balanced\"],\"max_iter\":[1000],\"n_jobs\":[-1],\n",
    "                        \"Cs\":[i for i in range(1,100,3)],\"random_state\":[1]}\n",
    "LogisticRegression_model = tuning_grid(linear_model.LogisticRegressionCV(),features,target,LogisticRegression_hp,df)\n",
    "LogisticRegression_model\n",
    "'''"
   ]
  },
  {
   "cell_type": "code",
   "execution_count": 38,
   "metadata": {},
   "outputs": [
    {
     "data": {
      "text/html": [
       "<div>\n",
       "<style scoped>\n",
       "    .dataframe tbody tr th:only-of-type {\n",
       "        vertical-align: middle;\n",
       "    }\n",
       "\n",
       "    .dataframe tbody tr th {\n",
       "        vertical-align: top;\n",
       "    }\n",
       "\n",
       "    .dataframe thead th {\n",
       "        text-align: right;\n",
       "    }\n",
       "</style>\n",
       "<table border=\"1\" class=\"dataframe\">\n",
       "  <thead>\n",
       "    <tr style=\"text-align: right;\">\n",
       "      <th></th>\n",
       "      <th>ML_alg</th>\n",
       "      <th>ML_params</th>\n",
       "      <th>ML_runtime</th>\n",
       "      <th>ML_train_accuracy</th>\n",
       "      <th>ML_train_precision</th>\n",
       "      <th>ML_train_recall</th>\n",
       "      <th>ML_train_mcc</th>\n",
       "      <th>ML_test_accuracy</th>\n",
       "      <th>ML_test_precision</th>\n",
       "      <th>ML_test_recall</th>\n",
       "      <th>ML_test_mcc</th>\n",
       "    </tr>\n",
       "  </thead>\n",
       "  <tbody>\n",
       "    <tr>\n",
       "      <th>0</th>\n",
       "      <td>LogisticRegressionCV</td>\n",
       "      <td>{'Cs': 97, 'class_weight': 'balanced', 'cv': '...</td>\n",
       "      <td>3.79706</td>\n",
       "      <td>0.567887</td>\n",
       "      <td>0.912992</td>\n",
       "      <td>0.548695</td>\n",
       "      <td>0.162445</td>\n",
       "      <td>0.565862</td>\n",
       "      <td>0.911735</td>\n",
       "      <td>0.546999</td>\n",
       "      <td>0.158464</td>\n",
       "    </tr>\n",
       "  </tbody>\n",
       "</table>\n",
       "</div>"
      ],
      "text/plain": [
       "                 ML_alg                                          ML_params  \\\n",
       "0  LogisticRegressionCV  {'Cs': 97, 'class_weight': 'balanced', 'cv': '...   \n",
       "\n",
       "  ML_runtime ML_train_accuracy ML_train_precision ML_train_recall  \\\n",
       "0    3.79706          0.567887           0.912992        0.548695   \n",
       "\n",
       "  ML_train_mcc ML_test_accuracy ML_test_precision ML_test_recall ML_test_mcc  \n",
       "0     0.162445         0.565862          0.911735       0.546999    0.158464  "
      ]
     },
     "execution_count": 38,
     "metadata": {},
     "output_type": "execute_result"
    }
   ],
   "source": [
    "current_model = [linear_model.LogisticRegressionCV(penalty=\"l2\",class_weight=\"balanced\",max_iter=1000, n_jobs=-1,Cs=97,\n",
    "                                            random_state=1)]\n",
    "current_table, y_pred = baseline_ml(current_model,features,target,scoring,df)\n",
    "Y_pred[\"LogisticRegressionCV\"] = y_pred\n",
    "hyper_tuning[\"LogisticRegressionCV\"] = current_model\n",
    "current_table"
   ]
  },
  {
   "cell_type": "code",
   "execution_count": 39,
   "metadata": {},
   "outputs": [
    {
     "data": {
      "text/html": [
       "<div>\n",
       "<style scoped>\n",
       "    .dataframe tbody tr th:only-of-type {\n",
       "        vertical-align: middle;\n",
       "    }\n",
       "\n",
       "    .dataframe tbody tr th {\n",
       "        vertical-align: top;\n",
       "    }\n",
       "\n",
       "    .dataframe thead th {\n",
       "        text-align: right;\n",
       "    }\n",
       "</style>\n",
       "<table border=\"1\" class=\"dataframe\">\n",
       "  <thead>\n",
       "    <tr style=\"text-align: right;\">\n",
       "      <th></th>\n",
       "      <th>ML_alg</th>\n",
       "      <th>ML_params</th>\n",
       "      <th>ML_runtime</th>\n",
       "      <th>ML_train_accuracy</th>\n",
       "      <th>ML_train_precision</th>\n",
       "      <th>ML_train_recall</th>\n",
       "      <th>ML_train_mcc</th>\n",
       "      <th>ML_test_accuracy</th>\n",
       "      <th>ML_test_precision</th>\n",
       "      <th>ML_test_recall</th>\n",
       "      <th>ML_test_mcc</th>\n",
       "    </tr>\n",
       "  </thead>\n",
       "  <tbody>\n",
       "    <tr>\n",
       "      <th>0</th>\n",
       "      <td>XGBClassifier</td>\n",
       "      <td>{'base_score': 0.5, 'booster': 'gbtree', 'cols...</td>\n",
       "      <td>3.9787</td>\n",
       "      <td>0.667414</td>\n",
       "      <td>0.924858</td>\n",
       "      <td>0.666548</td>\n",
       "      <td>0.243697</td>\n",
       "      <td>0.653241</td>\n",
       "      <td>0.913635</td>\n",
       "      <td>0.658114</td>\n",
       "      <td>0.202515</td>\n",
       "    </tr>\n",
       "    <tr>\n",
       "      <th>1</th>\n",
       "      <td>AdaBoostClassifier</td>\n",
       "      <td>{'algorithm': 'SAMME.R', 'base_estimator__clas...</td>\n",
       "      <td>6.2406</td>\n",
       "      <td>0.686544</td>\n",
       "      <td>0.940593</td>\n",
       "      <td>0.677478</td>\n",
       "      <td>0.300853</td>\n",
       "      <td>0.650871</td>\n",
       "      <td>0.908663</td>\n",
       "      <td>0.659434</td>\n",
       "      <td>0.186145</td>\n",
       "    </tr>\n",
       "    <tr>\n",
       "      <th>2</th>\n",
       "      <td>BaggingClassifier</td>\n",
       "      <td>{'base_estimator__class_weight': 'balanced', '...</td>\n",
       "      <td>1.88206</td>\n",
       "      <td>0.635389</td>\n",
       "      <td>0.916587</td>\n",
       "      <td>0.632648</td>\n",
       "      <td>0.202151</td>\n",
       "      <td>0.632327</td>\n",
       "      <td>0.91378</td>\n",
       "      <td>0.6311</td>\n",
       "      <td>0.192445</td>\n",
       "    </tr>\n",
       "    <tr>\n",
       "      <th>3</th>\n",
       "      <td>ExtraTreeClassifier</td>\n",
       "      <td>{'class_weight': 'balanced', 'criterion': 'ent...</td>\n",
       "      <td>0.0176383</td>\n",
       "      <td>0.707893</td>\n",
       "      <td>0.896493</td>\n",
       "      <td>0.745661</td>\n",
       "      <td>0.17392</td>\n",
       "      <td>0.706539</td>\n",
       "      <td>0.895686</td>\n",
       "      <td>0.74473</td>\n",
       "      <td>0.170266</td>\n",
       "    </tr>\n",
       "    <tr>\n",
       "      <th>4</th>\n",
       "      <td>RandomForestClassifier</td>\n",
       "      <td>{'bootstrap': True, 'class_weight': 'balanced'...</td>\n",
       "      <td>0.780341</td>\n",
       "      <td>0.694342</td>\n",
       "      <td>0.931096</td>\n",
       "      <td>0.695227</td>\n",
       "      <td>0.279502</td>\n",
       "      <td>0.666655</td>\n",
       "      <td>0.909435</td>\n",
       "      <td>0.67915</td>\n",
       "      <td>0.196634</td>\n",
       "    </tr>\n",
       "    <tr>\n",
       "      <th>5</th>\n",
       "      <td>LogisticRegressionCV</td>\n",
       "      <td>{'Cs': 97, 'class_weight': 'balanced', 'cv': '...</td>\n",
       "      <td>3.51138</td>\n",
       "      <td>0.567887</td>\n",
       "      <td>0.912992</td>\n",
       "      <td>0.548695</td>\n",
       "      <td>0.162445</td>\n",
       "      <td>0.565862</td>\n",
       "      <td>0.911735</td>\n",
       "      <td>0.546999</td>\n",
       "      <td>0.158464</td>\n",
       "    </tr>\n",
       "  </tbody>\n",
       "</table>\n",
       "</div>"
      ],
      "text/plain": [
       "                   ML_alg                                          ML_params  \\\n",
       "0           XGBClassifier  {'base_score': 0.5, 'booster': 'gbtree', 'cols...   \n",
       "1      AdaBoostClassifier  {'algorithm': 'SAMME.R', 'base_estimator__clas...   \n",
       "2       BaggingClassifier  {'base_estimator__class_weight': 'balanced', '...   \n",
       "3     ExtraTreeClassifier  {'class_weight': 'balanced', 'criterion': 'ent...   \n",
       "4  RandomForestClassifier  {'bootstrap': True, 'class_weight': 'balanced'...   \n",
       "5    LogisticRegressionCV  {'Cs': 97, 'class_weight': 'balanced', 'cv': '...   \n",
       "\n",
       "  ML_runtime ML_train_accuracy ML_train_precision ML_train_recall  \\\n",
       "0     3.9787          0.667414           0.924858        0.666548   \n",
       "1     6.2406          0.686544           0.940593        0.677478   \n",
       "2    1.88206          0.635389           0.916587        0.632648   \n",
       "3  0.0176383          0.707893           0.896493        0.745661   \n",
       "4   0.780341          0.694342           0.931096        0.695227   \n",
       "5    3.51138          0.567887           0.912992        0.548695   \n",
       "\n",
       "  ML_train_mcc ML_test_accuracy ML_test_precision ML_test_recall ML_test_mcc  \n",
       "0     0.243697         0.653241          0.913635       0.658114    0.202515  \n",
       "1     0.300853         0.650871          0.908663       0.659434    0.186145  \n",
       "2     0.202151         0.632327           0.91378         0.6311    0.192445  \n",
       "3      0.17392         0.706539          0.895686        0.74473    0.170266  \n",
       "4     0.279502         0.666655          0.909435        0.67915    0.196634  \n",
       "5     0.162445         0.565862          0.911735       0.546999    0.158464  "
      ]
     },
     "execution_count": 39,
     "metadata": {},
     "output_type": "execute_result"
    }
   ],
   "source": [
    "alg_set1 = list()\n",
    "for key,val in hyper_tuning.items():\n",
    "    alg_set1.append(val[0]) #the value itself is in a list too\n",
    "#alg_set1\n",
    "algset1_table, temp = baseline_ml(alg_set1,features,target,scoring,df)\n",
    "algset1_table"
   ]
  },
  {
   "cell_type": "code",
   "execution_count": 40,
   "metadata": {},
   "outputs": [
    {
     "name": "stdout",
     "output_type": "stream",
     "text": [
      "accuracy:  0.6461407792759316\n",
      "Precision:  0.920958512160229\n",
      "Recall:  0.640467603531899\n",
      "MCC:  0.23005250624812718\n"
     ]
    }
   ],
   "source": [
    "#Y_pred.tail()\n",
    "#let's do majority voting to benchmark our first round of algorithms\n",
    "#recall we already splitted the train/test dataset previously.\n",
    "#This is another ensemble on top of the current system. We can also use some algorithm to take these outputs for\n",
    "#predictions, stacking. However, let's stick with the current idea of majority voting.\n",
    "\n",
    "Y_pred[\"Vote1\"] = Y_pred.mode(axis=1)[0] #need the zero for unpacking\n",
    "Y_pred\n",
    "\n",
    "print(\"accuracy: \", accuracy_score(y_test,Y_pred[\"Vote1\"]))\n",
    "print(\"Precision: \", precision_score(y_test,Y_pred[\"Vote1\"]))\n",
    "print(\"Recall: \",recall_score(y_test,Y_pred[\"Vote1\"]))\n",
    "print(\"MCC: \",matthews_corrcoef(y_test,Y_pred[\"Vote1\"]))\n"
   ]
  },
  {
   "cell_type": "markdown",
   "metadata": {},
   "source": [
    "# Summary of the Part 1 of our algorithms"
   ]
  },
  {
   "cell_type": "markdown",
   "metadata": {},
   "source": [
    "As seen, accuracy are not what we wanted. If the bank would like to be a conservative investor, it is better to have a very high precision with some expenses of recall (missing out the some right calls for more higher probability of getting the predictions right. Our majority voting technique (2nd stage ensemble) also helps get the better answer than any of the single models. Lastly, it is important to note that the MCC value maximizes the 4 quadrants of the confusion matrix, and maximize is probably the best way to do it, thus balancing both high precision with sufficient recall. Else we would be missing out of most of the investment opportunities with a high success rate."
   ]
  },
  {
   "cell_type": "markdown",
   "metadata": {},
   "source": [
    "# Machine Learning Algorithms focus #2"
   ]
  },
  {
   "cell_type": "code",
   "execution_count": 41,
   "metadata": {},
   "outputs": [
    {
     "data": {
      "text/plain": [
       "Index(['loan_amnt', 'int_rate', 'installment', 'emp_length', 'annual_inc',\n",
       "       'loan_status', 'dti', 'delinq_2yrs', 'inq_last_6mths', 'open_acc',\n",
       "       'pub_rec', 'revol_bal', 'revol_util', 'total_acc',\n",
       "       'home_ownership_MORTGAGE', 'home_ownership_NONE',\n",
       "       'home_ownership_OTHER', 'home_ownership_OWN', 'home_ownership_RENT',\n",
       "       'verification_status_Not Verified',\n",
       "       'verification_status_Source Verified', 'verification_status_Verified',\n",
       "       'purpose_car', 'purpose_credit_card', 'purpose_debt_consolidation',\n",
       "       'purpose_educational', 'purpose_home_improvement', 'purpose_house',\n",
       "       'purpose_major_purchase', 'purpose_medical', 'purpose_moving',\n",
       "       'purpose_other', 'purpose_renewable_energy', 'purpose_small_business',\n",
       "       'purpose_vacation', 'purpose_wedding', 'term_ 36 months',\n",
       "       'term_ 60 months'],\n",
       "      dtype='object')"
      ]
     },
     "execution_count": 41,
     "metadata": {},
     "output_type": "execute_result"
    }
   ],
   "source": [
    "df.columns"
   ]
  },
  {
   "cell_type": "code",
   "execution_count": 42,
   "metadata": {
    "collapsed": true
   },
   "outputs": [],
   "source": [
    "#we'll categorize the continous variables together first prior to standardize the continous data\n",
    "def sort_feats(df):\n",
    "    cont_col_list = list()\n",
    "    bin_col_list = list()\n",
    "    features = df.columns.tolist()\n",
    "    \n",
    "    for col in features:\n",
    "        if df[col].value_counts().shape[0] > 2:\n",
    "            cont_col_list.append(col)\n",
    "        else:\n",
    "            bin_col_list.append(col)\n",
    "    return cont_col_list, bin_col_list\n",
    "        \n",
    "cont_col_list, bin_col_list = sort_feats(df)"
   ]
  },
  {
   "cell_type": "code",
   "execution_count": 43,
   "metadata": {},
   "outputs": [
    {
     "name": "stdout",
     "output_type": "stream",
     "text": [
      "['loan_status', 'home_ownership_MORTGAGE', 'home_ownership_NONE', 'home_ownership_OTHER', 'home_ownership_OWN', 'home_ownership_RENT', 'verification_status_Not Verified', 'verification_status_Source Verified', 'verification_status_Verified', 'purpose_car', 'purpose_credit_card', 'purpose_debt_consolidation', 'purpose_educational', 'purpose_home_improvement', 'purpose_house', 'purpose_major_purchase', 'purpose_medical', 'purpose_moving', 'purpose_other', 'purpose_renewable_energy', 'purpose_small_business', 'purpose_vacation', 'purpose_wedding', 'term_ 36 months', 'term_ 60 months'] ['loan_amnt', 'int_rate', 'installment', 'emp_length', 'annual_inc', 'dti', 'delinq_2yrs', 'inq_last_6mths', 'open_acc', 'pub_rec', 'revol_bal', 'revol_util', 'total_acc']\n"
     ]
    }
   ],
   "source": [
    "print(bin_col_list, cont_col_list)\n",
    "#it seems that there's no mistake made in the bin_col_list. All of these are just dummy variables that we'd created earlier"
   ]
  },
  {
   "cell_type": "code",
   "execution_count": 44,
   "metadata": {
    "collapsed": true
   },
   "outputs": [],
   "source": [
    "#we need to minmax scaling/Robust scaling between -1 to 1. Afte that, we would have to standardize our data\n",
    "#finallly, we need to have the binary values feature in -1 and 1."
   ]
  },
  {
   "cell_type": "code",
   "execution_count": 45,
   "metadata": {},
   "outputs": [
    {
     "data": {
      "text/plain": [
       "loan_amnt                              1.000013\n",
       "int_rate                               1.000013\n",
       "installment                            1.000013\n",
       "emp_length                             1.000013\n",
       "annual_inc                             1.000013\n",
       "dti                                    1.000013\n",
       "delinq_2yrs                            1.000013\n",
       "inq_last_6mths                         1.000013\n",
       "open_acc                               1.000013\n",
       "pub_rec                                1.000013\n",
       "revol_bal                              1.000013\n",
       "revol_util                             1.000013\n",
       "total_acc                              1.000013\n",
       "loan_status                            0.700235\n",
       "home_ownership_MORTGAGE                0.993469\n",
       "home_ownership_NONE                    0.017846\n",
       "home_ownership_OTHER                   0.100830\n",
       "home_ownership_OWN                     0.522688\n",
       "home_ownership_RENT                    0.999271\n",
       "verification_status_Not Verified       0.990761\n",
       "verification_status_Source Verified    0.869661\n",
       "verification_status_Verified           0.928798\n",
       "purpose_car                            0.385887\n",
       "purpose_credit_card                    0.673389\n",
       "purpose_debt_consolidation             0.998349\n",
       "purpose_educational                    0.181251\n",
       "purpose_home_improvement               0.525277\n",
       "purpose_house                          0.193496\n",
       "purpose_major_purchase                 0.457092\n",
       "purpose_medical                        0.261409\n",
       "purpose_moving                         0.240311\n",
       "purpose_other                          0.595988\n",
       "purpose_renewable_energy               0.099777\n",
       "purpose_small_business                 0.417355\n",
       "purpose_vacation                       0.191330\n",
       "purpose_wedding                        0.308044\n",
       "term_ 36 months                        0.866718\n",
       "term_ 60 months                        0.866718\n",
       "dtype: float64"
      ]
     },
     "execution_count": 45,
     "metadata": {},
     "output_type": "execute_result"
    }
   ],
   "source": [
    "minmax_scaler = MinMaxScaler(feature_range=(-1,1))\n",
    "std_scaler = StandardScaler(with_mean=True,with_std=True) #ensure mean of 0 and std of 1\n",
    "\n",
    "cont_new = std_scaler.fit_transform(df[cont_col_list])\n",
    "cont_new = minmax_scaler.fit_transform(cont_new)\n",
    "cont_new = std_scaler.fit_transform(cont_new)\n",
    "cont_new = pd.DataFrame(columns=cont_col_list,data=cont_new)\n",
    "#values aren't bound between -1 and 1 because many features aren't normally distributed. \n",
    "#Either we choose minmax/standard norm.\n",
    "\n",
    "#binary set[-1,1]. #Can't normalize it but it will help offset the mean (reducing intercept)\n",
    "bin_new = df[bin_col_list].replace(0,-1)\n",
    "bin_new\n",
    "df_new = pd.concat([cont_new,bin_new],axis=1)\n",
    "df_new.mean()\n",
    "df_new.std()"
   ]
  },
  {
   "cell_type": "code",
   "execution_count": 46,
   "metadata": {},
   "outputs": [
    {
     "data": {
      "text/plain": [
       "loan_amnt                              6.504164e-15\n",
       "int_rate                               7.384788e-17\n",
       "installment                           -1.235700e-16\n",
       "emp_length                            -4.574702e-15\n",
       "annual_inc                            -6.225049e-15\n",
       "dti                                   -7.467476e-16\n",
       "delinq_2yrs                           -3.886662e-15\n",
       "inq_last_6mths                         8.803711e-15\n",
       "open_acc                               9.770051e-16\n",
       "pub_rec                               -3.225733e-15\n",
       "revol_bal                              8.450956e-17\n",
       "revol_util                            -6.138310e-16\n",
       "total_acc                              2.539884e-16\n",
       "loan_status                            7.139217e-01\n",
       "home_ownership_MORTGAGE               -1.142137e-01\n",
       "home_ownership_NONE                   -9.998407e-01\n",
       "home_ownership_OTHER                  -9.949038e-01\n",
       "home_ownership_OWN                    -8.525282e-01\n",
       "home_ownership_RENT                   -3.851360e-02\n",
       "verification_status_Not Verified      -1.357133e-01\n",
       "verification_status_Source Verified   -4.936695e-01\n",
       "verification_status_Verified          -3.706171e-01\n",
       "purpose_car                           -9.225481e-01\n",
       "purpose_credit_card                   -7.392966e-01\n",
       "purpose_debt_consolidation            -5.767750e-02\n",
       "purpose_educational                   -9.834373e-01\n",
       "purpose_home_improvement              -8.509356e-01\n",
       "purpose_house                         -9.811015e-01\n",
       "purpose_major_purchase                -8.894227e-01\n",
       "purpose_medical                       -9.652289e-01\n",
       "purpose_moving                        -9.706967e-01\n",
       "purpose_other                         -8.029993e-01\n",
       "purpose_renewable_energy              -9.950100e-01\n",
       "purpose_small_business                -9.087459e-01\n",
       "purpose_vacation                      -9.815262e-01\n",
       "purpose_wedding                       -9.513736e-01\n",
       "term_ 36 months                        4.988188e-01\n",
       "term_ 60 months                       -4.988188e-01\n",
       "dtype: float64"
      ]
     },
     "execution_count": 46,
     "metadata": {},
     "output_type": "execute_result"
    }
   ],
   "source": [
    "#df_new.head()\n",
    "df_new.mean()"
   ]
  },
  {
   "cell_type": "code",
   "execution_count": 51,
   "metadata": {},
   "outputs": [
    {
     "data": {
      "text/html": [
       "<div>\n",
       "<style scoped>\n",
       "    .dataframe tbody tr th:only-of-type {\n",
       "        vertical-align: middle;\n",
       "    }\n",
       "\n",
       "    .dataframe tbody tr th {\n",
       "        vertical-align: top;\n",
       "    }\n",
       "\n",
       "    .dataframe thead th {\n",
       "        text-align: right;\n",
       "    }\n",
       "</style>\n",
       "<table border=\"1\" class=\"dataframe\">\n",
       "  <thead>\n",
       "    <tr style=\"text-align: right;\">\n",
       "      <th></th>\n",
       "      <th>ML_alg</th>\n",
       "      <th>ML_params</th>\n",
       "      <th>ML_runtime</th>\n",
       "      <th>ML_train_accuracy</th>\n",
       "      <th>ML_train_precision</th>\n",
       "      <th>ML_train_recall</th>\n",
       "      <th>ML_train_mcc</th>\n",
       "      <th>ML_test_accuracy</th>\n",
       "      <th>ML_test_precision</th>\n",
       "      <th>ML_test_recall</th>\n",
       "      <th>ML_test_mcc</th>\n",
       "    </tr>\n",
       "  </thead>\n",
       "  <tbody>\n",
       "    <tr>\n",
       "      <th>0</th>\n",
       "      <td>KNeighborsClassifier</td>\n",
       "      <td>{'algorithm': 'auto', 'leaf_size': 30, 'metric...</td>\n",
       "      <td>0.299125</td>\n",
       "      <td>1</td>\n",
       "      <td>1</td>\n",
       "      <td>1</td>\n",
       "      <td>1</td>\n",
       "      <td>0.840848</td>\n",
       "      <td>0.862991</td>\n",
       "      <td>0.968241</td>\n",
       "      <td>0.0718224</td>\n",
       "    </tr>\n",
       "    <tr>\n",
       "      <th>1</th>\n",
       "      <td>SVC</td>\n",
       "      <td>{'C': 1.0, 'cache_size': 200, 'class_weight': ...</td>\n",
       "      <td>48.2306</td>\n",
       "      <td>0.676777</td>\n",
       "      <td>0.933879</td>\n",
       "      <td>0.6708</td>\n",
       "      <td>0.275387</td>\n",
       "      <td>0.651507</td>\n",
       "      <td>0.914378</td>\n",
       "      <td>0.655227</td>\n",
       "      <td>0.203885</td>\n",
       "    </tr>\n",
       "    <tr>\n",
       "      <th>2</th>\n",
       "      <td>SGDClassifier</td>\n",
       "      <td>{'alpha': 0.0001, 'average': False, 'class_wei...</td>\n",
       "      <td>0.0376881</td>\n",
       "      <td>0.582331</td>\n",
       "      <td>0.899768</td>\n",
       "      <td>0.580761</td>\n",
       "      <td>0.129898</td>\n",
       "      <td>0.578033</td>\n",
       "      <td>0.896656</td>\n",
       "      <td>0.577727</td>\n",
       "      <td>0.119331</td>\n",
       "    </tr>\n",
       "    <tr>\n",
       "      <th>3</th>\n",
       "      <td>LinearSVC</td>\n",
       "      <td>{'C': 1.0, 'class_weight': 'balanced', 'dual':...</td>\n",
       "      <td>5.42348</td>\n",
       "      <td>0.660269</td>\n",
       "      <td>0.915435</td>\n",
       "      <td>0.665548</td>\n",
       "      <td>0.211754</td>\n",
       "      <td>0.659966</td>\n",
       "      <td>0.914647</td>\n",
       "      <td>0.66587</td>\n",
       "      <td>0.209169</td>\n",
       "    </tr>\n",
       "  </tbody>\n",
       "</table>\n",
       "</div>"
      ],
      "text/plain": [
       "                 ML_alg                                          ML_params  \\\n",
       "0  KNeighborsClassifier  {'algorithm': 'auto', 'leaf_size': 30, 'metric...   \n",
       "1                   SVC  {'C': 1.0, 'cache_size': 200, 'class_weight': ...   \n",
       "2         SGDClassifier  {'alpha': 0.0001, 'average': False, 'class_wei...   \n",
       "3             LinearSVC  {'C': 1.0, 'class_weight': 'balanced', 'dual':...   \n",
       "\n",
       "  ML_runtime ML_train_accuracy ML_train_precision ML_train_recall  \\\n",
       "0   0.299125                 1                  1               1   \n",
       "1    48.2306          0.676777           0.933879          0.6708   \n",
       "2  0.0376881          0.582331           0.899768        0.580761   \n",
       "3    5.42348          0.660269           0.915435        0.665548   \n",
       "\n",
       "  ML_train_mcc ML_test_accuracy ML_test_precision ML_test_recall ML_test_mcc  \n",
       "0            1         0.840848          0.862991       0.968241   0.0718224  \n",
       "1     0.275387         0.651507          0.914378       0.655227    0.203885  \n",
       "2     0.129898         0.578033          0.896656       0.577727    0.119331  \n",
       "3     0.211754         0.659966          0.914647        0.66587    0.209169  "
      ]
     },
     "execution_count": 51,
     "metadata": {},
     "output_type": "execute_result"
    }
   ],
   "source": [
    "#embedding LDA and XGBClassifier for sanity checking. These are quick algs compared to SVC and KNN.\n",
    "#they shouldn't intrinsically change with normalized data.\n",
    "\n",
    "algs_set2 = [neighbors.KNeighborsClassifier(weights=\"distance\"),svm.SVC(class_weight=\"balanced\"),\n",
    "             linear_model.SGDClassifier(class_weight=\"balanced\"), svm.LinearSVC(class_weight=\"balanced\")]\n",
    "table_set2,temp = baseline_ml(algs_set2,features,target,scoring,df_new)\n",
    "table_set2\n"
   ]
  },
  {
   "cell_type": "markdown",
   "metadata": {},
   "source": [
    "Turns out that the normalized features aren't helping us at all with the additionals algorithms. Maybe it's because our dummy variables aren't normalized. Another problem is that the ensemble algs are known to be some of the best performing algs generally speaking. Let's see if we can improve the current baseline with just the normalized features."
   ]
  },
  {
   "cell_type": "code",
   "execution_count": 52,
   "metadata": {},
   "outputs": [
    {
     "data": {
      "text/plain": [
       "['loan_amnt',\n",
       " 'int_rate',\n",
       " 'installment',\n",
       " 'emp_length',\n",
       " 'annual_inc',\n",
       " 'dti',\n",
       " 'delinq_2yrs',\n",
       " 'inq_last_6mths',\n",
       " 'open_acc',\n",
       " 'pub_rec',\n",
       " 'revol_bal',\n",
       " 'revol_util',\n",
       " 'total_acc']"
      ]
     },
     "execution_count": 52,
     "metadata": {},
     "output_type": "execute_result"
    }
   ],
   "source": [
    "#features\n",
    "cont_col_list"
   ]
  },
  {
   "cell_type": "code",
   "execution_count": 53,
   "metadata": {},
   "outputs": [
    {
     "data": {
      "text/html": [
       "<div>\n",
       "<style scoped>\n",
       "    .dataframe tbody tr th:only-of-type {\n",
       "        vertical-align: middle;\n",
       "    }\n",
       "\n",
       "    .dataframe tbody tr th {\n",
       "        vertical-align: top;\n",
       "    }\n",
       "\n",
       "    .dataframe thead th {\n",
       "        text-align: right;\n",
       "    }\n",
       "</style>\n",
       "<table border=\"1\" class=\"dataframe\">\n",
       "  <thead>\n",
       "    <tr style=\"text-align: right;\">\n",
       "      <th></th>\n",
       "      <th>ML_alg</th>\n",
       "      <th>ML_params</th>\n",
       "      <th>ML_runtime</th>\n",
       "      <th>ML_train_accuracy</th>\n",
       "      <th>ML_train_precision</th>\n",
       "      <th>ML_train_recall</th>\n",
       "      <th>ML_train_mcc</th>\n",
       "      <th>ML_test_accuracy</th>\n",
       "      <th>ML_test_precision</th>\n",
       "      <th>ML_test_recall</th>\n",
       "      <th>ML_test_mcc</th>\n",
       "    </tr>\n",
       "  </thead>\n",
       "  <tbody>\n",
       "    <tr>\n",
       "      <th>0</th>\n",
       "      <td>KNeighborsClassifier</td>\n",
       "      <td>{'algorithm': 'auto', 'leaf_size': 30, 'metric...</td>\n",
       "      <td>0.270084</td>\n",
       "      <td>1</td>\n",
       "      <td>1</td>\n",
       "      <td>1</td>\n",
       "      <td>1</td>\n",
       "      <td>0.84375</td>\n",
       "      <td>0.86271</td>\n",
       "      <td>0.972695</td>\n",
       "      <td>0.0729128</td>\n",
       "    </tr>\n",
       "    <tr>\n",
       "      <th>1</th>\n",
       "      <td>SVC</td>\n",
       "      <td>{'C': 1.0, 'cache_size': 200, 'class_weight': ...</td>\n",
       "      <td>27.9211</td>\n",
       "      <td>0.663065</td>\n",
       "      <td>0.93372</td>\n",
       "      <td>0.653729</td>\n",
       "      <td>0.265974</td>\n",
       "      <td>0.637669</td>\n",
       "      <td>0.912933</td>\n",
       "      <td>0.638688</td>\n",
       "      <td>0.192526</td>\n",
       "    </tr>\n",
       "    <tr>\n",
       "      <th>2</th>\n",
       "      <td>SGDClassifier</td>\n",
       "      <td>{'alpha': 0.0001, 'average': False, 'class_wei...</td>\n",
       "      <td>0.0204242</td>\n",
       "      <td>0.547263</td>\n",
       "      <td>0.891254</td>\n",
       "      <td>0.538778</td>\n",
       "      <td>0.0985947</td>\n",
       "      <td>0.544837</td>\n",
       "      <td>0.889617</td>\n",
       "      <td>0.536561</td>\n",
       "      <td>0.0946336</td>\n",
       "    </tr>\n",
       "    <tr>\n",
       "      <th>3</th>\n",
       "      <td>LinearSVC</td>\n",
       "      <td>{'C': 1.0, 'class_weight': 'balanced', 'dual':...</td>\n",
       "      <td>3.67775</td>\n",
       "      <td>0.641728</td>\n",
       "      <td>0.912403</td>\n",
       "      <td>0.644316</td>\n",
       "      <td>0.193126</td>\n",
       "      <td>0.641421</td>\n",
       "      <td>0.911809</td>\n",
       "      <td>0.644463</td>\n",
       "      <td>0.191108</td>\n",
       "    </tr>\n",
       "  </tbody>\n",
       "</table>\n",
       "</div>"
      ],
      "text/plain": [
       "                 ML_alg                                          ML_params  \\\n",
       "0  KNeighborsClassifier  {'algorithm': 'auto', 'leaf_size': 30, 'metric...   \n",
       "1                   SVC  {'C': 1.0, 'cache_size': 200, 'class_weight': ...   \n",
       "2         SGDClassifier  {'alpha': 0.0001, 'average': False, 'class_wei...   \n",
       "3             LinearSVC  {'C': 1.0, 'class_weight': 'balanced', 'dual':...   \n",
       "\n",
       "  ML_runtime ML_train_accuracy ML_train_precision ML_train_recall  \\\n",
       "0   0.270084                 1                  1               1   \n",
       "1    27.9211          0.663065            0.93372        0.653729   \n",
       "2  0.0204242          0.547263           0.891254        0.538778   \n",
       "3    3.67775          0.641728           0.912403        0.644316   \n",
       "\n",
       "  ML_train_mcc ML_test_accuracy ML_test_precision ML_test_recall ML_test_mcc  \n",
       "0            1          0.84375           0.86271       0.972695   0.0729128  \n",
       "1     0.265974         0.637669          0.912933       0.638688    0.192526  \n",
       "2    0.0985947         0.544837          0.889617       0.536561   0.0946336  \n",
       "3     0.193126         0.641421          0.911809       0.644463    0.191108  "
      ]
     },
     "execution_count": 53,
     "metadata": {},
     "output_type": "execute_result"
    }
   ],
   "source": [
    "pd.concat([cont_new,df_new[\"loan_status\"]],axis=1) #appending the continuous features with target, skipping dummy vars.\n",
    "table_set3,temp = baseline_ml(algs_set2,cont_col_list,target,scoring,pd.concat([cont_new,df_new[\"loan_status\"]],axis=1))\n",
    "table_set3"
   ]
  },
  {
   "cell_type": "markdown",
   "metadata": {},
   "source": [
    "What we have learned?\n",
    "It seems that those dummy variables aren't really helpful in predicting the loans. Due to the time constraint and gridsearch, let's skip those dummy variables.\n",
    "\n",
    "We'll use KNN, SGDClassifier, and LinearSVC to finetune. It's painful to skip SVC but we do not have the best computing power currently and it's not helping our case with such a baseline of mcc = 0 (no improvement). Also, LinearSVC is an implementation of SVC with linear kernel, and liblinear instead of libsvm implementation. It is a kind of SVC. RBF kernel is too computing-expensive as seen above"
   ]
  },
  {
   "cell_type": "code",
   "execution_count": 54,
   "metadata": {},
   "outputs": [
    {
     "data": {
      "text/html": [
       "<div>\n",
       "<style scoped>\n",
       "    .dataframe tbody tr th:only-of-type {\n",
       "        vertical-align: middle;\n",
       "    }\n",
       "\n",
       "    .dataframe tbody tr th {\n",
       "        vertical-align: top;\n",
       "    }\n",
       "\n",
       "    .dataframe thead th {\n",
       "        text-align: right;\n",
       "    }\n",
       "</style>\n",
       "<table border=\"1\" class=\"dataframe\">\n",
       "  <thead>\n",
       "    <tr style=\"text-align: right;\">\n",
       "      <th></th>\n",
       "      <th>loan_amnt</th>\n",
       "      <th>int_rate</th>\n",
       "      <th>installment</th>\n",
       "      <th>emp_length</th>\n",
       "      <th>annual_inc</th>\n",
       "      <th>dti</th>\n",
       "      <th>delinq_2yrs</th>\n",
       "      <th>inq_last_6mths</th>\n",
       "      <th>open_acc</th>\n",
       "      <th>pub_rec</th>\n",
       "      <th>revol_bal</th>\n",
       "      <th>revol_util</th>\n",
       "      <th>total_acc</th>\n",
       "      <th>loan_status</th>\n",
       "    </tr>\n",
       "  </thead>\n",
       "  <tbody>\n",
       "    <tr>\n",
       "      <th>0</th>\n",
       "      <td>-0.834763</td>\n",
       "      <td>-0.359030</td>\n",
       "      <td>-0.776472</td>\n",
       "      <td>1.420190</td>\n",
       "      <td>-0.703513</td>\n",
       "      <td>2.155269</td>\n",
       "      <td>-0.298207</td>\n",
       "      <td>0.119464</td>\n",
       "      <td>-1.435232</td>\n",
       "      <td>-0.229075</td>\n",
       "      <td>0.016268</td>\n",
       "      <td>1.229112</td>\n",
       "      <td>-1.148820</td>\n",
       "      <td>1</td>\n",
       "    </tr>\n",
       "    <tr>\n",
       "      <th>1</th>\n",
       "      <td>-1.174074</td>\n",
       "      <td>0.893452</td>\n",
       "      <td>-1.269798</td>\n",
       "      <td>-1.390247</td>\n",
       "      <td>-0.610662</td>\n",
       "      <td>-1.845302</td>\n",
       "      <td>-0.298207</td>\n",
       "      <td>3.853802</td>\n",
       "      <td>-1.435232</td>\n",
       "      <td>-0.229075</td>\n",
       "      <td>-0.736299</td>\n",
       "      <td>-1.392940</td>\n",
       "      <td>-1.587099</td>\n",
       "      <td>-1</td>\n",
       "    </tr>\n",
       "    <tr>\n",
       "      <th>2</th>\n",
       "      <td>-1.187647</td>\n",
       "      <td>1.080511</td>\n",
       "      <td>-1.152499</td>\n",
       "      <td>1.420190</td>\n",
       "      <td>-0.885314</td>\n",
       "      <td>-0.686412</td>\n",
       "      <td>-0.298207</td>\n",
       "      <td>1.053049</td>\n",
       "      <td>-1.662766</td>\n",
       "      <td>-0.229075</td>\n",
       "      <td>-0.656456</td>\n",
       "      <td>1.751405</td>\n",
       "      <td>-1.061164</td>\n",
       "      <td>1</td>\n",
       "    </tr>\n",
       "    <tr>\n",
       "      <th>3</th>\n",
       "      <td>-0.156141</td>\n",
       "      <td>0.410894</td>\n",
       "      <td>0.068271</td>\n",
       "      <td>1.420190</td>\n",
       "      <td>-0.313540</td>\n",
       "      <td>1.006888</td>\n",
       "      <td>-0.298207</td>\n",
       "      <td>0.119464</td>\n",
       "      <td>0.157507</td>\n",
       "      <td>-0.229075</td>\n",
       "      <td>-0.490225</td>\n",
       "      <td>-0.983575</td>\n",
       "      <td>1.305542</td>\n",
       "      <td>1</td>\n",
       "    </tr>\n",
       "    <tr>\n",
       "      <th>4</th>\n",
       "      <td>-0.834763</td>\n",
       "      <td>-1.104555</td>\n",
       "      <td>-0.807161</td>\n",
       "      <td>-0.547116</td>\n",
       "      <td>-0.517812</td>\n",
       "      <td>-0.314126</td>\n",
       "      <td>-0.298207</td>\n",
       "      <td>1.986633</td>\n",
       "      <td>-0.070027</td>\n",
       "      <td>-0.229075</td>\n",
       "      <td>-0.341423</td>\n",
       "      <td>-0.725958</td>\n",
       "      <td>-0.885853</td>\n",
       "      <td>1</td>\n",
       "    </tr>\n",
       "  </tbody>\n",
       "</table>\n",
       "</div>"
      ],
      "text/plain": [
       "   loan_amnt  int_rate  installment  emp_length  annual_inc       dti  \\\n",
       "0  -0.834763 -0.359030    -0.776472    1.420190   -0.703513  2.155269   \n",
       "1  -1.174074  0.893452    -1.269798   -1.390247   -0.610662 -1.845302   \n",
       "2  -1.187647  1.080511    -1.152499    1.420190   -0.885314 -0.686412   \n",
       "3  -0.156141  0.410894     0.068271    1.420190   -0.313540  1.006888   \n",
       "4  -0.834763 -1.104555    -0.807161   -0.547116   -0.517812 -0.314126   \n",
       "\n",
       "   delinq_2yrs  inq_last_6mths  open_acc   pub_rec  revol_bal  revol_util  \\\n",
       "0    -0.298207        0.119464 -1.435232 -0.229075   0.016268    1.229112   \n",
       "1    -0.298207        3.853802 -1.435232 -0.229075  -0.736299   -1.392940   \n",
       "2    -0.298207        1.053049 -1.662766 -0.229075  -0.656456    1.751405   \n",
       "3    -0.298207        0.119464  0.157507 -0.229075  -0.490225   -0.983575   \n",
       "4    -0.298207        1.986633 -0.070027 -0.229075  -0.341423   -0.725958   \n",
       "\n",
       "   total_acc  loan_status  \n",
       "0  -1.148820            1  \n",
       "1  -1.587099           -1  \n",
       "2  -1.061164            1  \n",
       "3   1.305542            1  \n",
       "4  -0.885853            1  "
      ]
     },
     "execution_count": 54,
     "metadata": {},
     "output_type": "execute_result"
    }
   ],
   "source": [
    "df_new = pd.concat([cont_new,df_new[\"loan_status\"]],axis=1)\n",
    "df_new.head()"
   ]
  },
  {
   "cell_type": "code",
   "execution_count": 55,
   "metadata": {
    "collapsed": true
   },
   "outputs": [],
   "source": [
    "#quickly calculate metrics on test set\n",
    "def benchmark(y_test, Y_pred):\n",
    "    Y_pred = pd.Series(Y_pred).replace(-1,0) #switching back -1 to 0\n",
    "    print(\"accuracy: \", accuracy_score(y_test,Y_pred))\n",
    "    print(\"Precision: \", precision_score(y_test,Y_pred))\n",
    "    print(\"Recall: \",recall_score(y_test,Y_pred))\n",
    "    print(\"MCC: \",matthews_corrcoef(y_test,Y_pred))"
   ]
  },
  {
   "cell_type": "code",
   "execution_count": 56,
   "metadata": {},
   "outputs": [
    {
     "data": {
      "text/plain": [
       "'\\nknn_hp = {\"n_neighbors\":[2,5,8,10],\"weights\":[\"uniform\",\"distance\"]}\\nknn_model = tuning_grid(neighbors.KNeighborsClassifier(),cont_col_list,target,knn_hp,df_new)\\nknn_model\\n'"
      ]
     },
     "execution_count": 56,
     "metadata": {},
     "output_type": "execute_result"
    }
   ],
   "source": [
    "#we can either graph out like other projects or just gridSearch. However, due to the slowness of the system, we can't\n",
    "#increase n very high for majority voting of the cluster on each data. We'll explore a 2D matrix with weighted distance\n",
    "#and normal distance and a couple of n values. KNN is not a great alg for imbalance classes\n",
    "'''\n",
    "knn_hp = {\"n_neighbors\":[2,5,8,10],\"weights\":[\"uniform\",\"distance\"]}\n",
    "knn_model = tuning_grid(neighbors.KNeighborsClassifier(),cont_col_list,target,knn_hp,df_new)\n",
    "knn_model\n",
    "'''"
   ]
  },
  {
   "cell_type": "code",
   "execution_count": 57,
   "metadata": {},
   "outputs": [
    {
     "data": {
      "text/plain": [
       "'\\ncurrent_model = [neighbors.KNeighborsClassifier(n_neighbors=10,weights=\"distance\")] #distance helps a little with imbalance\\ncurrent_table, y_pred = baseline_ml(current_model,cont_col_list,target,scoring,df_new)\\nhyper_tuning[\"KNeighborsClassifier\"] = current_model\\ncurrent_table\\n'"
      ]
     },
     "execution_count": 57,
     "metadata": {},
     "output_type": "execute_result"
    }
   ],
   "source": [
    "#k=5 overfitting\n",
    "#k=10 also overfits. Severely overfitting problem.\n",
    "'''\n",
    "current_model = [neighbors.KNeighborsClassifier(n_neighbors=10,weights=\"distance\")] #distance helps a little with imbalance\n",
    "current_table, y_pred = baseline_ml(current_model,cont_col_list,target,scoring,df_new)\n",
    "hyper_tuning[\"KNeighborsClassifier\"] = current_model\n",
    "current_table\n",
    "'''"
   ]
  },
  {
   "cell_type": "code",
   "execution_count": 58,
   "metadata": {},
   "outputs": [
    {
     "data": {
      "text/plain": [
       "'\\nknn_df = knn_graph(df_new,100,5,\"distance\")\\nknn_df = pd.DataFrame(knn_df)\\n\\nknn2_df = knn_graph(df_new,100,5,\"uniform\")\\nknn2_df = pd.DataFrame(knn2_df)\\n'"
      ]
     },
     "execution_count": 58,
     "metadata": {},
     "output_type": "execute_result"
    }
   ],
   "source": [
    "#Let's assemble a graph to see what's the sweet k-value is\n",
    "def knn_benchmark(y_test, Y_pred):\n",
    "    Y_pred = pd.Series(Y_pred).replace(-1,0) #switching back -1 to 0\n",
    "    precision = precision_score(y_test,Y_pred)\n",
    "    recall = recall_score(y_test,Y_pred)\n",
    "    mcc = matthews_corrcoef(y_test,Y_pred)\n",
    "    return precision, recall, mcc\n",
    "\n",
    "def knn_graph(df_new,n_neighbors,step=2,weight = \"distance\"):\n",
    "    global y_test, cont_col_list, target, scoring\n",
    "    outp = {\"n_value\":[],\"train_precision\":[],\"train_recall\":[],\"train_mcc\":[],\n",
    "                               \"val_precision\":[],\"val_recall\":[],\"val_mcc\":[],\n",
    "                               \"test_precision\":[],\"test_recall\":[],\"test_mcc\":[]}\n",
    "    \n",
    "    for i in range(2,n_neighbors,step):\n",
    "        model, pred = baseline_ml([neighbors.KNeighborsClassifier(n_neighbors=i,weights=weight)],\n",
    "                                  cont_col_list,target,scoring,df_new)\n",
    "        outp[\"n_value\"].append(i)\n",
    "        outp[\"train_precision\"].append(model.ML_train_precision[0])\n",
    "        outp[\"train_recall\"].append(model.ML_train_recall[0])\n",
    "        outp[\"train_mcc\"].append(model.ML_train_mcc[0])\n",
    "        outp[\"val_precision\"].append(model.ML_test_precision[0])\n",
    "        outp[\"val_recall\"].append(model.ML_test_recall[0])\n",
    "        outp[\"val_mcc\"].append(model.ML_test_mcc[0])\n",
    "        \n",
    "        t_precision, t_recall, t_mcc =  knn_benchmark(y_test,pred)\n",
    "        outp[\"test_precision\"].append(t_precision)\n",
    "        outp[\"test_recall\"].append(t_recall)\n",
    "        outp[\"test_mcc\"].append(t_mcc)\n",
    "    return outp\n",
    "\n",
    "#warning, long computation (6 hours)\n",
    "'''\n",
    "knn_df = knn_graph(df_new,100,5,\"distance\")\n",
    "knn_df = pd.DataFrame(knn_df)\n",
    "\n",
    "knn2_df = knn_graph(df_new,100,5,\"uniform\")\n",
    "knn2_df = pd.DataFrame(knn2_df)\n",
    "'''"
   ]
  },
  {
   "cell_type": "raw",
   "metadata": {},
   "source": [
    "#knn result with knn_graph(df_new,100,5,\"uniform\")\n",
    "\n",
    "n_value\ttest_mcc\ttest_precision\ttest_recall\ttrain_mcc\ttrain_precision\ttrain_recall\tval_mcc\tval_precision\tval_recall\n",
    "0\t2\t0.058375\t0.861840\t0.873523\t1.0\t1.0\t1.0\t0.054922\t0.865639\t0.871602\n",
    "1\t7\t0.063991\t0.856757\t0.985574\t1.0\t1.0\t1.0\t0.054974\t0.860694\t0.983914\n",
    "2\t12\t0.043091\t0.855153\t0.992663\t1.0\t1.0\t1.0\t0.035957\t0.859047\t0.993937\n",
    "3\t17\t0.042946\t0.854586\t0.997637\t1.0\t1.0\t1.0\t0.022105\t0.858476\t0.997525\n",
    "4\t22\t0.021562\t0.854043\t0.998383\t1.0\t1.0\t1.0\t0.018884\t0.858282\t0.998680\n",
    "5\t27\t0.030816\t0.854120\t0.999005\t1.0\t1.0\t1.0\t0.000046\t0.858049\t0.999010\n",
    "6\t32\t0.029180\t0.854001\t0.999503\t1.0\t1.0\t1.0\t0.008941\t0.858094\t0.999381\n",
    "7\t37\t0.016544\t0.853835\t0.999627\t1.0\t1.0\t1.0\t-0.000917\t0.858033\t0.999629\n",
    "8\t42\t0.009447\t0.853760\t0.999751\t1.0\t1.0\t1.0\t0.000931\t0.858048\t0.999753\n",
    "9\t47\t0.014585\t0.853775\t0.999876\t1.0\t1.0\t1.0\t-0.003379\t0.858023\t0.999794\n",
    "10\t52\t0.009447\t0.853760\t0.999751\t1.0\t1.0\t1.0\t-0.001531\t0.858038\t0.999918\n",
    "11\t57\t0.009447\t0.853760\t0.999751\t1.0\t1.0\t1.0\t-0.002296\t0.858033\t0.999876\n",
    "12\t62\t-0.004266\t0.853684\t0.999876\t1.0\t1.0\t1.0\t-0.001531\t0.858038\t0.999918\n",
    "13\t67\t-0.004266\t0.853684\t0.999876\t1.0\t1.0\t1.0\t-0.000766\t0.858043\t0.999959\n",
    "14\t72\t0.000000\t0.853700\t1.000000\t1.0\t1.0\t1.0\t0.000000\t0.858048\t1.000000\n",
    "15\t77\t0.000000\t0.853700\t1.000000\t1.0\t1.0\t1.0\t0.000000\t0.858048\t1.000000\n",
    "16\t82\t0.000000\t0.853700\t1.000000\t1.0\t1.0\t1.0\t0.000000\t0.858048\t1.000000\n",
    "17\t87\t0.000000\t0.853700\t1.000000\t1.0\t1.0\t1.0\t0.000000\t0.858048\t1.000000\n",
    "18\t92\t0.000000\t0.853700\t1.000000\t1.0\t1.0\t1.0\t0.000000\t0.858048\t1.000000\n",
    "19\t97\t0.000000\t0.853700\t1.000000\t1.0\t1.0\t1.0\t0.000000\t0.858048\t1.000000"
   ]
  },
  {
   "cell_type": "raw",
   "metadata": {},
   "source": [
    "#knn result with knn_graph(df_new,100,5,\"uniform\")\n",
    "\n",
    "n_value\ttest_mcc\ttest_precision\ttest_recall\ttrain_mcc\ttrain_precision\ttrain_recall\tval_mcc\tval_precision\tval_recall\n",
    "0\t2\t0.070131\t0.867869\t0.766198\t0.700681\t1.000000\t0.871699\t0.066974\t0.871444\t0.764158\n",
    "1\t7\t0.060479\t0.856572\t0.985574\t0.209824\t0.868553\t0.991843\t0.051262\t0.860464\t0.984327\n",
    "2\t12\t0.054977\t0.855944\t0.989429\t0.140854\t0.863740\t0.993314\t0.047484\t0.859818\t0.989936\n",
    "3\t17\t0.043842\t0.854646\t0.997388\t0.074409\t0.859482\t0.998639\t0.019758\t0.858410\t0.997484\n",
    "4\t22\t0.040579\t0.854511\t0.997761\t0.066311\t0.859263\t0.998698\t0.025392\t0.858476\t0.998020\n",
    "5\t27\t0.030816\t0.854120\t0.999005\t0.040205\t0.858498\t0.999505\t0.001168\t0.858069\t0.999175\n",
    "6\t32\t0.026090\t0.853985\t0.999378\t0.032781\t0.858394\t0.999514\t0.008440\t0.858109\t0.999258\n",
    "7\t37\t0.006048\t0.853744\t0.999627\t0.021865\t0.858206\t0.999798\t0.004027\t0.858068\t0.999670\n",
    "8\t42\t0.006048\t0.853744\t0.999627\t0.023301\t0.858212\t0.999821\t-0.000600\t0.858038\t0.999670\n",
    "9\t47\t-0.004266\t0.853684\t0.999876\t0.014003\t0.858117\t0.999927\t-0.001531\t0.858038\t0.999918\n",
    "10\t52\t0.009447\t0.853760\t0.999751\t0.013918\t0.858116\t0.999922\t-0.001531\t0.858038\t0.999918\n",
    "11\t57\t-0.006033\t0.853669\t0.999751\t0.006952\t0.858070\t0.999959\t-0.001531\t0.858038\t0.999918\n",
    "12\t62\t-0.004266\t0.853684\t0.999876\t0.006154\t0.858065\t0.999973\t-0.001531\t0.858038\t0.999918\n",
    "13\t67\t-0.004266\t0.853684\t0.999876\t0.000655\t0.858050\t0.999991\t-0.000766\t0.858043\t0.999959\n",
    "14\t72\t0.000000\t0.853700\t1.000000\t0.001287\t0.858051\t0.999995\t0.000000\t0.858048\t1.000000\n",
    "15\t77\t0.000000\t0.853700\t1.000000\t0.000000\t0.858048\t1.000000\t0.000000\t0.858048\t1.000000\n",
    "16\t82\t0.000000\t0.853700\t1.000000\t0.000000\t0.858048\t1.000000\t0.000000\t0.858048\t1.000000\n",
    "17\t87\t0.000000\t0.853700\t1.000000\t0.000000\t0.858048\t1.000000\t0.000000\t0.858048\t1.000000\n",
    "18\t92\t0.000000\t0.853700\t1.000000\t0.000000\t0.858048\t1.000000\t0.000000\t0.858048\t1.000000\n",
    "19\t97\t0.000000\t0.853700\t1.000000\t0.000000\t0.858048\t1.000000\t0.000000\t0.858048\t1.000000\n"
   ]
  },
  {
   "cell_type": "markdown",
   "metadata": {},
   "source": [
    "What did we learn with knn ? The weighted distance method gave a bunch of overfitting data with respect to n_values. Thus, it is useless for our cause. We can see that the precision is at 0.85, with a high recall on test and validation sets. This signifies that it's roughly around our baselines.\n",
    "\n",
    "As for our uniform weight scheme, we can see that the data gets worsen as our n_values go up. This is not good as it supposed to help by smoothen out the boundaries. As we can see that the precision didn't go up with n_value either, and it matches our baseline approximately. MCC value of 0 indicates no learning capability basically.\n",
    "\n",
    "therefore, we have to neglect the knn algorithm here. It adds no value to our final model."
   ]
  },
  {
   "cell_type": "code",
   "execution_count": 60,
   "metadata": {},
   "outputs": [
    {
     "data": {
      "text/html": [
       "<div>\n",
       "<style scoped>\n",
       "    .dataframe tbody tr th:only-of-type {\n",
       "        vertical-align: middle;\n",
       "    }\n",
       "\n",
       "    .dataframe tbody tr th {\n",
       "        vertical-align: top;\n",
       "    }\n",
       "\n",
       "    .dataframe thead th {\n",
       "        text-align: right;\n",
       "    }\n",
       "</style>\n",
       "<table border=\"1\" class=\"dataframe\">\n",
       "  <thead>\n",
       "    <tr style=\"text-align: right;\">\n",
       "      <th></th>\n",
       "      <th>loan_amnt</th>\n",
       "      <th>int_rate</th>\n",
       "      <th>installment</th>\n",
       "      <th>emp_length</th>\n",
       "      <th>annual_inc</th>\n",
       "      <th>dti</th>\n",
       "      <th>delinq_2yrs</th>\n",
       "      <th>inq_last_6mths</th>\n",
       "      <th>open_acc</th>\n",
       "      <th>pub_rec</th>\n",
       "      <th>revol_bal</th>\n",
       "      <th>revol_util</th>\n",
       "      <th>total_acc</th>\n",
       "      <th>loan_status</th>\n",
       "    </tr>\n",
       "  </thead>\n",
       "  <tbody>\n",
       "    <tr>\n",
       "      <th>0</th>\n",
       "      <td>-0.834763</td>\n",
       "      <td>-0.359030</td>\n",
       "      <td>-0.776472</td>\n",
       "      <td>1.420190</td>\n",
       "      <td>-0.703513</td>\n",
       "      <td>2.155269</td>\n",
       "      <td>-0.298207</td>\n",
       "      <td>0.119464</td>\n",
       "      <td>-1.435232</td>\n",
       "      <td>-0.229075</td>\n",
       "      <td>0.016268</td>\n",
       "      <td>1.229112</td>\n",
       "      <td>-1.148820</td>\n",
       "      <td>1</td>\n",
       "    </tr>\n",
       "    <tr>\n",
       "      <th>1</th>\n",
       "      <td>-1.174074</td>\n",
       "      <td>0.893452</td>\n",
       "      <td>-1.269798</td>\n",
       "      <td>-1.390247</td>\n",
       "      <td>-0.610662</td>\n",
       "      <td>-1.845302</td>\n",
       "      <td>-0.298207</td>\n",
       "      <td>3.853802</td>\n",
       "      <td>-1.435232</td>\n",
       "      <td>-0.229075</td>\n",
       "      <td>-0.736299</td>\n",
       "      <td>-1.392940</td>\n",
       "      <td>-1.587099</td>\n",
       "      <td>0</td>\n",
       "    </tr>\n",
       "    <tr>\n",
       "      <th>2</th>\n",
       "      <td>-1.187647</td>\n",
       "      <td>1.080511</td>\n",
       "      <td>-1.152499</td>\n",
       "      <td>1.420190</td>\n",
       "      <td>-0.885314</td>\n",
       "      <td>-0.686412</td>\n",
       "      <td>-0.298207</td>\n",
       "      <td>1.053049</td>\n",
       "      <td>-1.662766</td>\n",
       "      <td>-0.229075</td>\n",
       "      <td>-0.656456</td>\n",
       "      <td>1.751405</td>\n",
       "      <td>-1.061164</td>\n",
       "      <td>1</td>\n",
       "    </tr>\n",
       "    <tr>\n",
       "      <th>3</th>\n",
       "      <td>-0.156141</td>\n",
       "      <td>0.410894</td>\n",
       "      <td>0.068271</td>\n",
       "      <td>1.420190</td>\n",
       "      <td>-0.313540</td>\n",
       "      <td>1.006888</td>\n",
       "      <td>-0.298207</td>\n",
       "      <td>0.119464</td>\n",
       "      <td>0.157507</td>\n",
       "      <td>-0.229075</td>\n",
       "      <td>-0.490225</td>\n",
       "      <td>-0.983575</td>\n",
       "      <td>1.305542</td>\n",
       "      <td>1</td>\n",
       "    </tr>\n",
       "    <tr>\n",
       "      <th>4</th>\n",
       "      <td>-0.834763</td>\n",
       "      <td>-1.104555</td>\n",
       "      <td>-0.807161</td>\n",
       "      <td>-0.547116</td>\n",
       "      <td>-0.517812</td>\n",
       "      <td>-0.314126</td>\n",
       "      <td>-0.298207</td>\n",
       "      <td>1.986633</td>\n",
       "      <td>-0.070027</td>\n",
       "      <td>-0.229075</td>\n",
       "      <td>-0.341423</td>\n",
       "      <td>-0.725958</td>\n",
       "      <td>-0.885853</td>\n",
       "      <td>1</td>\n",
       "    </tr>\n",
       "  </tbody>\n",
       "</table>\n",
       "</div>"
      ],
      "text/plain": [
       "   loan_amnt  int_rate  installment  emp_length  annual_inc       dti  \\\n",
       "0  -0.834763 -0.359030    -0.776472    1.420190   -0.703513  2.155269   \n",
       "1  -1.174074  0.893452    -1.269798   -1.390247   -0.610662 -1.845302   \n",
       "2  -1.187647  1.080511    -1.152499    1.420190   -0.885314 -0.686412   \n",
       "3  -0.156141  0.410894     0.068271    1.420190   -0.313540  1.006888   \n",
       "4  -0.834763 -1.104555    -0.807161   -0.547116   -0.517812 -0.314126   \n",
       "\n",
       "   delinq_2yrs  inq_last_6mths  open_acc   pub_rec  revol_bal  revol_util  \\\n",
       "0    -0.298207        0.119464 -1.435232 -0.229075   0.016268    1.229112   \n",
       "1    -0.298207        3.853802 -1.435232 -0.229075  -0.736299   -1.392940   \n",
       "2    -0.298207        1.053049 -1.662766 -0.229075  -0.656456    1.751405   \n",
       "3    -0.298207        0.119464  0.157507 -0.229075  -0.490225   -0.983575   \n",
       "4    -0.298207        1.986633 -0.070027 -0.229075  -0.341423   -0.725958   \n",
       "\n",
       "   total_acc  loan_status  \n",
       "0  -1.148820            1  \n",
       "1  -1.587099            0  \n",
       "2  -1.061164            1  \n",
       "3   1.305542            1  \n",
       "4  -0.885853            1  "
      ]
     },
     "execution_count": 60,
     "metadata": {},
     "output_type": "execute_result"
    }
   ],
   "source": [
    "#revert the (-1,1) binary target back to original form.\n",
    "df_new[\"loan_status\"].replace(-1,0,inplace=True)\n",
    "df_new.head()"
   ]
  },
  {
   "cell_type": "code",
   "execution_count": 61,
   "metadata": {},
   "outputs": [
    {
     "data": {
      "text/plain": [
       "'\\nLinearSVC_hp = {\"class_weight\":[\"balanced\"], \"C\":[0.05,0.1,0.3,0.6,1,2,3,4,5,6,7,8,9,10],\"random_state\":[1]}\\nLinearSVC_model = tuning_grid(svm.LinearSVC(),cont_col_list,target,LinearSVC_hp,df_new)\\nLinearSVC_model\\n'"
      ]
     },
     "execution_count": 61,
     "metadata": {},
     "output_type": "execute_result"
    }
   ],
   "source": [
    "#balanced weight will help compensate for imbalance datasets. Tried default and other loss functions, didn't work well.\n",
    "#the penalty C didn't really change much on the overall result either.\n",
    "'''\n",
    "LinearSVC_hp = {\"class_weight\":[\"balanced\"], \"C\":[0.05,0.1,0.3,0.6,1,2,3,4,5,6,7,8,9,10],\"random_state\":[1]}\n",
    "LinearSVC_model = tuning_grid(svm.LinearSVC(),cont_col_list,target,LinearSVC_hp,df_new)\n",
    "LinearSVC_model\n",
    "'''"
   ]
  },
  {
   "cell_type": "code",
   "execution_count": 62,
   "metadata": {},
   "outputs": [
    {
     "data": {
      "text/html": [
       "<div>\n",
       "<style scoped>\n",
       "    .dataframe tbody tr th:only-of-type {\n",
       "        vertical-align: middle;\n",
       "    }\n",
       "\n",
       "    .dataframe tbody tr th {\n",
       "        vertical-align: top;\n",
       "    }\n",
       "\n",
       "    .dataframe thead th {\n",
       "        text-align: right;\n",
       "    }\n",
       "</style>\n",
       "<table border=\"1\" class=\"dataframe\">\n",
       "  <thead>\n",
       "    <tr style=\"text-align: right;\">\n",
       "      <th></th>\n",
       "      <th>ML_alg</th>\n",
       "      <th>ML_params</th>\n",
       "      <th>ML_runtime</th>\n",
       "      <th>ML_train_accuracy</th>\n",
       "      <th>ML_train_precision</th>\n",
       "      <th>ML_train_recall</th>\n",
       "      <th>ML_train_mcc</th>\n",
       "      <th>ML_test_accuracy</th>\n",
       "      <th>ML_test_precision</th>\n",
       "      <th>ML_test_recall</th>\n",
       "      <th>ML_test_mcc</th>\n",
       "    </tr>\n",
       "  </thead>\n",
       "  <tbody>\n",
       "    <tr>\n",
       "      <th>0</th>\n",
       "      <td>LinearSVC</td>\n",
       "      <td>{'C': 6, 'class_weight': 'balanced', 'dual': T...</td>\n",
       "      <td>3.67576</td>\n",
       "      <td>0.667972</td>\n",
       "      <td>0.908232</td>\n",
       "      <td>0.681969</td>\n",
       "      <td>0.193492</td>\n",
       "      <td>0.666406</td>\n",
       "      <td>0.907993</td>\n",
       "      <td>0.680139</td>\n",
       "      <td>0.192043</td>\n",
       "    </tr>\n",
       "  </tbody>\n",
       "</table>\n",
       "</div>"
      ],
      "text/plain": [
       "      ML_alg                                          ML_params ML_runtime  \\\n",
       "0  LinearSVC  {'C': 6, 'class_weight': 'balanced', 'dual': T...    3.67576   \n",
       "\n",
       "  ML_train_accuracy ML_train_precision ML_train_recall ML_train_mcc  \\\n",
       "0          0.667972           0.908232        0.681969     0.193492   \n",
       "\n",
       "  ML_test_accuracy ML_test_precision ML_test_recall ML_test_mcc  \n",
       "0         0.666406          0.907993       0.680139    0.192043  "
      ]
     },
     "execution_count": 62,
     "metadata": {},
     "output_type": "execute_result"
    }
   ],
   "source": [
    "current_model = [svm.LinearSVC(class_weight=\"balanced\",C=6,random_state=1)] #distance helps a little with imbalance\n",
    "current_table, y_pred = baseline_ml(current_model,cont_col_list,target,scoring,df_new)\n",
    "hyper_tuning[\"LinearSVC\"] = current_model\n",
    "Y_pred[\"LinearSVC\"] = y_pred\n",
    "current_table"
   ]
  },
  {
   "cell_type": "code",
   "execution_count": 63,
   "metadata": {},
   "outputs": [
    {
     "data": {
      "text/html": [
       "<div>\n",
       "<style scoped>\n",
       "    .dataframe tbody tr th:only-of-type {\n",
       "        vertical-align: middle;\n",
       "    }\n",
       "\n",
       "    .dataframe tbody tr th {\n",
       "        vertical-align: top;\n",
       "    }\n",
       "\n",
       "    .dataframe thead th {\n",
       "        text-align: right;\n",
       "    }\n",
       "</style>\n",
       "<table border=\"1\" class=\"dataframe\">\n",
       "  <thead>\n",
       "    <tr style=\"text-align: right;\">\n",
       "      <th></th>\n",
       "      <th>XGBClassifier</th>\n",
       "      <th>AdaBoostClassifier</th>\n",
       "      <th>BaggingClassifier</th>\n",
       "      <th>ExtraTreeClassifier</th>\n",
       "      <th>RandomForestClassifier</th>\n",
       "      <th>LogisticRegressionCV</th>\n",
       "      <th>Vote1</th>\n",
       "      <th>LinearSVC</th>\n",
       "    </tr>\n",
       "  </thead>\n",
       "  <tbody>\n",
       "    <tr>\n",
       "      <th>0</th>\n",
       "      <td>1</td>\n",
       "      <td>1</td>\n",
       "      <td>1</td>\n",
       "      <td>1</td>\n",
       "      <td>1</td>\n",
       "      <td>1</td>\n",
       "      <td>1.0</td>\n",
       "      <td>1</td>\n",
       "    </tr>\n",
       "    <tr>\n",
       "      <th>1</th>\n",
       "      <td>0</td>\n",
       "      <td>0</td>\n",
       "      <td>0</td>\n",
       "      <td>1</td>\n",
       "      <td>0</td>\n",
       "      <td>0</td>\n",
       "      <td>0.0</td>\n",
       "      <td>0</td>\n",
       "    </tr>\n",
       "    <tr>\n",
       "      <th>2</th>\n",
       "      <td>0</td>\n",
       "      <td>0</td>\n",
       "      <td>0</td>\n",
       "      <td>1</td>\n",
       "      <td>0</td>\n",
       "      <td>1</td>\n",
       "      <td>0.0</td>\n",
       "      <td>0</td>\n",
       "    </tr>\n",
       "    <tr>\n",
       "      <th>3</th>\n",
       "      <td>0</td>\n",
       "      <td>0</td>\n",
       "      <td>0</td>\n",
       "      <td>0</td>\n",
       "      <td>0</td>\n",
       "      <td>0</td>\n",
       "      <td>0.0</td>\n",
       "      <td>0</td>\n",
       "    </tr>\n",
       "    <tr>\n",
       "      <th>4</th>\n",
       "      <td>1</td>\n",
       "      <td>1</td>\n",
       "      <td>1</td>\n",
       "      <td>1</td>\n",
       "      <td>1</td>\n",
       "      <td>1</td>\n",
       "      <td>1.0</td>\n",
       "      <td>1</td>\n",
       "    </tr>\n",
       "  </tbody>\n",
       "</table>\n",
       "</div>"
      ],
      "text/plain": [
       "   XGBClassifier  AdaBoostClassifier  BaggingClassifier  ExtraTreeClassifier  \\\n",
       "0              1                   1                  1                    1   \n",
       "1              0                   0                  0                    1   \n",
       "2              0                   0                  0                    1   \n",
       "3              0                   0                  0                    0   \n",
       "4              1                   1                  1                    1   \n",
       "\n",
       "   RandomForestClassifier  LogisticRegressionCV  Vote1  LinearSVC  \n",
       "0                       1                     1    1.0          1  \n",
       "1                       0                     0    0.0          0  \n",
       "2                       0                     1    0.0          0  \n",
       "3                       0                     0    0.0          0  \n",
       "4                       1                     1    1.0          1  "
      ]
     },
     "execution_count": 63,
     "metadata": {},
     "output_type": "execute_result"
    }
   ],
   "source": [
    "Y_pred.head()"
   ]
  },
  {
   "cell_type": "code",
   "execution_count": 64,
   "metadata": {},
   "outputs": [
    {
     "data": {
      "text/plain": [
       "'\\nSGDClassifier_hp = {\"class_weight\":[\"balanced\"],\"random_state\":[1],\"max_iter\":[1000],\\n                    \"alpha\":[0.0001,0.001,0.01,1,10,100,1000],\"verbose\":[0]}\\nSGDClassifier_model = tuning_grid(linear_model.SGDClassifier(),cont_col_list,target,SGDClassifier_hp,df_new)\\nSGDClassifier_model\\n'"
      ]
     },
     "execution_count": 64,
     "metadata": {},
     "output_type": "execute_result"
    }
   ],
   "source": [
    "#regularized linear regression (SVM,Logistic regression) with SGD learning. Logistic regression has gradient descend\n",
    "#we'll use a large n_iter because of some low alpha values.\n",
    "#playing around with different penalties: elasticnet, l1 and l2 reg don't seem to affect much of the mcc score.\n",
    "#we'll tune around the learning rate, alpha (also regularization learn for l2 -default value)\n",
    "#refer: http://www.chioka.in/differences-between-l1-and-l2-as-loss-function-and-regularization/\n",
    "'''\n",
    "SGDClassifier_hp = {\"class_weight\":[\"balanced\"],\"random_state\":[1],\"max_iter\":[1000],\n",
    "                    \"alpha\":[0.0001,0.001,0.01,1,10,100,1000],\"verbose\":[0]}\n",
    "SGDClassifier_model = tuning_grid(linear_model.SGDClassifier(),cont_col_list,target,SGDClassifier_hp,df_new)\n",
    "SGDClassifier_model\n",
    "'''\n",
    "#another method is to turn on verbose=1 to see if the losses are going down or not.\n",
    "#also, one we can graph mcc with respect to alpha values to find the optimal value."
   ]
  },
  {
   "cell_type": "code",
   "execution_count": 65,
   "metadata": {},
   "outputs": [
    {
     "data": {
      "text/html": [
       "<div>\n",
       "<style scoped>\n",
       "    .dataframe tbody tr th:only-of-type {\n",
       "        vertical-align: middle;\n",
       "    }\n",
       "\n",
       "    .dataframe tbody tr th {\n",
       "        vertical-align: top;\n",
       "    }\n",
       "\n",
       "    .dataframe thead th {\n",
       "        text-align: right;\n",
       "    }\n",
       "</style>\n",
       "<table border=\"1\" class=\"dataframe\">\n",
       "  <thead>\n",
       "    <tr style=\"text-align: right;\">\n",
       "      <th></th>\n",
       "      <th>ML_alg</th>\n",
       "      <th>ML_params</th>\n",
       "      <th>ML_runtime</th>\n",
       "      <th>ML_train_accuracy</th>\n",
       "      <th>ML_train_precision</th>\n",
       "      <th>ML_train_recall</th>\n",
       "      <th>ML_train_mcc</th>\n",
       "      <th>ML_test_accuracy</th>\n",
       "      <th>ML_test_precision</th>\n",
       "      <th>ML_test_recall</th>\n",
       "      <th>ML_test_mcc</th>\n",
       "    </tr>\n",
       "  </thead>\n",
       "  <tbody>\n",
       "    <tr>\n",
       "      <th>0</th>\n",
       "      <td>SGDClassifier</td>\n",
       "      <td>{'alpha': 0.0001, 'average': False, 'class_wei...</td>\n",
       "      <td>2.15464</td>\n",
       "      <td>0.642275</td>\n",
       "      <td>0.91261</td>\n",
       "      <td>0.644852</td>\n",
       "      <td>0.194002</td>\n",
       "      <td>0.640926</td>\n",
       "      <td>0.911957</td>\n",
       "      <td>0.643679</td>\n",
       "      <td>0.191372</td>\n",
       "    </tr>\n",
       "  </tbody>\n",
       "</table>\n",
       "</div>"
      ],
      "text/plain": [
       "          ML_alg                                          ML_params  \\\n",
       "0  SGDClassifier  {'alpha': 0.0001, 'average': False, 'class_wei...   \n",
       "\n",
       "  ML_runtime ML_train_accuracy ML_train_precision ML_train_recall  \\\n",
       "0    2.15464          0.642275            0.91261        0.644852   \n",
       "\n",
       "  ML_train_mcc ML_test_accuracy ML_test_precision ML_test_recall ML_test_mcc  \n",
       "0     0.194002         0.640926          0.911957       0.643679    0.191372  "
      ]
     },
     "execution_count": 65,
     "metadata": {},
     "output_type": "execute_result"
    }
   ],
   "source": [
    "#it's ironic that we have not found the minimum in our search, and the default setup was the best.\n",
    "#results are comparable to some of the top ensemble techniques above!\n",
    "current_model = [linear_model.SGDClassifier(penalty=\"l2\",class_weight=\"balanced\", max_iter=1000, n_jobs=-1, \n",
    "                                            alpha=0.0001,random_state=1)] #distance helps a little with imbalance\n",
    "current_table, y_pred = baseline_ml(current_model,cont_col_list,target,scoring,df_new)\n",
    "hyper_tuning[\"SGDClassifier\"] = current_model\n",
    "Y_pred[\"SGDClassifier\"] = y_pred\n",
    "current_table"
   ]
  },
  {
   "cell_type": "markdown",
   "metadata": {},
   "source": [
    "Instead of stopping here, it's well-known that Logistic Regression with GD performs better overall when compared to SGDClassifier. Let's see if we can bring the performance of that to be better than the current SGDClassifier results, which are already really good when compared to ensemble techniques that we've had above."
   ]
  },
  {
   "cell_type": "code",
   "execution_count": 66,
   "metadata": {},
   "outputs": [
    {
     "data": {
      "text/plain": [
       "'\\nLogisticRegression_hp = {\"penalty\":[\"l2\"],\"class_weight\":[\"balanced\"],\"max_iter\":[1000],\"n_jobs\":[-1],\\n                        \"Cs\":[i for i in range(1,100,3)],\"random_state\":[1]}\\nLogisticRegression_model = tuning_grid(linear_model.LogisticRegressionCV(),cont_col_list,target,LogisticRegression_hp,df_new)\\nLogisticRegression_model\\n'"
      ]
     },
     "execution_count": 66,
     "metadata": {},
     "output_type": "execute_result"
    }
   ],
   "source": [
    "#Each of the values in Cs describes the inverse of regularization strength. \n",
    "#If Cs is as an int, then a grid of Cs values are chosen in a logarithmic scale between 1e-4 and 1e4. \n",
    "#Like in svm, smaller values specify stronger regularization.\n",
    "'''\n",
    "LogisticRegression_hp = {\"penalty\":[\"l2\"],\"class_weight\":[\"balanced\"],\"max_iter\":[1000],\"n_jobs\":[-1],\n",
    "                        \"Cs\":[i for i in range(1,100,3)],\"random_state\":[1]}\n",
    "LogisticRegression_model = tuning_grid(linear_model.LogisticRegressionCV(),cont_col_list,target,LogisticRegression_hp,df_new)\n",
    "LogisticRegression_model\n",
    "'''"
   ]
  },
  {
   "cell_type": "code",
   "execution_count": 69,
   "metadata": {},
   "outputs": [
    {
     "data": {
      "text/html": [
       "<div>\n",
       "<style scoped>\n",
       "    .dataframe tbody tr th:only-of-type {\n",
       "        vertical-align: middle;\n",
       "    }\n",
       "\n",
       "    .dataframe tbody tr th {\n",
       "        vertical-align: top;\n",
       "    }\n",
       "\n",
       "    .dataframe thead th {\n",
       "        text-align: right;\n",
       "    }\n",
       "</style>\n",
       "<table border=\"1\" class=\"dataframe\">\n",
       "  <thead>\n",
       "    <tr style=\"text-align: right;\">\n",
       "      <th></th>\n",
       "      <th>XGBClassifier</th>\n",
       "      <th>AdaBoostClassifier</th>\n",
       "      <th>BaggingClassifier</th>\n",
       "      <th>ExtraTreeClassifier</th>\n",
       "      <th>RandomForestClassifier</th>\n",
       "      <th>LogisticRegressionCV</th>\n",
       "      <th>Vote1</th>\n",
       "      <th>LinearSVC</th>\n",
       "      <th>SGDClassifier</th>\n",
       "    </tr>\n",
       "  </thead>\n",
       "  <tbody>\n",
       "    <tr>\n",
       "      <th>0</th>\n",
       "      <td>1</td>\n",
       "      <td>1</td>\n",
       "      <td>1</td>\n",
       "      <td>1</td>\n",
       "      <td>1</td>\n",
       "      <td>1</td>\n",
       "      <td>1.0</td>\n",
       "      <td>1</td>\n",
       "      <td>1</td>\n",
       "    </tr>\n",
       "    <tr>\n",
       "      <th>1</th>\n",
       "      <td>0</td>\n",
       "      <td>0</td>\n",
       "      <td>0</td>\n",
       "      <td>1</td>\n",
       "      <td>0</td>\n",
       "      <td>0</td>\n",
       "      <td>0.0</td>\n",
       "      <td>0</td>\n",
       "      <td>0</td>\n",
       "    </tr>\n",
       "    <tr>\n",
       "      <th>2</th>\n",
       "      <td>0</td>\n",
       "      <td>0</td>\n",
       "      <td>0</td>\n",
       "      <td>1</td>\n",
       "      <td>0</td>\n",
       "      <td>1</td>\n",
       "      <td>0.0</td>\n",
       "      <td>0</td>\n",
       "      <td>0</td>\n",
       "    </tr>\n",
       "    <tr>\n",
       "      <th>3</th>\n",
       "      <td>0</td>\n",
       "      <td>0</td>\n",
       "      <td>0</td>\n",
       "      <td>0</td>\n",
       "      <td>0</td>\n",
       "      <td>0</td>\n",
       "      <td>0.0</td>\n",
       "      <td>0</td>\n",
       "      <td>0</td>\n",
       "    </tr>\n",
       "    <tr>\n",
       "      <th>4</th>\n",
       "      <td>1</td>\n",
       "      <td>1</td>\n",
       "      <td>1</td>\n",
       "      <td>1</td>\n",
       "      <td>1</td>\n",
       "      <td>1</td>\n",
       "      <td>1.0</td>\n",
       "      <td>1</td>\n",
       "      <td>1</td>\n",
       "    </tr>\n",
       "  </tbody>\n",
       "</table>\n",
       "</div>"
      ],
      "text/plain": [
       "   XGBClassifier  AdaBoostClassifier  BaggingClassifier  ExtraTreeClassifier  \\\n",
       "0              1                   1                  1                    1   \n",
       "1              0                   0                  0                    1   \n",
       "2              0                   0                  0                    1   \n",
       "3              0                   0                  0                    0   \n",
       "4              1                   1                  1                    1   \n",
       "\n",
       "   RandomForestClassifier  LogisticRegressionCV  Vote1  LinearSVC  \\\n",
       "0                       1                     1    1.0          1   \n",
       "1                       0                     0    0.0          0   \n",
       "2                       0                     1    0.0          0   \n",
       "3                       0                     0    0.0          0   \n",
       "4                       1                     1    1.0          1   \n",
       "\n",
       "   SGDClassifier  \n",
       "0              1  \n",
       "1              0  \n",
       "2              0  \n",
       "3              0  \n",
       "4              1  "
      ]
     },
     "execution_count": 69,
     "metadata": {},
     "output_type": "execute_result"
    }
   ],
   "source": [
    "Y_pred.head()"
   ]
  },
  {
   "cell_type": "code",
   "execution_count": 71,
   "metadata": {},
   "outputs": [],
   "source": [
    "current_model = [linear_model.LogisticRegressionCV(penalty=\"l2\",class_weight=\"balanced\",max_iter=1000, n_jobs=-1,Cs=34,\n",
    "                                            random_state=1)]\n",
    "current_table, y_pred = baseline_ml(current_model,cont_col_list,target,scoring,df_new)\n",
    "current_table\n",
    "hyper_tuning[\"LogisticRegressionCV2\"] = current_model\n",
    "Y_pred[\"LogisticRegressionCV2\"] = y_pred\n",
    "\n",
    "#we can see that under most of the circumstances, the best of SGD LR can reach the level of the Classic LR. This is because SGD uses single point for loss, and gradient descend sums all the errors.\n",
    "#therefore, SGD is quicker, but not as general as the LR version."
   ]
  },
  {
   "cell_type": "code",
   "execution_count": 73,
   "metadata": {},
   "outputs": [
    {
     "data": {
      "text/html": [
       "<div>\n",
       "<style scoped>\n",
       "    .dataframe tbody tr th:only-of-type {\n",
       "        vertical-align: middle;\n",
       "    }\n",
       "\n",
       "    .dataframe tbody tr th {\n",
       "        vertical-align: top;\n",
       "    }\n",
       "\n",
       "    .dataframe thead th {\n",
       "        text-align: right;\n",
       "    }\n",
       "</style>\n",
       "<table border=\"1\" class=\"dataframe\">\n",
       "  <thead>\n",
       "    <tr style=\"text-align: right;\">\n",
       "      <th></th>\n",
       "      <th>XGBClassifier</th>\n",
       "      <th>AdaBoostClassifier</th>\n",
       "      <th>BaggingClassifier</th>\n",
       "      <th>ExtraTreeClassifier</th>\n",
       "      <th>RandomForestClassifier</th>\n",
       "      <th>LogisticRegressionCV</th>\n",
       "      <th>Vote1</th>\n",
       "      <th>LinearSVC</th>\n",
       "      <th>SGDClassifier</th>\n",
       "      <th>LogisticRegressionCV2</th>\n",
       "    </tr>\n",
       "  </thead>\n",
       "  <tbody>\n",
       "    <tr>\n",
       "      <th>0</th>\n",
       "      <td>1</td>\n",
       "      <td>1</td>\n",
       "      <td>1</td>\n",
       "      <td>1</td>\n",
       "      <td>1</td>\n",
       "      <td>1</td>\n",
       "      <td>1.0</td>\n",
       "      <td>1</td>\n",
       "      <td>1</td>\n",
       "      <td>1</td>\n",
       "    </tr>\n",
       "    <tr>\n",
       "      <th>1</th>\n",
       "      <td>0</td>\n",
       "      <td>0</td>\n",
       "      <td>0</td>\n",
       "      <td>1</td>\n",
       "      <td>0</td>\n",
       "      <td>0</td>\n",
       "      <td>0.0</td>\n",
       "      <td>0</td>\n",
       "      <td>0</td>\n",
       "      <td>0</td>\n",
       "    </tr>\n",
       "    <tr>\n",
       "      <th>2</th>\n",
       "      <td>0</td>\n",
       "      <td>0</td>\n",
       "      <td>0</td>\n",
       "      <td>1</td>\n",
       "      <td>0</td>\n",
       "      <td>1</td>\n",
       "      <td>0.0</td>\n",
       "      <td>0</td>\n",
       "      <td>0</td>\n",
       "      <td>0</td>\n",
       "    </tr>\n",
       "    <tr>\n",
       "      <th>3</th>\n",
       "      <td>0</td>\n",
       "      <td>0</td>\n",
       "      <td>0</td>\n",
       "      <td>0</td>\n",
       "      <td>0</td>\n",
       "      <td>0</td>\n",
       "      <td>0.0</td>\n",
       "      <td>0</td>\n",
       "      <td>0</td>\n",
       "      <td>0</td>\n",
       "    </tr>\n",
       "    <tr>\n",
       "      <th>4</th>\n",
       "      <td>1</td>\n",
       "      <td>1</td>\n",
       "      <td>1</td>\n",
       "      <td>1</td>\n",
       "      <td>1</td>\n",
       "      <td>1</td>\n",
       "      <td>1.0</td>\n",
       "      <td>1</td>\n",
       "      <td>1</td>\n",
       "      <td>1</td>\n",
       "    </tr>\n",
       "  </tbody>\n",
       "</table>\n",
       "</div>"
      ],
      "text/plain": [
       "   XGBClassifier  AdaBoostClassifier  BaggingClassifier  ExtraTreeClassifier  \\\n",
       "0              1                   1                  1                    1   \n",
       "1              0                   0                  0                    1   \n",
       "2              0                   0                  0                    1   \n",
       "3              0                   0                  0                    0   \n",
       "4              1                   1                  1                    1   \n",
       "\n",
       "   RandomForestClassifier  LogisticRegressionCV  Vote1  LinearSVC  \\\n",
       "0                       1                     1    1.0          1   \n",
       "1                       0                     0    0.0          0   \n",
       "2                       0                     1    0.0          0   \n",
       "3                       0                     0    0.0          0   \n",
       "4                       1                     1    1.0          1   \n",
       "\n",
       "   SGDClassifier  LogisticRegressionCV2  \n",
       "0              1                      1  \n",
       "1              0                      0  \n",
       "2              0                      0  \n",
       "3              0                      0  \n",
       "4              1                      1  "
      ]
     },
     "execution_count": 73,
     "metadata": {},
     "output_type": "execute_result"
    }
   ],
   "source": [
    "Y_pred.head()"
   ]
  },
  {
   "cell_type": "code",
   "execution_count": 74,
   "metadata": {},
   "outputs": [
    {
     "name": "stdout",
     "output_type": "stream",
     "text": [
      "accuracy:  0.6519800403439856\n",
      "Precision:  0.9206853912736266\n",
      "Recall:  0.6481780873025743\n",
      "MCC:  0.23263424824654383\n"
     ]
    }
   ],
   "source": [
    "Y_pred[\"Vote_Final\"] = Y_pred.mode(axis=1)[0] #need the zero for unpacking\n",
    "Y_pred\n",
    "\n",
    "print(\"accuracy: \", accuracy_score(y_test,Y_pred[\"Vote_Final\"]))\n",
    "print(\"Precision: \", precision_score(y_test,Y_pred[\"Vote_Final\"]))\n",
    "print(\"Recall: \",recall_score(y_test,Y_pred[\"Vote_Final\"]))\n",
    "print(\"MCC: \",matthews_corrcoef(y_test,Y_pred[\"Vote_Final\"]))"
   ]
  },
  {
   "cell_type": "markdown",
   "metadata": {},
   "source": [
    "# Conclusion"
   ]
  },
  {
   "cell_type": "markdown",
   "metadata": {},
   "source": [
    "We were able to generalize the dataset pretty well. This ensemble model is pretty decent with a 1/3 miss chance on good loan, but with a very high success rate on determining a good investment. Using F1-score optimization will make us use more risk with a high recall rate. MCC score takes into account of all 4 confusion matrix quadrants to help us not be too conservative if we had chosen to optimize for precision. \n",
    "\n",
    "Many real world data are not Guassian in nature, and can sometime be filled with useless features. It is neccessary to see how important the preparation and exploration of data. Using various techniques and optimize them with GridSearch helped our initial search. Just like the real world, we want to optimize on both research time and results. This makes us skip a couple of algorithms and neural networks related stuff. However, the most important aspect of the project was to figure out how to handle our business question, the characteristics of our dataset, as well as preparing the neccessary features to use.\n",
    "\n",
    "Now the conclusion to our question is that with this model we can have a high rate of lending out good loans (if the borrower stays in the \"known\" zone). It is now our job to go out there and find 3-4 people for every 2 people on average, that we want to make money off of!"
   ]
  },
  {
   "cell_type": "code",
   "execution_count": null,
   "metadata": {
    "collapsed": true
   },
   "outputs": [],
   "source": []
  }
 ],
 "metadata": {
  "kernelspec": {
   "display_name": "Python 3",
   "language": "python",
   "name": "python3"
  },
  "language_info": {
   "codemirror_mode": {
    "name": "ipython",
    "version": 3
   },
   "file_extension": ".py",
   "mimetype": "text/x-python",
   "name": "python",
   "nbconvert_exporter": "python",
   "pygments_lexer": "ipython3",
   "version": "3.6.5"
  }
 },
 "nbformat": 4,
 "nbformat_minor": 2
}
