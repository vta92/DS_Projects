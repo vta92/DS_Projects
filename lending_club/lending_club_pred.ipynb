{
 "cells": [
  {
   "cell_type": "code",
   "execution_count": 11,
   "metadata": {
    "collapsed": true
   },
   "outputs": [],
   "source": [
    "import pandas as pd\n",
    "import numpy as np"
   ]
  },
  {
   "cell_type": "code",
   "execution_count": 12,
   "metadata": {},
   "outputs": [
    {
     "data": {
      "text/plain": [
       "(37675, 39)"
      ]
     },
     "execution_count": 12,
     "metadata": {},
     "output_type": "execute_result"
    }
   ],
   "source": [
    "df = pd.read_csv(\"processed_loans_2007.csv\")\n",
    "df.shape"
   ]
  },
  {
   "cell_type": "code",
   "execution_count": 13,
   "metadata": {},
   "outputs": [
    {
     "data": {
      "text/plain": [
       "1    0.856961\n",
       "0    0.143039\n",
       "Name: loan_status, dtype: float64"
      ]
     },
     "execution_count": 13,
     "metadata": {},
     "output_type": "execute_result"
    }
   ],
   "source": [
    "df.loan_status.value_counts(normalize=True)\n"
   ]
  },
  {
   "cell_type": "markdown",
   "metadata": {},
   "source": [
    "It seems that we don't have much that are unapproved. Therefore, it's not a good idea to just train it with the normal accuracy benchmarks. That would be superficially high and would not be helpful in our predictions. This is a good example to use high recall(true positive) and low fallout (false positive) rates for evaluation.\n",
    "\n",
    "True positive rate = (True postives)/(True positives + false negatives)\n",
    "\n",
    "False positive rate = (false positives)/(false positive + true negatives)"
   ]
  },
  {
   "cell_type": "markdown",
   "metadata": {},
   "source": [
    "# Machine Learning Algorithm 1: Logistic Regression"
   ]
  },
  {
   "cell_type": "code",
   "execution_count": 36,
   "metadata": {},
   "outputs": [
    {
     "name": "stdout",
     "output_type": "stream",
     "text": [
      "0.9873817034700315 0.9963761382642632\n",
      "0.9873817034700315 0.9963761382642632 \n",
      "Ratio =  1.009109379647832\n"
     ]
    }
   ],
   "source": [
    "from sklearn.linear_model import LogisticRegression\n",
    "from sklearn.model_selection import cross_val_predict\n",
    "lr = LogisticRegression()\n",
    "\n",
    "features = df.columns.tolist()\n",
    "features.remove(\"loan_status\")\n",
    "target = \"loan_status\"\n",
    "\n",
    "#k-fold CV This is crucial to prevent overfitting due to the little data that we have for loan_status == 0.\n",
    "pred = cross_val_predict(lr,df[features],df[target],cv=3)\n",
    "pred = pd.Series(pred)\n",
    "\n",
    "#doing metrics with high recall and low fallout calculations\n",
    "temp = (pred == 0) &(df.loan_status == 0)\n",
    "tn = len(pred[temp]) #the number of true negatives in a prediction\n",
    "temp = (pred == 1) &(df.loan_status == 1)\n",
    "tp = len(pred[temp])\n",
    "temp = (pred == 0) &(df.loan_status == 1)\n",
    "fn = len(pred[temp])\n",
    "temp = (pred == 1) &(df.loan_status == 0)\n",
    "fp = len(pred[temp])\n",
    "\n",
    "#false positive rate and true positive rate\n",
    "fpr = fp/(fp+tn)\n",
    "tpr = tp/(tp+fn)\n",
    "print(fpr,tpr)\n",
    "print(fpr,tpr, \"\\nRatio = \",tpr/fpr)\n",
    "#very high fpr and tpr. That means that we just predict everything with 1 due to class imbalances"
   ]
  },
  {
   "cell_type": "markdown",
   "metadata": {},
   "source": [
    "It seems that even with the classification of false positive rate and true positive rate alone is not helping with our model. It is then crucial to somehow solve the binary ratio of our target with data manipulation. We can:\n",
    "1. Oversample and undersample\n",
    "2. Penalize for each false classication of the minority of our output"
   ]
  },
  {
   "cell_type": "code",
   "execution_count": 15,
   "metadata": {},
   "outputs": [
    {
     "name": "stdout",
     "output_type": "stream",
     "text": [
      "0.44702171089255893 0.6830205042433253\n",
      "0.44702171089255893 0.6830205042433253 \n",
      "Ratio =  1.5279358644114902\n"
     ]
    }
   ],
   "source": [
    "lr = LogisticRegression(class_weight=\"balanced\") #this will set the data proportion inversely related to the penalty\n",
    "\n",
    "#k-fold CV This is crucial to prevent overfitting due to the little data that we have for loan_status == 0.\n",
    "pred = cross_val_predict(lr,df[features],df[target],cv=3)\n",
    "pred = pd.Series(pred)\n",
    "\n",
    "#doing metrics with high recall and low fallout calculations\n",
    "temp = (pred == 0) &(df.loan_status == 0)\n",
    "tn = len(pred[temp]) #the number of true negatives in a prediction\n",
    "temp = (pred == 1) &(df.loan_status == 1)\n",
    "tp = len(pred[temp])\n",
    "temp = (pred == 0) &(df.loan_status == 1)\n",
    "fn = len(pred[temp])\n",
    "temp = (pred == 1) &(df.loan_status == 0)\n",
    "fp = len(pred[temp])\n",
    "\n",
    "#false positive rate and true positive rate\n",
    "fpr = fp/(fp+tn)\n",
    "tpr = tp/(tp+fn)\n",
    "print(fpr,tpr)\n",
    "print(fpr,tpr, \"\\nRatio = \",tpr/fpr)"
   ]
  },
  {
   "cell_type": "markdown",
   "metadata": {},
   "source": [
    "We'll have a false positive rate of 43% (money lost) with 66% of true positive rate (correct out of the total loans given). This is not good. It means that we would lose typically 2/3 of the tries for a minimal gain of interest rate. We don't know how much principle we can recoup with specified interest rate. As an investor, one needs to protect his/her principle amount. Let's apply a harsher penalty to see if it's going to improve.\n",
    "\n",
    "It makes sense that when we're stricter in the loan give out, it helps us protect our principle and has a better gain. In term of statistic, it's better for risk management but we'll end up losing a lot of customers that way due to a low revenue. Obviously, the more penalty we give - the better we ratio we can get...but it's not always the best case since costs such as operational expenses are consistent and can eat up a larger proportion of our profits."
   ]
  },
  {
   "cell_type": "code",
   "execution_count": 48,
   "metadata": {},
   "outputs": [],
   "source": [
    "import warnings\n",
    "warnings.filterwarnings(\"ignore\")\n",
    "penalty_ratio = [i for i in range (1,30)] #POR = 6\n",
    "\n",
    "def logistic_reg(penalty_ratio,df_features,df_target):\n",
    "    result = []\n",
    "    for i in penalty_ratio:\n",
    "        lr = LogisticRegression(class_weight={1:1, 0:i})\n",
    "        pred = cross_val_predict(lr,df_features,df_target,cv=3)\n",
    "        pred = pd.Series(pred)\n",
    "\n",
    "        temp = (pred == 0) &(df.loan_status == 0)\n",
    "        tn = len(pred[temp])\n",
    "        temp = (pred == 1) &(df.loan_status == 1)\n",
    "        tp = len(pred[temp])\n",
    "        temp = (pred == 0) &(df.loan_status == 1)\n",
    "        fn = len(pred[temp])\n",
    "        temp = (pred == 1) &(df.loan_status == 0)\n",
    "        fp = len(pred[temp])\n",
    "\n",
    "        fpr = fp/(fp+tn)\n",
    "        tpr = tp/(tp+fn)\n",
    "        ratio = tpr/fpr\n",
    "        result.append((tpr,fpr,ratio))\n",
    "    return result\n",
    "\n",
    "metrics = logistic_reg(penalty_ratio,df[features],df[target])\n",
    "tpr = [i[0] for i in metrics]\n",
    "ratio = [i[2] for i in metrics]"
   ]
  },
  {
   "cell_type": "code",
   "execution_count": 49,
   "metadata": {},
   "outputs": [
    {
     "data": {
      "image/png": "[encoded data removed]",
      "text/plain": [
       "<matplotlib.figure.Figure at 0x112004a58>"
      ]
     },
     "metadata": {},
     "output_type": "display_data"
    },
    {
     "data": {
      "image/png": "[encoded data removed]",
      "text/plain": [
       "<matplotlib.figure.Figure at 0x112007630>"
      ]
     },
     "metadata": {},
     "output_type": "display_data"
    }
   ],
   "source": [
    "import seaborn as sns\n",
    "import matplotlib.pyplot as plt\n",
    "%matplotlib inline\n",
    "\n",
    "sns.scatterplot(penalty_ratio,tpr)\n",
    "plt.xlabel(\"Penalty Ratio\")\n",
    "plt.ylabel(\"True Positive Rate\")\n",
    "plt.show()\n",
    "\n",
    "sns.scatterplot(penalty_ratio,ratio)\n",
    "plt.xlabel(\"Penalty Ratio\")\n",
    "plt.ylabel(\"TPR/FPR\")\n",
    "plt.show()"
   ]
  },
  {
   "cell_type": "markdown",
   "metadata": {},
   "source": [
    "In general, increasing penalty helps with the ratio and avoid bad loans. However, one needs to evaluate the required true positive rate required to cover operational cost. Let's look at other algorithm."
   ]
  },
  {
   "cell_type": "markdown",
   "metadata": {},
   "source": [
    "# Machine Learning Model #2: Random Forest Algorithm"
   ]
  },
  {
   "cell_type": "code",
   "execution_count": 50,
   "metadata": {},
   "outputs": [
    {
     "name": "stdout",
     "output_type": "stream",
     "text": [
      "0.6459454444238263 0.6629189122220157 \n",
      "Ratio =  1.0262769370768292\n"
     ]
    }
   ],
   "source": [
    "from sklearn.ensemble import RandomForestClassifier\n",
    "from sklearn.model_selection import cross_val_predict\n",
    "\n",
    "#using random forest to see if it improves a lot over the older logistic regression\n",
    "rf = RandomForestClassifier(random_state=1,class_weight={1:1, 0:30})\n",
    "pred = cross_val_predict(rf,df[features],df[target],cv=3)\n",
    "pred = pd.Series(pred)\n",
    "\n",
    "#doing metrics with high recall and low fallout calculations\n",
    "temp = (pred == 0) &(df.loan_status == 0)\n",
    "tn = len(pred[temp]) #the number of true negatives in a prediction\n",
    "temp = (pred == 1) &(df.loan_status == 1)\n",
    "tp = len(pred[temp])\n",
    "temp = (pred == 0) &(df.loan_status == 1)\n",
    "fn = len(pred[temp])\n",
    "temp = (pred == 1) &(df.loan_status == 0)\n",
    "fp = len(pred[temp])\n",
    "\n",
    "#false positive rate and true positive rate\n",
    "fpr = fp/(fp+tn)\n",
    "tpr = tp/(tp+fn)\n",
    "print(fpr,tpr, \"\\nRatio = \",tpr/fpr)"
   ]
  },
  {
   "cell_type": "markdown",
   "metadata": {},
   "source": [
    "The ratio is still very bad, but it seems that the False positive Rate is higher than the simple Logistic Regression Model. Let's see what will happen if we plot them out."
   ]
  },
  {
   "cell_type": "code",
   "execution_count": 51,
   "metadata": {
    "collapsed": true
   },
   "outputs": [],
   "source": [
    "penalty_ratio = [i for i in range (1,30)] #POR = 6\n",
    "def rf_class(penalty_ratio,df_features,df_target):\n",
    "    result = []\n",
    "    for i in penalty_ratio:\n",
    "        rf = RandomForestClassifier(class_weight={1:1, 0:i})\n",
    "        pred = cross_val_predict(rf,df_features,df_target,cv=3)\n",
    "        pred = pd.Series(pred)\n",
    "\n",
    "        temp = (pred == 0) &(df.loan_status == 0)\n",
    "        tn = len(pred[temp])\n",
    "        temp = (pred == 1) &(df.loan_status == 1)\n",
    "        tp = len(pred[temp])\n",
    "        temp = (pred == 0) &(df.loan_status == 1)\n",
    "        fn = len(pred[temp])\n",
    "        temp = (pred == 1) &(df.loan_status == 0)\n",
    "        fp = len(pred[temp])\n",
    "\n",
    "        fpr = fp/(fp+tn)\n",
    "        tpr = tp/(tp+fn)\n",
    "        ratio = tpr/fpr\n",
    "        result.append((tpr,fpr,ratio))\n",
    "    return result\n",
    "\n",
    "metrics2 = rf_class(penalty_ratio,df[features],df[target])\n",
    "tpr2 = [i[0] for i in metrics2]\n",
    "ratio2 = [i[2] for i in metrics2]"
   ]
  },
  {
   "cell_type": "code",
   "execution_count": 52,
   "metadata": {},
   "outputs": [
    {
     "data": {
      "image/png": "[encoded data removed]",
      "text/plain": [
       "<matplotlib.figure.Figure at 0x112839390>"
      ]
     },
     "metadata": {},
     "output_type": "display_data"
    }
   ],
   "source": [
    "sns.scatterplot(penalty_ratio,ratio)\n",
    "sns.scatterplot(penalty_ratio,ratio2)\n",
    "plt.xlabel(\"Penalty Ratio\")\n",
    "plt.ylabel(\"TPR/FPR\")\n",
    "plt.legend([\"Logistic\",\"Random Forest\"])\n",
    "plt.title(\"Effective Ratio\")\n",
    "plt.show()"
   ]
  },
  {
   "cell_type": "markdown",
   "metadata": {},
   "source": [
    "Et Voila, it looks like more complication doesn't neccessarily become better. The simple logistic function yielded better result based on our benchmark. We will need to engineer the features again and tune our algorithms for better classification"
   ]
  },
  {
   "cell_type": "code",
   "execution_count": null,
   "metadata": {
    "collapsed": true
   },
   "outputs": [],
   "source": []
  }
 ],
 "metadata": {
  "kernelspec": {
   "display_name": "Python 3",
   "language": "python",
   "name": "python3"
  },
  "language_info": {
   "codemirror_mode": {
    "name": "ipython",
    "version": 3
   },
   "file_extension": ".py",
   "mimetype": "text/x-python",
   "name": "python",
   "nbconvert_exporter": "python",
   "pygments_lexer": "ipython3",
   "version": "3.6.5"
  }
 },
 "nbformat": 4,
 "nbformat_minor": 2
}
