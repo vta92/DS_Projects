{
 "cells": [
  {
   "cell_type": "code",
   "execution_count": 1,
   "metadata": {
    "collapsed": true
   },
   "outputs": [],
   "source": [
    "import pandas as pd\n",
    "import numpy as np\n",
    "from scipy import stats\n",
    "import warnings\n",
    "warnings.filterwarnings('ignore')\n",
    "\n",
    "from sklearn.metrics import make_scorer, accuracy_score, precision_score, recall_score, f1_score\n",
    "from sklearn import svm, tree, linear_model, neighbors, naive_bayes, ensemble, discriminant_analysis, gaussian_process\n",
    "from xgboost import XGBClassifier\n",
    "\n",
    "from sklearn.preprocessing import OneHotEncoder, LabelEncoder\n",
    "from sklearn import feature_selection\n",
    "from sklearn import model_selection\n",
    "from sklearn import metrics\n",
    "from sklearn.metrics import precision_score\n",
    "from sklearn.metrics import recall_score\n",
    "from sklearn.metrics import matthews_corrcoef\n",
    "\n",
    "from pandas.tools.plotting import scatter_matrix\n",
    "import matplotlib as mpl\n",
    "import matplotlib.pyplot as plt\n",
    "import matplotlib.pylab as pylab\n",
    "import seaborn as sns\n",
    "\n",
    "\n",
    "\n",
    "%matplotlib inline\n",
    "pylab.rcParams['figure.figsize'] = 12,8"
   ]
  },
  {
   "cell_type": "code",
   "execution_count": 2,
   "metadata": {},
   "outputs": [
    {
     "name": "stdout",
     "output_type": "stream",
     "text": [
      "Index(['loan_amnt', 'int_rate', 'installment', 'emp_length', 'annual_inc',\n",
      "       'loan_status', 'dti', 'delinq_2yrs', 'inq_last_6mths', 'open_acc',\n",
      "       'pub_rec', 'revol_bal', 'revol_util', 'total_acc',\n",
      "       'home_ownership_MORTGAGE', 'home_ownership_NONE',\n",
      "       'home_ownership_OTHER', 'home_ownership_OWN', 'home_ownership_RENT',\n",
      "       'verification_status_Not Verified',\n",
      "       'verification_status_Source Verified', 'verification_status_Verified',\n",
      "       'purpose_car', 'purpose_credit_card', 'purpose_debt_consolidation',\n",
      "       'purpose_educational', 'purpose_home_improvement', 'purpose_house',\n",
      "       'purpose_major_purchase', 'purpose_medical', 'purpose_moving',\n",
      "       'purpose_other', 'purpose_renewable_energy', 'purpose_small_business',\n",
      "       'purpose_vacation', 'purpose_wedding', 'term_ 36 months',\n",
      "       'term_ 60 months'],\n",
      "      dtype='object')\n"
     ]
    },
    {
     "data": {
      "text/plain": [
       "(37675, 38)"
      ]
     },
     "execution_count": 2,
     "metadata": {},
     "output_type": "execute_result"
    }
   ],
   "source": [
    "df = pd.read_csv(\"processed_loans_2007.csv\")\n",
    "#print(df.columns)\n",
    "df.drop([\"Unnamed: 0\"],axis=1, inplace=True) #index from the last export on cleaning steps\n",
    "print(df.columns)\n",
    "df.shape"
   ]
  },
  {
   "cell_type": "code",
   "execution_count": 3,
   "metadata": {},
   "outputs": [
    {
     "data": {
      "text/plain": [
       "1    0.856961\n",
       "0    0.143039\n",
       "Name: loan_status, dtype: float64"
      ]
     },
     "execution_count": 3,
     "metadata": {},
     "output_type": "execute_result"
    }
   ],
   "source": [
    "df.loan_status.value_counts(normalize=True)"
   ]
  },
  {
   "cell_type": "markdown",
   "metadata": {},
   "source": [
    "It seems that we have a problem with class imbalance. Therefore, it's not a good idea to just train it with the normal accuracy benchmarks. That would be superficially high and would not be helpful in our predictions. This is a good example to use high recall(true positive) and low fallout (false positive) rates for evaluation.\n",
    "\n",
    "True positive rate = (True postives)/(True positives + false negatives).\n",
    "False positive rate = (false positives)/(false positive + true negatives).\n",
    "We'll use the ROC (receiver operating characteristic), and AUC (Area Under Curve) benchmark. Essentially, we want to look at the True positive Rate and False positive Rate"
   ]
  },
  {
   "cell_type": "markdown",
   "metadata": {},
   "source": [
    "# Exloratory Analysis"
   ]
  },
  {
   "cell_type": "code",
   "execution_count": 4,
   "metadata": {},
   "outputs": [
    {
     "data": {
      "text/plain": [
       "int_rate                              -0.210814\n",
       "term_ 60 months                       -0.171194\n",
       "revol_util                            -0.099547\n",
       "purpose_small_business                -0.078515\n",
       "inq_last_6mths                        -0.070536\n",
       "loan_amnt                             -0.062140\n",
       "pub_rec                               -0.050193\n",
       "dti                                   -0.042815\n",
       "verification_status_Verified          -0.041976\n",
       "installment                           -0.030309\n",
       "purpose_debt_consolidation            -0.021098\n",
       "home_ownership_RENT                   -0.020678\n",
       "delinq_2yrs                           -0.019279\n",
       "emp_length                            -0.016195\n",
       "purpose_other                         -0.015565\n",
       "revol_bal                             -0.007141\n",
       "purpose_renewable_energy              -0.006921\n",
       "home_ownership_OTHER                  -0.006418\n",
       "purpose_house                         -0.006330\n",
       "purpose_educational                   -0.006167\n",
       "verification_status_Source Verified   -0.005351\n",
       "purpose_medical                       -0.003660\n",
       "purpose_moving                        -0.003182\n",
       "home_ownership_OWN                    -0.000475\n",
       "purpose_vacation                      -0.000176\n",
       "home_ownership_NONE                    0.003646\n",
       "open_acc                               0.005667\n",
       "purpose_wedding                        0.019208\n",
       "total_acc                              0.020318\n",
       "purpose_home_improvement               0.021261\n",
       "purpose_car                            0.021491\n",
       "home_ownership_MORTGAGE                0.021635\n",
       "purpose_major_purchase                 0.029175\n",
       "annual_inc                             0.038175\n",
       "purpose_credit_card                    0.043337\n",
       "verification_status_Not Verified       0.044048\n",
       "term_ 36 months                        0.171194\n",
       "loan_status                            1.000000\n",
       "Name: loan_status, dtype: float64"
      ]
     },
     "execution_count": 4,
     "metadata": {},
     "output_type": "execute_result"
    }
   ],
   "source": [
    "df.corr()[\"loan_status\"].sort_values()"
   ]
  },
  {
   "cell_type": "markdown",
   "metadata": {},
   "source": [
    "Initial looks show no clear dominant feature on our data, thus the weights and contributions of any feature should not overwhelm the rest of the features. There are however, a few key points that we would like to look at to see if there's any special information we can get out of our data."
   ]
  },
  {
   "cell_type": "code",
   "execution_count": 5,
   "metadata": {},
   "outputs": [
    {
     "data": {
      "text/plain": [
       "<matplotlib.axes._subplots.AxesSubplot at 0x10ccc7198>"
      ]
     },
     "execution_count": 5,
     "metadata": {},
     "output_type": "execute_result"
    },
    {
     "data": {
      "image/png": "[encoded data removed]",
      "text/plain": [
       "<matplotlib.figure.Figure at 0x10c4bcd30>"
      ]
     },
     "metadata": {},
     "output_type": "display_data"
    }
   ],
   "source": [
    "vis_df = df.copy()\n",
    "def inc_range(row):\n",
    "    if row <= 30000:\n",
    "        return \"Low\"\n",
    "    elif (row >30000) and (row <= 60000):\n",
    "        return \"Medium\"\n",
    "    elif (row > 60000) and (row < 100000):\n",
    "        return \"High\"\n",
    "    else:\n",
    "        return \"Very High\"\n",
    "    \n",
    "vis_df[\"income_range\"] = vis_df[\"annual_inc\"].apply(inc_range)\n",
    "vis_df[\"inc_loan_ratio\"] = vis_df[\"annual_inc\"]/vis_df[\"loan_amnt\"]\n",
    "fig, ((ax1, ax2), (ax3, ax4),(ax5, ax6))= plt.subplots(nrows=3, ncols=2, figsize=(20,20))\n",
    "sns.barplot(x=\"income_range\", y=\"loan_status\", data=vis_df,ax=ax1) #ax = ax1\n",
    "sns.boxplot(x=\"income_range\",y=\"int_rate\",data=vis_df,ax=ax2)\n",
    "sns.violinplot(x=\"income_range\",y=\"loan_amnt\",data=vis_df,ax=ax3)\n",
    "sns.violinplot(x=\"loan_status\",y=\"emp_length\",data=vis_df,ax=ax4)\n",
    "sns.violinplot(x=\"loan_status\",y=\"loan_amnt\",data=vis_df,ax=ax5)\n",
    "\n",
    "sns.lineplot(x=\"int_rate\",y=\"inc_loan_ratio\",data=vis_df,ax=ax6)"
   ]
  },
  {
   "cell_type": "markdown",
   "metadata": {},
   "source": [
    "What have we learned based on those plots?\n",
    "1. People who has earned more are more likely to pay off the loans. This is very much expected. However, on average, we would've guessed that the difference might be bigger.\n",
    "2. Pretty much the interest rate in general are the same across all borrowers. Higher income does not neccessarily require a higher interest. This is balanced by the fact that people of lower income tends to borrow less money in general (plot #3).\n",
    "3. The amount of money borrowed varied, and has a higher spread as income level increases. This makes sense because one probably cannot borrow to buy a house with a very low income. It's just very unlikely.\n",
    "4. There seems to be no difference on the decision of lending money based on employment length. However, it's interesting to note that people who has worked longer are less likely to apply for a loan(aside from the fact that we grouped everyone who has 10+ years of employment, thus exaggerating its meaning).\n",
    "5. Plot #5 is just another way to look at plot #1 and plot #3, confirming the fact that most of the loan applications aren't high in values.\n",
    "6. We took a income/loan ratio and see if it's correlated to the interest rate. Infact, it's quite clear (aside from occasional high points), that people who doesn't make much money and needed a big loan tend to have a higher interest rate. This is by far the best predictor in our loan approval technique."
   ]
  },
  {
   "cell_type": "markdown",
   "metadata": {},
   "source": [
    "# Let's utilize the raw data to see other trends in this dataset"
   ]
  },
  {
   "cell_type": "code",
   "execution_count": 6,
   "metadata": {},
   "outputs": [
    {
     "data": {
      "text/plain": [
       "<matplotlib.axes._subplots.AxesSubplot at 0x1a0d93a630>"
      ]
     },
     "execution_count": 6,
     "metadata": {},
     "output_type": "execute_result"
    },
    {
     "data": {
      "image/png": "[encoded data removed]",
      "text/plain": [
       "<matplotlib.figure.Figure at 0x1a0d93a240>"
      ]
     },
     "metadata": {},
     "output_type": "display_data"
    }
   ],
   "source": [
    "df_raw = pd.read_csv(\"loans_2007.csv\")\n",
    "#to group, take a mean of each column, and sort them for a prettier graph\n",
    "temp = df_raw.groupby(\"purpose\").mean().sort_values(\"loan_amnt\").reset_index()\n",
    "sns.barplot(x=\"loan_amnt\",y=\"purpose\",data=temp)"
   ]
  },
  {
   "cell_type": "markdown",
   "metadata": {},
   "source": [
    "Finally, we import the older raw dataset to see our customer profile and the loan purposes. Which represented the consumer profile. Obviously, small businesses and bigger traps like credit card debts, wedding, and home improvement represented on average a higher loan_amnt per request. It's a good thing that based on our plot #5 above, the approval rate isn't neccessarily dictated by the loan amount. It is the utmost importance that the borrower can pay for it with a higher salary based on our plot #6. Else, we compensate for the risks with the higher interest rate."
   ]
  },
  {
   "cell_type": "code",
   "execution_count": 7,
   "metadata": {},
   "outputs": [
    {
     "name": "stdout",
     "output_type": "stream",
     "text": [
      "Index(['id', 'member_id', 'loan_amnt', 'funded_amnt', 'funded_amnt_inv',\n",
      "       'term', 'int_rate', 'installment', 'grade', 'sub_grade', 'emp_title',\n",
      "       'emp_length', 'home_ownership', 'annual_inc', 'verification_status',\n",
      "       'issue_d', 'loan_status', 'pymnt_plan', 'purpose', 'title', 'zip_code',\n",
      "       'addr_state', 'dti', 'delinq_2yrs', 'earliest_cr_line',\n",
      "       'inq_last_6mths', 'open_acc', 'pub_rec', 'revol_bal', 'revol_util',\n",
      "       'total_acc', 'initial_list_status', 'out_prncp', 'out_prncp_inv',\n",
      "       'total_pymnt', 'total_pymnt_inv', 'total_rec_prncp', 'total_rec_int',\n",
      "       'total_rec_late_fee', 'recoveries', 'collection_recovery_fee',\n",
      "       'last_pymnt_d', 'last_pymnt_amnt', 'last_credit_pull_d',\n",
      "       'collections_12_mths_ex_med', 'policy_code', 'application_type',\n",
      "       'acc_now_delinq', 'chargeoff_within_12_mths', 'delinq_amnt',\n",
      "       'pub_rec_bankruptcies', 'tax_liens', 'income_range', 'inc_loan_ratio'],\n",
      "      dtype='object')\n"
     ]
    }
   ],
   "source": [
    "#reprocessing for some of the raw data to look extra into the analysis\n",
    "df_raw[\"income_range\"] = df_raw[\"annual_inc\"].apply(inc_range)\n",
    "df_raw['int_rate'] = df_raw['int_rate'].str.rstrip('%')\n",
    "df_raw['int_rate'] = df_raw['int_rate'].astype('float')\n",
    "df_raw[\"inc_loan_ratio\"] = df_raw[\"annual_inc\"]/df_raw[\"loan_amnt\"]\n",
    "\n",
    "print(df_raw.columns)"
   ]
  },
  {
   "cell_type": "code",
   "execution_count": 8,
   "metadata": {
    "scrolled": true
   },
   "outputs": [
    {
     "data": {
      "image/png": "[encoded data removed]",
      "text/plain": [
       "<matplotlib.figure.Figure at 0x1a1eeb9438>"
      ]
     },
     "metadata": {},
     "output_type": "display_data"
    }
   ],
   "source": [
    "def plot3(df_raw):\n",
    "    temp = df_raw[~df_raw['loan_status'].isin([\"Does not meet the credit policy. Status:Fully Paid\",\n",
    "                                               \"Does not meet the credit policy. Status:Charged Off\"])]\n",
    "    sns.boxplot(x=\"loan_status\", y=\"int_rate\", data=temp,ax=ax3) #charge off and default rate needs to be high\n",
    "    ax3.set_xticklabels(ax3.get_xticklabels(),rotation=90)\n",
    "\n",
    "\n",
    "#helper function with plot #4. Mean loan_amnt for various purposes\n",
    "def plot4(df_raw):\n",
    "    temp = df_raw.loc[df_raw['loan_status'].isin(['Charged Off','Default','Fully Paid'])]\n",
    "    temp = temp.groupby([\"purpose\",\"loan_status\"]).mean()\n",
    "    temp.reset_index(inplace = True)\n",
    "    sns.barplot(x=\"purpose\",y=\"loan_amnt\",hue=\"loan_status\",data=temp,ax=ax4)\n",
    "    ax4.set_xticklabels(ax4.get_xticklabels(),rotation=90)\n",
    "\n",
    "#helper function with plot #5. Which loan purpose can generate most values without being the most risky\n",
    "def plot5(df_raw):\n",
    "    temp = df_raw.loc[df_raw['loan_status'].isin(['Charged Off','Default','Fully Paid'])]\n",
    "    temp = temp.groupby([\"purpose\",\"loan_status\"]).mean()\n",
    "    temp.reset_index(inplace = True)\n",
    "    sns.barplot(x=\"purpose\",y=\"int_rate\",hue=\"loan_status\",data=temp,ax=ax5)\n",
    "    ax5.set_xticklabels(ax5.get_xticklabels(),rotation=90)\n",
    "\n",
    "#helper function with plot #6. Can we count on the fact that higher credits loans are safer in general?\n",
    "#this is an essential question to recap our data\n",
    "def plot6(df_raw):\n",
    "    temp = df_raw.loc[df_raw['loan_status'].isin(['Charged Off','Default','Fully Paid'])]\n",
    "    temp = temp.groupby([\"grade\",\"loan_status\"]).mean()\n",
    "    temp.reset_index(inplace = True)\n",
    "    sns.barplot(x=\"grade\",y=\"int_rate\",hue=\"loan_status\",data=temp,ax=ax6)\n",
    "    ax6.set_xticklabels(ax6.get_xticklabels(),rotation=90)\n",
    "\n",
    "fig, ((ax1, ax2), (ax3, ax4),(ax5, ax6))= plt.subplots(nrows=3, ncols=2, figsize=(20,20))\n",
    "plt.subplots_adjust(hspace=0.5, wspace=0.5) #to adjust spacings between plots\n",
    "sns.boxplot(x=\"grade\", y=\"int_rate\", data=df_raw,order=[\"A\",\"B\",\"C\",\"D\",\"E\",\"F\",\"G\"],ax=ax1)\n",
    "df_raw[\"grade\"].value_counts().plot(kind='pie', subplots=True, figsize=(8,8),ax=ax2)\n",
    "plot3(df_raw)\n",
    "plot4(df_raw)\n",
    "plot5(df_raw)\n",
    "plot6(df_raw)\n",
    "\n",
    "#plot income with grade\n",
    "#loan status default with grade\n",
    "#loan purpose and default grade\n",
    "#percentage of paid off based on each grades"
   ]
  },
  {
   "cell_type": "markdown",
   "metadata": {},
   "source": [
    "It seems that there's no free lunch here. Lastly, we'll look at the ratio of income/loans and loan_status\n",
    "1. Grades are based off from interest rate. It makes sense to remove them for our analysis\n",
    "2. Most of our loans are reasonably safe, at the grades of A,B,C, and D.\n",
    "3. On average, our loans with lower interest rate has a higher chance to be paid off. Perhaps, below 11% is a good bet.\n",
    "4 & 5. No clear trend on which category of loan has the best paid-off/charge off ratio. We also had a couple of defaults in the credit card category (this is insignificant amount compared to fully paid and charge-off).\n",
    "6. Again, we see interest rate with grade assigned for each loan. However, it's interesting to note that there is no clear trend as to why high quality loans don't have a higher fully paid/charge-off ratio."
   ]
  },
  {
   "cell_type": "code",
   "execution_count": 9,
   "metadata": {},
   "outputs": [
    {
     "data": {
      "image/png": "[encoded data removed]",
      "text/plain": [
       "<matplotlib.figure.Figure at 0x106ca7b38>"
      ]
     },
     "metadata": {},
     "output_type": "display_data"
    }
   ],
   "source": [
    "#print(vis_df.shape)\n",
    "sns.violinplot(x=\"loan_status\",y=\"inc_loan_ratio\",data=vis_df)\n",
    "plt.ylim(0,30)\n",
    "plt.show()"
   ]
  },
  {
   "cell_type": "markdown",
   "metadata": {},
   "source": [
    "Finally, the 10x and above - \"income\" to \"loan amount\" ratio certainly helps secure our full payments. At 10x the ratio, it's safe to say that there will be statistically more people who's going to pay off their loans. It doesn't guarantee if the bad loans will be covered with the good loans however."
   ]
  },
  {
   "cell_type": "markdown",
   "metadata": {},
   "source": [
    "# Machine Learning Algorithms - Part 1"
   ]
  },
  {
   "cell_type": "markdown",
   "metadata": {},
   "source": [
    "For this problem, we'll divide it into 2 parts. For the first part, we'll worry ourselves with algorithms that does not need feature scaling, and for the second part, we'll use feature scaling algorithms.\n",
    "Since we do have a non-balance classification, we need something other than accuracy. The standard convention would be using roc, auc. Thus, we'll be looking at precision vs recall.\n",
    "\n",
    "precision = tp/(tp+fp)\n",
    "\n",
    "recall = tp/(tp+fn)\n",
    "\n",
    "self-note: for normalization, use knn+svc(0 centered, normalized stdev)+network+lasso(0 centered, normalized stdev)+ridge(0 centered, normalized stdev) + sgdclassifier + perceptron.\n"
   ]
  },
  {
   "cell_type": "code",
   "execution_count": 10,
   "metadata": {},
   "outputs": [],
   "source": [
    "#custom scorer\n",
    "scoring = {\n",
    "    \"accuracy\":make_scorer(accuracy_score),\n",
    "    \"precision\":make_scorer(precision_score),\n",
    "    \"recall\":make_scorer(recall_score),\n",
    "    \"mcc\":make_scorer(matthews_corrcoef)\n",
    "}"
   ]
  },
  {
   "cell_type": "code",
   "execution_count": 11,
   "metadata": {},
   "outputs": [],
   "source": [
    "#Spreadsheet of algorithms to filter initially\n",
    "#https://machinelearningmastery.com/gentle-introduction-xgboost-applied-machine-learning/\n",
    "tree_algs = [tree.DecisionTreeClassifier(), tree.ExtraTreeClassifier(),XGBClassifier()] #gradient boosted tree\n",
    "\n",
    "ensemble_algs = [ensemble.AdaBoostClassifier(), ensemble.BaggingClassifier(), ensemble.ExtraTreesClassifier(),\n",
    "                ensemble.GradientBoostingClassifier(), ensemble.RandomForestClassifier()]\n",
    "linear_algs = [linear_model.LogisticRegressionCV()]\n",
    "da_algs = [discriminant_analysis.LinearDiscriminantAnalysis(), discriminant_analysis.QuadraticDiscriminantAnalysis()]"
   ]
  },
  {
   "cell_type": "code",
   "execution_count": 12,
   "metadata": {},
   "outputs": [
    {
     "name": "stdout",
     "output_type": "stream",
     "text": [
      "['loan_amnt', 'int_rate', 'installment', 'emp_length', 'annual_inc', 'dti', 'delinq_2yrs', 'inq_last_6mths', 'open_acc', 'pub_rec', 'revol_bal', 'revol_util', 'total_acc', 'home_ownership_MORTGAGE', 'home_ownership_NONE', 'home_ownership_OTHER', 'home_ownership_OWN', 'home_ownership_RENT', 'verification_status_Not Verified', 'verification_status_Source Verified', 'verification_status_Verified', 'purpose_car', 'purpose_credit_card', 'purpose_debt_consolidation', 'purpose_educational', 'purpose_home_improvement', 'purpose_house', 'purpose_major_purchase', 'purpose_medical', 'purpose_moving', 'purpose_other', 'purpose_renewable_energy', 'purpose_small_business', 'purpose_vacation', 'purpose_wedding', 'term_ 36 months', 'term_ 60 months']\n"
     ]
    }
   ],
   "source": [
    "features = df.columns.tolist()\n",
    "features.remove(\"loan_status\")\n",
    "target = \"loan_status\"\n",
    "print(features)\n",
    "\n",
    "def baseline_ml(algs,features,target,scoring,df):\n",
    "    \n",
    "    X_train, X_test, y_train, y_test = model_selection.train_test_split(df[features], df[target], test_size=0.25, random_state=1)\n",
    "    #print(X_train.shape,X_test.shape,y_train.shape, y_test.shape)\n",
    "    #making a dataframe spreadsheet of ML Algorithms performances\n",
    "    \n",
    "    ml_cols = [\"ML_alg\",\"ML_params\",\"ML_runtime\",\"ML_train_accuracy\",\"ML_train_precision\",\"ML_train_recall\",\"ML_train_mcc\",\n",
    "               \"ML_test_accuracy\",\"ML_test_precision\",\"ML_test_recall\",\"ML_test_mcc\"]\n",
    "    ml_table = pd.DataFrame(columns=ml_cols)\n",
    "\n",
    "    #ml_pred = y_test\n",
    "\n",
    "    row_ind = 0\n",
    "    for alg in algs:\n",
    "\n",
    "        cv_results = model_selection.cross_validate(alg, X_train, y_train, scoring=scoring, cv=10) #main object\n",
    "        #print(cv_results)\n",
    "        #fill in the table by calling attributes from the cv_results object\n",
    "        alg_name = alg.__class__.__name__\n",
    "        ml_table.loc[row_ind, 'ML_alg'] = alg_name\n",
    "        ml_table.loc[row_ind, 'ML_params'] = str(alg.get_params())\n",
    "        ml_table.loc[row_ind, 'ML_runtime'] = cv_results['fit_time'].mean()\n",
    "        ml_table.loc[row_ind, 'ML_train_accuracy'] = cv_results['train_accuracy'].mean()\n",
    "        ml_table.loc[row_ind, 'ML_train_precision'] = cv_results['train_precision'].mean()\n",
    "        ml_table.loc[row_ind, 'ML_train_recall'] = cv_results['train_recall'].mean() \n",
    "        ml_table.loc[row_ind, 'ML_train_mcc'] = cv_results['train_mcc'].mean()\n",
    "\n",
    "        ml_table.loc[row_ind, 'ML_test_accuracy'] = cv_results['test_accuracy'].mean()\n",
    "        ml_table.loc[row_ind, 'ML_test_precision'] = cv_results['test_precision'].mean()\n",
    "        ml_table.loc[row_ind, 'ML_test_recall'] = cv_results['test_recall'].mean() \n",
    "        ml_table.loc[row_ind, 'ML_test_mcc'] = cv_results['test_mcc'].mean()\n",
    "\n",
    "        alg.fit(X_train, y_train)\n",
    "        #prediction needs to be returned later for a second stage ensemble\n",
    "        ml_pred = alg.predict(X_test)\n",
    "        #print(cv_results)\n",
    "\n",
    "        row_ind += 1\n",
    "    return ml_table, ml_pred"
   ]
  },
  {
   "cell_type": "code",
   "execution_count": 13,
   "metadata": {},
   "outputs": [
    {
     "data": {
      "text/html": [
       "<div>\n",
       "<style scoped>\n",
       "    .dataframe tbody tr th:only-of-type {\n",
       "        vertical-align: middle;\n",
       "    }\n",
       "\n",
       "    .dataframe tbody tr th {\n",
       "        vertical-align: top;\n",
       "    }\n",
       "\n",
       "    .dataframe thead th {\n",
       "        text-align: right;\n",
       "    }\n",
       "</style>\n",
       "<table border=\"1\" class=\"dataframe\">\n",
       "  <thead>\n",
       "    <tr style=\"text-align: right;\">\n",
       "      <th></th>\n",
       "      <th>ML_alg</th>\n",
       "      <th>ML_params</th>\n",
       "      <th>ML_runtime</th>\n",
       "      <th>ML_train_accuracy</th>\n",
       "      <th>ML_train_precision</th>\n",
       "      <th>ML_train_recall</th>\n",
       "      <th>ML_train_mcc</th>\n",
       "      <th>ML_test_accuracy</th>\n",
       "      <th>ML_test_precision</th>\n",
       "      <th>ML_test_recall</th>\n",
       "      <th>ML_test_mcc</th>\n",
       "    </tr>\n",
       "  </thead>\n",
       "  <tbody>\n",
       "    <tr>\n",
       "      <th>0</th>\n",
       "      <td>DecisionTreeClassifier</td>\n",
       "      <td>{'class_weight': None, 'criterion': 'gini', 'm...</td>\n",
       "      <td>0.349819</td>\n",
       "      <td>1</td>\n",
       "      <td>1</td>\n",
       "      <td>1</td>\n",
       "      <td>1</td>\n",
       "      <td>0.76313</td>\n",
       "      <td>0.868443</td>\n",
       "      <td>0.853207</td>\n",
       "      <td>0.0687824</td>\n",
       "    </tr>\n",
       "    <tr>\n",
       "      <th>1</th>\n",
       "      <td>ExtraTreeClassifier</td>\n",
       "      <td>{'class_weight': None, 'criterion': 'gini', 'm...</td>\n",
       "      <td>0.0413854</td>\n",
       "      <td>1</td>\n",
       "      <td>1</td>\n",
       "      <td>1</td>\n",
       "      <td>1</td>\n",
       "      <td>0.766987</td>\n",
       "      <td>0.866222</td>\n",
       "      <td>0.861497</td>\n",
       "      <td>0.0563333</td>\n",
       "    </tr>\n",
       "    <tr>\n",
       "      <th>2</th>\n",
       "      <td>XGBClassifier</td>\n",
       "      <td>{'base_score': 0.5, 'booster': 'gbtree', 'cols...</td>\n",
       "      <td>4.44891</td>\n",
       "      <td>0.859208</td>\n",
       "      <td>0.859449</td>\n",
       "      <td>0.999345</td>\n",
       "      <td>0.0833291</td>\n",
       "      <td>0.857552</td>\n",
       "      <td>0.858536</td>\n",
       "      <td>0.998515</td>\n",
       "      <td>0.0353823</td>\n",
       "    </tr>\n",
       "  </tbody>\n",
       "</table>\n",
       "</div>"
      ],
      "text/plain": [
       "                   ML_alg                                          ML_params  \\\n",
       "0  DecisionTreeClassifier  {'class_weight': None, 'criterion': 'gini', 'm...   \n",
       "1     ExtraTreeClassifier  {'class_weight': None, 'criterion': 'gini', 'm...   \n",
       "2           XGBClassifier  {'base_score': 0.5, 'booster': 'gbtree', 'cols...   \n",
       "\n",
       "  ML_runtime ML_train_accuracy ML_train_precision ML_train_recall  \\\n",
       "0   0.349819                 1                  1               1   \n",
       "1  0.0413854                 1                  1               1   \n",
       "2    4.44891          0.859208           0.859449        0.999345   \n",
       "\n",
       "  ML_train_mcc ML_test_accuracy ML_test_precision ML_test_recall ML_test_mcc  \n",
       "0            1          0.76313          0.868443       0.853207   0.0687824  \n",
       "1            1         0.766987          0.866222       0.861497   0.0563333  \n",
       "2    0.0833291         0.857552          0.858536       0.998515   0.0353823  "
      ]
     },
     "execution_count": 13,
     "metadata": {},
     "output_type": "execute_result"
    }
   ],
   "source": [
    "#Spreadsheet of algorithms to filter initially\n",
    "tree_table,temp = baseline_ml(tree_algs,features,target,scoring,df)\n",
    "tree_table"
   ]
  },
  {
   "cell_type": "code",
   "execution_count": 14,
   "metadata": {},
   "outputs": [
    {
     "data": {
      "text/html": [
       "<div>\n",
       "<style scoped>\n",
       "    .dataframe tbody tr th:only-of-type {\n",
       "        vertical-align: middle;\n",
       "    }\n",
       "\n",
       "    .dataframe tbody tr th {\n",
       "        vertical-align: top;\n",
       "    }\n",
       "\n",
       "    .dataframe thead th {\n",
       "        text-align: right;\n",
       "    }\n",
       "</style>\n",
       "<table border=\"1\" class=\"dataframe\">\n",
       "  <thead>\n",
       "    <tr style=\"text-align: right;\">\n",
       "      <th></th>\n",
       "      <th>ML_alg</th>\n",
       "      <th>ML_params</th>\n",
       "      <th>ML_runtime</th>\n",
       "      <th>ML_train_accuracy</th>\n",
       "      <th>ML_train_precision</th>\n",
       "      <th>ML_train_recall</th>\n",
       "      <th>ML_train_mcc</th>\n",
       "      <th>ML_test_accuracy</th>\n",
       "      <th>ML_test_precision</th>\n",
       "      <th>ML_test_recall</th>\n",
       "      <th>ML_test_mcc</th>\n",
       "    </tr>\n",
       "  </thead>\n",
       "  <tbody>\n",
       "    <tr>\n",
       "      <th>0</th>\n",
       "      <td>AdaBoostClassifier</td>\n",
       "      <td>{'algorithm': 'SAMME.R', 'base_estimator': Non...</td>\n",
       "      <td>1.18802</td>\n",
       "      <td>0.858197</td>\n",
       "      <td>0.860761</td>\n",
       "      <td>0.995825</td>\n",
       "      <td>0.0903466</td>\n",
       "      <td>0.856845</td>\n",
       "      <td>0.860149</td>\n",
       "      <td>0.994927</td>\n",
       "      <td>0.0692022</td>\n",
       "    </tr>\n",
       "    <tr>\n",
       "      <th>1</th>\n",
       "      <td>BaggingClassifier</td>\n",
       "      <td>{'base_estimator': None, 'bootstrap': True, 'b...</td>\n",
       "      <td>2.3498</td>\n",
       "      <td>0.992721</td>\n",
       "      <td>0.992614</td>\n",
       "      <td>0.998951</td>\n",
       "      <td>0.969885</td>\n",
       "      <td>0.831186</td>\n",
       "      <td>0.866033</td>\n",
       "      <td>0.950258</td>\n",
       "      <td>0.0917121</td>\n",
       "    </tr>\n",
       "    <tr>\n",
       "      <th>2</th>\n",
       "      <td>ExtraTreesClassifier</td>\n",
       "      <td>{'bootstrap': False, 'class_weight': None, 'cr...</td>\n",
       "      <td>0.323692</td>\n",
       "      <td>1</td>\n",
       "      <td>1</td>\n",
       "      <td>1</td>\n",
       "      <td>1</td>\n",
       "      <td>0.838265</td>\n",
       "      <td>0.865098</td>\n",
       "      <td>0.961435</td>\n",
       "      <td>0.0917123</td>\n",
       "    </tr>\n",
       "    <tr>\n",
       "      <th>3</th>\n",
       "      <td>GradientBoostingClassifier</td>\n",
       "      <td>{'criterion': 'friedman_mse', 'init': None, 'l...</td>\n",
       "      <td>3.32369</td>\n",
       "      <td>0.860824</td>\n",
       "      <td>0.861132</td>\n",
       "      <td>0.998882</td>\n",
       "      <td>0.128638</td>\n",
       "      <td>0.857163</td>\n",
       "      <td>0.859067</td>\n",
       "      <td>0.997113</td>\n",
       "      <td>0.0452702</td>\n",
       "    </tr>\n",
       "    <tr>\n",
       "      <th>4</th>\n",
       "      <td>RandomForestClassifier</td>\n",
       "      <td>{'bootstrap': True, 'class_weight': None, 'cri...</td>\n",
       "      <td>0.444964</td>\n",
       "      <td>0.992529</td>\n",
       "      <td>0.992146</td>\n",
       "      <td>0.999203</td>\n",
       "      <td>0.969085</td>\n",
       "      <td>0.84099</td>\n",
       "      <td>0.864836</td>\n",
       "      <td>0.965601</td>\n",
       "      <td>0.092431</td>\n",
       "    </tr>\n",
       "  </tbody>\n",
       "</table>\n",
       "</div>"
      ],
      "text/plain": [
       "                       ML_alg  \\\n",
       "0          AdaBoostClassifier   \n",
       "1           BaggingClassifier   \n",
       "2        ExtraTreesClassifier   \n",
       "3  GradientBoostingClassifier   \n",
       "4      RandomForestClassifier   \n",
       "\n",
       "                                           ML_params ML_runtime  \\\n",
       "0  {'algorithm': 'SAMME.R', 'base_estimator': Non...    1.18802   \n",
       "1  {'base_estimator': None, 'bootstrap': True, 'b...     2.3498   \n",
       "2  {'bootstrap': False, 'class_weight': None, 'cr...   0.323692   \n",
       "3  {'criterion': 'friedman_mse', 'init': None, 'l...    3.32369   \n",
       "4  {'bootstrap': True, 'class_weight': None, 'cri...   0.444964   \n",
       "\n",
       "  ML_train_accuracy ML_train_precision ML_train_recall ML_train_mcc  \\\n",
       "0          0.858197           0.860761        0.995825    0.0903466   \n",
       "1          0.992721           0.992614        0.998951     0.969885   \n",
       "2                 1                  1               1            1   \n",
       "3          0.860824           0.861132        0.998882     0.128638   \n",
       "4          0.992529           0.992146        0.999203     0.969085   \n",
       "\n",
       "  ML_test_accuracy ML_test_precision ML_test_recall ML_test_mcc  \n",
       "0         0.856845          0.860149       0.994927   0.0692022  \n",
       "1         0.831186          0.866033       0.950258   0.0917121  \n",
       "2         0.838265          0.865098       0.961435   0.0917123  \n",
       "3         0.857163          0.859067       0.997113   0.0452702  \n",
       "4          0.84099          0.864836       0.965601    0.092431  "
      ]
     },
     "execution_count": 14,
     "metadata": {},
     "output_type": "execute_result"
    }
   ],
   "source": [
    "ensemble_table,temp = baseline_ml(ensemble_algs,features,target,scoring,df)\n",
    "ensemble_table"
   ]
  },
  {
   "cell_type": "code",
   "execution_count": 15,
   "metadata": {},
   "outputs": [
    {
     "data": {
      "text/html": [
       "<div>\n",
       "<style scoped>\n",
       "    .dataframe tbody tr th:only-of-type {\n",
       "        vertical-align: middle;\n",
       "    }\n",
       "\n",
       "    .dataframe tbody tr th {\n",
       "        vertical-align: top;\n",
       "    }\n",
       "\n",
       "    .dataframe thead th {\n",
       "        text-align: right;\n",
       "    }\n",
       "</style>\n",
       "<table border=\"1\" class=\"dataframe\">\n",
       "  <thead>\n",
       "    <tr style=\"text-align: right;\">\n",
       "      <th></th>\n",
       "      <th>ML_alg</th>\n",
       "      <th>ML_params</th>\n",
       "      <th>ML_runtime</th>\n",
       "      <th>ML_train_accuracy</th>\n",
       "      <th>ML_train_precision</th>\n",
       "      <th>ML_train_recall</th>\n",
       "      <th>ML_train_mcc</th>\n",
       "      <th>ML_test_accuracy</th>\n",
       "      <th>ML_test_precision</th>\n",
       "      <th>ML_test_recall</th>\n",
       "      <th>ML_test_mcc</th>\n",
       "    </tr>\n",
       "  </thead>\n",
       "  <tbody>\n",
       "    <tr>\n",
       "      <th>0</th>\n",
       "      <td>LogisticRegressionCV</td>\n",
       "      <td>{'Cs': 10, 'class_weight': None, 'cv': 'warn',...</td>\n",
       "      <td>1.23817</td>\n",
       "      <td>0.857647</td>\n",
       "      <td>0.858374</td>\n",
       "      <td>0.998909</td>\n",
       "      <td>0.0242375</td>\n",
       "      <td>0.857482</td>\n",
       "      <td>0.858373</td>\n",
       "      <td>0.99868</td>\n",
       "      <td>0.0257758</td>\n",
       "    </tr>\n",
       "  </tbody>\n",
       "</table>\n",
       "</div>"
      ],
      "text/plain": [
       "                 ML_alg                                          ML_params  \\\n",
       "0  LogisticRegressionCV  {'Cs': 10, 'class_weight': None, 'cv': 'warn',...   \n",
       "\n",
       "  ML_runtime ML_train_accuracy ML_train_precision ML_train_recall  \\\n",
       "0    1.23817          0.857647           0.858374        0.998909   \n",
       "\n",
       "  ML_train_mcc ML_test_accuracy ML_test_precision ML_test_recall ML_test_mcc  \n",
       "0    0.0242375         0.857482          0.858373        0.99868   0.0257758  "
      ]
     },
     "execution_count": 15,
     "metadata": {},
     "output_type": "execute_result"
    }
   ],
   "source": [
    "linear_table,temp = baseline_ml(linear_algs,features,target,scoring,df)\n",
    "linear_table"
   ]
  },
  {
   "cell_type": "code",
   "execution_count": 16,
   "metadata": {},
   "outputs": [
    {
     "data": {
      "text/html": [
       "<div>\n",
       "<style scoped>\n",
       "    .dataframe tbody tr th:only-of-type {\n",
       "        vertical-align: middle;\n",
       "    }\n",
       "\n",
       "    .dataframe tbody tr th {\n",
       "        vertical-align: top;\n",
       "    }\n",
       "\n",
       "    .dataframe thead th {\n",
       "        text-align: right;\n",
       "    }\n",
       "</style>\n",
       "<table border=\"1\" class=\"dataframe\">\n",
       "  <thead>\n",
       "    <tr style=\"text-align: right;\">\n",
       "      <th></th>\n",
       "      <th>ML_alg</th>\n",
       "      <th>ML_params</th>\n",
       "      <th>ML_runtime</th>\n",
       "      <th>ML_train_accuracy</th>\n",
       "      <th>ML_train_precision</th>\n",
       "      <th>ML_train_recall</th>\n",
       "      <th>ML_train_mcc</th>\n",
       "      <th>ML_test_accuracy</th>\n",
       "      <th>ML_test_precision</th>\n",
       "      <th>ML_test_recall</th>\n",
       "      <th>ML_test_mcc</th>\n",
       "    </tr>\n",
       "  </thead>\n",
       "  <tbody>\n",
       "    <tr>\n",
       "      <th>0</th>\n",
       "      <td>LinearDiscriminantAnalysis</td>\n",
       "      <td>{'n_components': None, 'priors': None, 'shrink...</td>\n",
       "      <td>0.175533</td>\n",
       "      <td>0.856837</td>\n",
       "      <td>0.860107</td>\n",
       "      <td>0.994982</td>\n",
       "      <td>0.0683083</td>\n",
       "      <td>0.856455</td>\n",
       "      <td>0.859966</td>\n",
       "      <td>0.994679</td>\n",
       "      <td>0.06333</td>\n",
       "    </tr>\n",
       "    <tr>\n",
       "      <th>1</th>\n",
       "      <td>QuadraticDiscriminantAnalysis</td>\n",
       "      <td>{'priors': None, 'reg_param': 0.0, 'store_cova...</td>\n",
       "      <td>0.0890451</td>\n",
       "      <td>0.144925</td>\n",
       "      <td>0.886857</td>\n",
       "      <td>0.00392749</td>\n",
       "      <td>0.00558959</td>\n",
       "      <td>0.144607</td>\n",
       "      <td>0.866712</td>\n",
       "      <td>0.00362982</td>\n",
       "      <td>0.00149619</td>\n",
       "    </tr>\n",
       "  </tbody>\n",
       "</table>\n",
       "</div>"
      ],
      "text/plain": [
       "                          ML_alg  \\\n",
       "0     LinearDiscriminantAnalysis   \n",
       "1  QuadraticDiscriminantAnalysis   \n",
       "\n",
       "                                           ML_params ML_runtime  \\\n",
       "0  {'n_components': None, 'priors': None, 'shrink...   0.175533   \n",
       "1  {'priors': None, 'reg_param': 0.0, 'store_cova...  0.0890451   \n",
       "\n",
       "  ML_train_accuracy ML_train_precision ML_train_recall ML_train_mcc  \\\n",
       "0          0.856837           0.860107        0.994982    0.0683083   \n",
       "1          0.144925           0.886857      0.00392749   0.00558959   \n",
       "\n",
       "  ML_test_accuracy ML_test_precision ML_test_recall ML_test_mcc  \n",
       "0         0.856455          0.859966       0.994679     0.06333  \n",
       "1         0.144607          0.866712     0.00362982  0.00149619  "
      ]
     },
     "execution_count": 16,
     "metadata": {},
     "output_type": "execute_result"
    }
   ],
   "source": [
    "da_table,temp = baseline_ml(da_algs,features,target,scoring,df)\n",
    "da_table"
   ]
  },
  {
   "cell_type": "code",
   "execution_count": 17,
   "metadata": {},
   "outputs": [
    {
     "name": "stdout",
     "output_type": "stream",
     "text": [
      "1    0.858048\n",
      "0    0.141952\n",
      "Name: loan_status, dtype: float64\n",
      "1    0.8537\n",
      "0    0.1463\n",
      "Name: loan_status, dtype: float64\n"
     ]
    }
   ],
   "source": [
    "X_train, X_test, y_train, y_test = model_selection.train_test_split(df[features], df[target], test_size=0.25, random_state=1)\n",
    "print(y_train.value_counts(normalize=True))\n",
    "print(y_test.value_counts(normalize=True))"
   ]
  },
  {
   "cell_type": "code",
   "execution_count": 18,
   "metadata": {},
   "outputs": [
    {
     "name": "stdout",
     "output_type": "stream",
     "text": [
      "accuracy baseline:  0.85 \n",
      "precision baseline:  0.85 \n",
      "recall_baseline:  1.0\n",
      "Keep in mind that the recall baseline is meaningless here since we don't predict 0 at all.\n",
      "However, we can see that it's very high toward 1\n",
      "Therefore, let's use a different benchmark to tune in our data, Mathew Correlation Coefficient.\n",
      "A -1 means we classified everything wrong. A 1 mean we classified everything right\n",
      "MCC is a balanced metric, so our imbalanced dataset is good enough.\n"
     ]
    }
   ],
   "source": [
    "#so our baseline prediction is (let's assume everything is 1 for our loan target)\n",
    "acc_baseline = 0.85 #a very meaningless stats here\n",
    "prec_baseline = 0.85/(0.85+0.15)\n",
    "rec_baseline = 0.85/(0.85+0) #we never predict 0 for false negative\n",
    "\n",
    "print(\"accuracy baseline: \",acc_baseline, \"\\nprecision baseline: \", prec_baseline, \"\\nrecall_baseline: \",rec_baseline)\n",
    "print(\"Keep in mind that the recall baseline is meaningless here since we don't predict 0 at all.\\nHowever, we can see that it's very high toward 1\")\n",
    "print(\"Therefore, let's use a different benchmark to tune in our data, Mathew Correlation Coefficient.\\nA -1 means we classified everything wrong. A 1 mean we classified everything right\")\n",
    "print(\"MCC is a balanced metric, so our imbalanced dataset is good enough.\")"
   ]
  },
  {
   "cell_type": "markdown",
   "metadata": {},
   "source": [
    "# Algorithms Focus #1:"
   ]
  },
  {
   "cell_type": "markdown",
   "metadata": {},
   "source": [
    "What we've learned?\n",
    "Our tree models are overfitting, which is expected in the default state (this is also seen with perfect/near perfect score on the training set).\n",
    "The overfitting continues with ensemble algorithms.\n",
    "Logistic regression seems to be competitive enough but the MCC score suggests that it's underperforming when taken all 4 confusion matrices into account\n",
    "Surprisingly, LDA yield some decent results, comparable to Trees and ensemble. This is not expected since our data is mixed (both continuous and binary/categorical), thus not all of them are \"truly\" normal. We can explore later on that.\n",
    "\n",
    "Let's keep:\n",
    "XGBClassifier, all of the ensemble techniques, and LDA."
   ]
  },
  {
   "cell_type": "code",
   "execution_count": 19,
   "metadata": {},
   "outputs": [
    {
     "data": {
      "text/html": [
       "<div>\n",
       "<style scoped>\n",
       "    .dataframe tbody tr th:only-of-type {\n",
       "        vertical-align: middle;\n",
       "    }\n",
       "\n",
       "    .dataframe tbody tr th {\n",
       "        vertical-align: top;\n",
       "    }\n",
       "\n",
       "    .dataframe thead th {\n",
       "        text-align: right;\n",
       "    }\n",
       "</style>\n",
       "<table border=\"1\" class=\"dataframe\">\n",
       "  <thead>\n",
       "    <tr style=\"text-align: right;\">\n",
       "      <th></th>\n",
       "      <th>ML_alg</th>\n",
       "      <th>ML_params</th>\n",
       "      <th>ML_runtime</th>\n",
       "      <th>ML_train_accuracy</th>\n",
       "      <th>ML_train_precision</th>\n",
       "      <th>ML_train_recall</th>\n",
       "      <th>ML_train_mcc</th>\n",
       "      <th>ML_test_accuracy</th>\n",
       "      <th>ML_test_precision</th>\n",
       "      <th>ML_test_recall</th>\n",
       "      <th>ML_test_mcc</th>\n",
       "    </tr>\n",
       "  </thead>\n",
       "  <tbody>\n",
       "    <tr>\n",
       "      <th>0</th>\n",
       "      <td>XGBClassifier</td>\n",
       "      <td>{'base_score': 0.5, 'booster': 'gbtree', 'cols...</td>\n",
       "      <td>4.33702</td>\n",
       "      <td>0.859208</td>\n",
       "      <td>0.859449</td>\n",
       "      <td>0.999345</td>\n",
       "      <td>0.0833291</td>\n",
       "      <td>0.857552</td>\n",
       "      <td>0.858536</td>\n",
       "      <td>0.998515</td>\n",
       "      <td>0.0353823</td>\n",
       "    </tr>\n",
       "    <tr>\n",
       "      <th>1</th>\n",
       "      <td>AdaBoostClassifier</td>\n",
       "      <td>{'algorithm': 'SAMME.R', 'base_estimator': Non...</td>\n",
       "      <td>1.18578</td>\n",
       "      <td>0.858197</td>\n",
       "      <td>0.860761</td>\n",
       "      <td>0.995825</td>\n",
       "      <td>0.0903466</td>\n",
       "      <td>0.856845</td>\n",
       "      <td>0.860149</td>\n",
       "      <td>0.994927</td>\n",
       "      <td>0.0692022</td>\n",
       "    </tr>\n",
       "    <tr>\n",
       "      <th>2</th>\n",
       "      <td>BaggingClassifier</td>\n",
       "      <td>{'base_estimator': None, 'bootstrap': True, 'b...</td>\n",
       "      <td>2.26898</td>\n",
       "      <td>0.992564</td>\n",
       "      <td>0.992501</td>\n",
       "      <td>0.998882</td>\n",
       "      <td>0.969229</td>\n",
       "      <td>0.831611</td>\n",
       "      <td>0.866897</td>\n",
       "      <td>0.949557</td>\n",
       "      <td>0.0998711</td>\n",
       "    </tr>\n",
       "    <tr>\n",
       "      <th>3</th>\n",
       "      <td>ExtraTreesClassifier</td>\n",
       "      <td>{'bootstrap': False, 'class_weight': None, 'cr...</td>\n",
       "      <td>0.329619</td>\n",
       "      <td>1</td>\n",
       "      <td>1</td>\n",
       "      <td>1</td>\n",
       "      <td>1</td>\n",
       "      <td>0.837274</td>\n",
       "      <td>0.86374</td>\n",
       "      <td>0.962136</td>\n",
       "      <td>0.0758645</td>\n",
       "    </tr>\n",
       "    <tr>\n",
       "      <th>4</th>\n",
       "      <td>GradientBoostingClassifier</td>\n",
       "      <td>{'criterion': 'friedman_mse', 'init': None, 'l...</td>\n",
       "      <td>3.2725</td>\n",
       "      <td>0.860824</td>\n",
       "      <td>0.861132</td>\n",
       "      <td>0.998882</td>\n",
       "      <td>0.128638</td>\n",
       "      <td>0.857163</td>\n",
       "      <td>0.859067</td>\n",
       "      <td>0.997113</td>\n",
       "      <td>0.0452702</td>\n",
       "    </tr>\n",
       "    <tr>\n",
       "      <th>5</th>\n",
       "      <td>RandomForestClassifier</td>\n",
       "      <td>{'bootstrap': True, 'class_weight': None, 'cri...</td>\n",
       "      <td>0.444668</td>\n",
       "      <td>0.992768</td>\n",
       "      <td>0.992238</td>\n",
       "      <td>0.99939</td>\n",
       "      <td>0.970088</td>\n",
       "      <td>0.841838</td>\n",
       "      <td>0.865438</td>\n",
       "      <td>0.965848</td>\n",
       "      <td>0.100673</td>\n",
       "    </tr>\n",
       "    <tr>\n",
       "      <th>6</th>\n",
       "      <td>LinearDiscriminantAnalysis</td>\n",
       "      <td>{'n_components': None, 'priors': None, 'shrink...</td>\n",
       "      <td>0.172069</td>\n",
       "      <td>0.856837</td>\n",
       "      <td>0.860107</td>\n",
       "      <td>0.994982</td>\n",
       "      <td>0.0683083</td>\n",
       "      <td>0.856455</td>\n",
       "      <td>0.859966</td>\n",
       "      <td>0.994679</td>\n",
       "      <td>0.06333</td>\n",
       "    </tr>\n",
       "  </tbody>\n",
       "</table>\n",
       "</div>"
      ],
      "text/plain": [
       "                       ML_alg  \\\n",
       "0               XGBClassifier   \n",
       "1          AdaBoostClassifier   \n",
       "2           BaggingClassifier   \n",
       "3        ExtraTreesClassifier   \n",
       "4  GradientBoostingClassifier   \n",
       "5      RandomForestClassifier   \n",
       "6  LinearDiscriminantAnalysis   \n",
       "\n",
       "                                           ML_params ML_runtime  \\\n",
       "0  {'base_score': 0.5, 'booster': 'gbtree', 'cols...    4.33702   \n",
       "1  {'algorithm': 'SAMME.R', 'base_estimator': Non...    1.18578   \n",
       "2  {'base_estimator': None, 'bootstrap': True, 'b...    2.26898   \n",
       "3  {'bootstrap': False, 'class_weight': None, 'cr...   0.329619   \n",
       "4  {'criterion': 'friedman_mse', 'init': None, 'l...     3.2725   \n",
       "5  {'bootstrap': True, 'class_weight': None, 'cri...   0.444668   \n",
       "6  {'n_components': None, 'priors': None, 'shrink...   0.172069   \n",
       "\n",
       "  ML_train_accuracy ML_train_precision ML_train_recall ML_train_mcc  \\\n",
       "0          0.859208           0.859449        0.999345    0.0833291   \n",
       "1          0.858197           0.860761        0.995825    0.0903466   \n",
       "2          0.992564           0.992501        0.998882     0.969229   \n",
       "3                 1                  1               1            1   \n",
       "4          0.860824           0.861132        0.998882     0.128638   \n",
       "5          0.992768           0.992238         0.99939     0.970088   \n",
       "6          0.856837           0.860107        0.994982    0.0683083   \n",
       "\n",
       "  ML_test_accuracy ML_test_precision ML_test_recall ML_test_mcc  \n",
       "0         0.857552          0.858536       0.998515   0.0353823  \n",
       "1         0.856845          0.860149       0.994927   0.0692022  \n",
       "2         0.831611          0.866897       0.949557   0.0998711  \n",
       "3         0.837274           0.86374       0.962136   0.0758645  \n",
       "4         0.857163          0.859067       0.997113   0.0452702  \n",
       "5         0.841838          0.865438       0.965848    0.100673  \n",
       "6         0.856455          0.859966       0.994679     0.06333  "
      ]
     },
     "execution_count": 19,
     "metadata": {},
     "output_type": "execute_result"
    }
   ],
   "source": [
    "#let's put them all in a table\n",
    "algs_set1 = [XGBClassifier(),ensemble.AdaBoostClassifier(), ensemble.BaggingClassifier(), ensemble.ExtraTreesClassifier(),\n",
    "            ensemble.GradientBoostingClassifier(), ensemble.RandomForestClassifier(), discriminant_analysis.LinearDiscriminantAnalysis()] \n",
    "table_set1,temp = baseline_ml(algs_set1,features,target,scoring,df)\n",
    "table_set1"
   ]
  },
  {
   "cell_type": "code",
   "execution_count": 20,
   "metadata": {
    "collapsed": true
   },
   "outputs": [],
   "source": [
    "#we're going to use a benchmark of Mathew's correlation coefficent to determine our imbalanced dataset.\n",
    "#refer to:https://lettier.github.io/posts/2016-08-05-matthews-correlation-coefficient.html\n",
    "#we can also try the \"balanced_accuracy\" scorer, which is also designed for imbalanced dataset. It takes into account of the average macro recall.\n",
    "#Let's stick with the former.\n",
    "\n",
    "mcc_scorer = make_scorer(matthews_corrcoef)\n",
    "\n",
    "def tuning_grid(model_,features,target,hyperparams,df):\n",
    "    global mcc_scorer\n",
    "    X_train, X_test, y_train, y_test = model_selection.train_test_split(df[features], df[target], test_size=0.25, random_state=1)\n",
    "    model = model_selection.GridSearchCV(model_,param_grid=hyperparams,scoring=mcc_scorer, cv = 10)\n",
    "    model.fit(X_train,y_train)\n",
    "    print(model.best_params_)\n",
    "    print(model.cv_results_['mean_train_score'])\n",
    "    print(model.cv_results_['mean_test_score'])\n",
    "    return model"
   ]
  },
  {
   "cell_type": "code",
   "execution_count": 21,
   "metadata": {},
   "outputs": [],
   "source": [
    "#fine-tunning hyperparameters with GridsearchCV\n",
    "#Store the estimators in this dictionary for later usage\n",
    "hyper_tuning = {}\n",
    "Y_pred = pd.DataFrame()"
   ]
  },
  {
   "cell_type": "code",
   "execution_count": 22,
   "metadata": {
    "scrolled": true
   },
   "outputs": [],
   "source": [
    "XGBClassifier_hp = {\"eta\":[0.1,0.2], #learning rate\n",
    "                    \"min_child_weight\":[1], #“sum of weights” of observations while GBM has min “number of observations”.\n",
    "                    #used lower number because of class imbalance\n",
    "                    \"max_depth\":[3,6,9,13], #pruning to control overfitting\n",
    "                    \"scale_pos_weight\":[0.17,0.1] #the ratio of positive to negative (0.15/0.85), imbalanced dataset\n",
    "                   }\n",
    "\n",
    "#manually optimize, testing\n",
    "#tune_model = model_selection.GridSearchCV(XGBClassifier(),param_grid=XGBClassifier_hp,scoring=\"matthews_corrcoef\", cv = 2)\n",
    "#fit to tune the gridsearch\n",
    "#tune_model.fit(X_test,y_test)\n",
    "\n",
    "#print(tune_model.cv_results_.keys())\n",
    "#print(tune_model.cv_results_['params'])\n",
    "#print(tune_model.best_params_)"
   ]
  },
  {
   "cell_type": "code",
   "execution_count": 23,
   "metadata": {},
   "outputs": [
    {
     "data": {
      "text/plain": [
       "'\\nXGB_model = tuning_grid(XGBClassifier(),features,target,XGBClassifier_hp,df)\\nXGB_model\\n'"
      ]
     },
     "execution_count": 23,
     "metadata": {},
     "output_type": "execute_result"
    }
   ],
   "source": [
    "'''\n",
    "XGB_model = tuning_grid(XGBClassifier(),features,target,XGBClassifier_hp,df)\n",
    "XGB_model\n",
    "'''"
   ]
  },
  {
   "cell_type": "code",
   "execution_count": 24,
   "metadata": {},
   "outputs": [
    {
     "data": {
      "text/html": [
       "<div>\n",
       "<style scoped>\n",
       "    .dataframe tbody tr th:only-of-type {\n",
       "        vertical-align: middle;\n",
       "    }\n",
       "\n",
       "    .dataframe tbody tr th {\n",
       "        vertical-align: top;\n",
       "    }\n",
       "\n",
       "    .dataframe thead th {\n",
       "        text-align: right;\n",
       "    }\n",
       "</style>\n",
       "<table border=\"1\" class=\"dataframe\">\n",
       "  <thead>\n",
       "    <tr style=\"text-align: right;\">\n",
       "      <th></th>\n",
       "      <th>ML_alg</th>\n",
       "      <th>ML_params</th>\n",
       "      <th>ML_runtime</th>\n",
       "      <th>ML_train_accuracy</th>\n",
       "      <th>ML_train_precision</th>\n",
       "      <th>ML_train_recall</th>\n",
       "      <th>ML_train_mcc</th>\n",
       "      <th>ML_test_accuracy</th>\n",
       "      <th>ML_test_precision</th>\n",
       "      <th>ML_test_recall</th>\n",
       "      <th>ML_test_mcc</th>\n",
       "    </tr>\n",
       "  </thead>\n",
       "  <tbody>\n",
       "    <tr>\n",
       "      <th>0</th>\n",
       "      <td>XGBClassifier</td>\n",
       "      <td>{'base_score': 0.5, 'booster': 'gbtree', 'cols...</td>\n",
       "      <td>4.32729</td>\n",
       "      <td>0.667253</td>\n",
       "      <td>0.925267</td>\n",
       "      <td>0.665998</td>\n",
       "      <td>0.244779</td>\n",
       "      <td>0.653701</td>\n",
       "      <td>0.914324</td>\n",
       "      <td>0.658114</td>\n",
       "      <td>0.204821</td>\n",
       "    </tr>\n",
       "  </tbody>\n",
       "</table>\n",
       "</div>"
      ],
      "text/plain": [
       "          ML_alg                                          ML_params  \\\n",
       "0  XGBClassifier  {'base_score': 0.5, 'booster': 'gbtree', 'cols...   \n",
       "\n",
       "  ML_runtime ML_train_accuracy ML_train_precision ML_train_recall  \\\n",
       "0    4.32729          0.667253           0.925267        0.665998   \n",
       "\n",
       "  ML_train_mcc ML_test_accuracy ML_test_precision ML_test_recall ML_test_mcc  \n",
       "0     0.244779         0.653701          0.914324       0.658114    0.204821  "
      ]
     },
     "execution_count": 24,
     "metadata": {},
     "output_type": "execute_result"
    }
   ],
   "source": [
    "current_model = [XGBClassifier(eta=0.1, max_depth=3, min_child_weight=1,scale_pos_weight=0.17,random_state=1)]\n",
    "current_table,y_pred = baseline_ml(current_model,features,target,scoring,df)\n",
    "#assigning the best XGBClassfier hyperparameters we have\n",
    "hyper_tuning[\"XGBClassifier\"] = current_model\n",
    "Y_pred[\"XGBClassifier\"] = y_pred\n",
    "current_table\n",
    "#we did improve the mcc value quite a bit here from the default. It's not perfect but we'll stick with it.\n",
    "#at the expense, we have been lowering our recall rate.\n",
    "\n"
   ]
  },
  {
   "cell_type": "code",
   "execution_count": 25,
   "metadata": {},
   "outputs": [
    {
     "data": {
      "text/plain": [
       "'\\nAdaBoostClassifier_hp = {\"base_estimator\":[tree.DecisionTreeClassifier(class_weight=\\'balanced\\',max_depth=3)],\\n                         \"n_estimators\":[100,250,400,550],\"learning_rate\":[0.3,0.6,1,1.5],\\n                         \"algorithm\":[\"SAMME\",\"SAMME.R\"],\"random_state\":[1]}\\nAdaBoostClassifier_model = tuning_grid(ensemble.AdaBoostClassifier(),features,target,AdaBoostClassifier_hp,df)\\nAdaBoostClassifier_model\\n'"
      ]
     },
     "execution_count": 25,
     "metadata": {},
     "output_type": "execute_result"
    }
   ],
   "source": [
    "#AdaBoostClassfier, max_depth has to be minimum of 3 to perform better than random guesses(error).\n",
    "#we want weak learners so we use max_depth=3 for each learner.\n",
    "'''\n",
    "AdaBoostClassifier_hp = {\"base_estimator\":[tree.DecisionTreeClassifier(class_weight='balanced',max_depth=3)],\n",
    "                         \"n_estimators\":[100,250,400,550],\"learning_rate\":[0.3,0.6,1,1.5],\n",
    "                         \"algorithm\":[\"SAMME\",\"SAMME.R\"],\"random_state\":[1]}\n",
    "AdaBoostClassifier_model = tuning_grid(ensemble.AdaBoostClassifier(),features,target,AdaBoostClassifier_hp,df)\n",
    "AdaBoostClassifier_model\n",
    "'''"
   ]
  },
  {
   "cell_type": "code",
   "execution_count": 26,
   "metadata": {},
   "outputs": [
    {
     "data": {
      "text/html": [
       "<div>\n",
       "<style scoped>\n",
       "    .dataframe tbody tr th:only-of-type {\n",
       "        vertical-align: middle;\n",
       "    }\n",
       "\n",
       "    .dataframe tbody tr th {\n",
       "        vertical-align: top;\n",
       "    }\n",
       "\n",
       "    .dataframe thead th {\n",
       "        text-align: right;\n",
       "    }\n",
       "</style>\n",
       "<table border=\"1\" class=\"dataframe\">\n",
       "  <thead>\n",
       "    <tr style=\"text-align: right;\">\n",
       "      <th></th>\n",
       "      <th>ML_alg</th>\n",
       "      <th>ML_params</th>\n",
       "      <th>ML_runtime</th>\n",
       "      <th>ML_train_accuracy</th>\n",
       "      <th>ML_train_precision</th>\n",
       "      <th>ML_train_recall</th>\n",
       "      <th>ML_train_mcc</th>\n",
       "      <th>ML_test_accuracy</th>\n",
       "      <th>ML_test_precision</th>\n",
       "      <th>ML_test_recall</th>\n",
       "      <th>ML_test_mcc</th>\n",
       "    </tr>\n",
       "  </thead>\n",
       "  <tbody>\n",
       "    <tr>\n",
       "      <th>0</th>\n",
       "      <td>AdaBoostClassifier</td>\n",
       "      <td>{'algorithm': 'SAMME.R', 'base_estimator__clas...</td>\n",
       "      <td>6.75197</td>\n",
       "      <td>0.688487</td>\n",
       "      <td>0.941036</td>\n",
       "      <td>0.679531</td>\n",
       "      <td>0.303481</td>\n",
       "      <td>0.654091</td>\n",
       "      <td>0.909004</td>\n",
       "      <td>0.66327</td>\n",
       "      <td>0.188922</td>\n",
       "    </tr>\n",
       "  </tbody>\n",
       "</table>\n",
       "</div>"
      ],
      "text/plain": [
       "               ML_alg                                          ML_params  \\\n",
       "0  AdaBoostClassifier  {'algorithm': 'SAMME.R', 'base_estimator__clas...   \n",
       "\n",
       "  ML_runtime ML_train_accuracy ML_train_precision ML_train_recall  \\\n",
       "0    6.75197          0.688487           0.941036        0.679531   \n",
       "\n",
       "  ML_train_mcc ML_test_accuracy ML_test_precision ML_test_recall ML_test_mcc  \n",
       "0     0.303481         0.654091          0.909004        0.66327    0.188922  "
      ]
     },
     "execution_count": 26,
     "metadata": {},
     "output_type": "execute_result"
    }
   ],
   "source": [
    "#the learning rate and n_estimators are inversely related (somewhat) due to the effectiveness of each weak leaner.\n",
    "#using balanced decisiontree for class imbalance, keep default hyperparam\n",
    "current_model = [ensemble.AdaBoostClassifier(base_estimator=tree.DecisionTreeClassifier(class_weight='balanced',max_depth=3),\n",
    "                                             n_estimators=100,learning_rate=0.3,algorithm=\"SAMME.R\",random_state=1)]\n",
    "current_table, y_pred = baseline_ml(current_model,features,target,scoring,df)\n",
    "hyper_tuning[\"AdaBoostClassifier\"] = current_model\n",
    "Y_pred[\"AdaBoostClassifier\"] = y_pred\n",
    "current_table"
   ]
  },
  {
   "cell_type": "code",
   "execution_count": 27,
   "metadata": {},
   "outputs": [
    {
     "data": {
      "text/plain": [
       "'\\nBaggingClassifier_hp = {\"base_estimator\":[tree.DecisionTreeClassifier(class_weight=\\'balanced\\',max_depth=3)],\\n                        \"n_estimators\":[10,30,50,70,90],\"max_samples\":[0.7,1],\"max_features\":[0.5,0.7,1],\"random_state\":[1]}\\nBaggingClassifier_model = tuning_grid(ensemble.BaggingClassifier(),features,target,BaggingClassifier_hp,df)\\nBaggingClassifier_model\\n'"
      ]
     },
     "execution_count": 27,
     "metadata": {},
     "output_type": "execute_result"
    }
   ],
   "source": [
    "#max_samples is for the number of observations being used max_samples*total_sample_size\n",
    "#max_features = max_features*total_features\n",
    "#same weak learner as the previous AdaBoost for the base_estimator\n",
    "'''\n",
    "BaggingClassifier_hp = {\"base_estimator\":[tree.DecisionTreeClassifier(class_weight='balanced',max_depth=3)],\n",
    "                        \"n_estimators\":[10,30,50,70,90],\"max_samples\":[0.7,1],\"max_features\":[0.5,0.7,1],\"random_state\":[1]}\n",
    "BaggingClassifier_model = tuning_grid(ensemble.BaggingClassifier(),features,target,BaggingClassifier_hp,df)\n",
    "BaggingClassifier_model\n",
    "'''"
   ]
  },
  {
   "cell_type": "code",
   "execution_count": 28,
   "metadata": {},
   "outputs": [
    {
     "data": {
      "text/html": [
       "<div>\n",
       "<style scoped>\n",
       "    .dataframe tbody tr th:only-of-type {\n",
       "        vertical-align: middle;\n",
       "    }\n",
       "\n",
       "    .dataframe tbody tr th {\n",
       "        vertical-align: top;\n",
       "    }\n",
       "\n",
       "    .dataframe thead th {\n",
       "        text-align: right;\n",
       "    }\n",
       "</style>\n",
       "<table border=\"1\" class=\"dataframe\">\n",
       "  <thead>\n",
       "    <tr style=\"text-align: right;\">\n",
       "      <th></th>\n",
       "      <th>ML_alg</th>\n",
       "      <th>ML_params</th>\n",
       "      <th>ML_runtime</th>\n",
       "      <th>ML_train_accuracy</th>\n",
       "      <th>ML_train_precision</th>\n",
       "      <th>ML_train_recall</th>\n",
       "      <th>ML_train_mcc</th>\n",
       "      <th>ML_test_accuracy</th>\n",
       "      <th>ML_test_precision</th>\n",
       "      <th>ML_test_recall</th>\n",
       "      <th>ML_test_mcc</th>\n",
       "    </tr>\n",
       "  </thead>\n",
       "  <tbody>\n",
       "    <tr>\n",
       "      <th>0</th>\n",
       "      <td>BaggingClassifier</td>\n",
       "      <td>{'base_estimator__class_weight': 'balanced', '...</td>\n",
       "      <td>0.692997</td>\n",
       "      <td>0.632491</td>\n",
       "      <td>0.91675</td>\n",
       "      <td>0.628808</td>\n",
       "      <td>0.20114</td>\n",
       "      <td>0.629708</td>\n",
       "      <td>0.914839</td>\n",
       "      <td>0.626852</td>\n",
       "      <td>0.194195</td>\n",
       "    </tr>\n",
       "  </tbody>\n",
       "</table>\n",
       "</div>"
      ],
      "text/plain": [
       "              ML_alg                                          ML_params  \\\n",
       "0  BaggingClassifier  {'base_estimator__class_weight': 'balanced', '...   \n",
       "\n",
       "  ML_runtime ML_train_accuracy ML_train_precision ML_train_recall  \\\n",
       "0   0.692997          0.632491            0.91675        0.628808   \n",
       "\n",
       "  ML_train_mcc ML_test_accuracy ML_test_precision ML_test_recall ML_test_mcc  \n",
       "0      0.20114         0.629708          0.914839       0.626852    0.194195  "
      ]
     },
     "execution_count": 28,
     "metadata": {},
     "output_type": "execute_result"
    }
   ],
   "source": [
    "#the learning rate and n_estimators are inversely related (somewhat) due to the effectiveness of each weak leaner.\n",
    "#perhaps one of the better mcc value thus far.\n",
    "current_model = [ensemble.BaggingClassifier(base_estimator=tree.DecisionTreeClassifier(class_weight='balanced',max_depth=3),\n",
    "                                            n_estimators=30,max_samples=0.7,max_features=0.5,random_state=1)] \n",
    "current_table, y_pred = baseline_ml(current_model,features,target,scoring,df)\n",
    "Y_pred[\"BaggingClassifier\"] = y_pred\n",
    "hyper_tuning[\"BaggingClassifier\"] = current_model\n",
    "current_table"
   ]
  },
  {
   "cell_type": "code",
   "execution_count": 29,
   "metadata": {},
   "outputs": [
    {
     "name": "stdout",
     "output_type": "stream",
     "text": [
      "{'class_weight': {0: 7, 1: 1}, 'criterion': 'gini', 'max_depth': 5, 'min_samples_leaf': 3, 'random_state': 1}\n",
      "[0.16497609 0.16646523 0.16674616 0.16628441 0.19988616 0.19573471\n",
      " 0.19385097 0.18982961 0.27844967 0.2439227  0.2324477  0.21875463\n",
      " 0.16424081 0.1664477  0.16662532 0.16617682 0.19913531 0.19179301\n",
      " 0.18724195 0.19087626 0.28123639 0.25147506 0.2338381  0.21909615\n",
      " 0.02304466 0.01662935 0.01812124 0.00339794 0.1280625  0.10574389\n",
      " 0.08782835 0.07089721 0.24843353 0.16240126 0.11051315 0.08424396\n",
      " 0.02510436 0.0199241  0.01571572 0.00339794 0.13295191 0.10715647\n",
      " 0.08173359 0.06791703 0.2426603  0.15709783 0.10617698 0.08318226\n",
      " 0.16309603 0.16184834 0.16358479 0.16313754 0.1930427  0.1843285\n",
      " 0.18009922 0.18081472 0.27301719 0.23726052 0.22082489 0.21238359\n",
      " 0.16141114 0.16184834 0.16358479 0.16303061 0.19224009 0.18159304\n",
      " 0.17892124 0.18598619 0.26923866 0.23612044 0.21981804 0.2119846\n",
      " 0.09507673 0.08362779 0.0973717  0.10599437 0.16166197 0.15581148\n",
      " 0.14792189 0.15575836 0.24886487 0.21618437 0.19528412 0.18943746\n",
      " 0.09625359 0.08335873 0.09710261 0.10599437 0.15643989 0.14890217\n",
      " 0.14792689 0.15427126 0.24849309 0.21202604 0.19893889 0.1804537 ]\n",
      "[0.1617284  0.16217622 0.16249445 0.16027422 0.14342822 0.14572302\n",
      " 0.15087411 0.14645999 0.13483605 0.1398013  0.1422525  0.14789613\n",
      " 0.16312302 0.16267117 0.16288463 0.16021509 0.14246844 0.14511931\n",
      " 0.148987   0.14864088 0.13428719 0.14484914 0.15518382 0.15666854\n",
      " 0.00695928 0.00434968 0.01050065 0.00386425 0.0435917  0.03232396\n",
      " 0.04103375 0.02675178 0.05214449 0.05614975 0.04007522 0.02504012\n",
      " 0.01887654 0.00378905 0.01126693 0.00386425 0.04373108 0.04995171\n",
      " 0.03558832 0.04377163 0.05707037 0.06334506 0.03710886 0.03988078\n",
      " 0.1673172  0.15480772 0.15940006 0.16038301 0.14918532 0.13792657\n",
      " 0.14207814 0.13984118 0.1346633  0.12805256 0.13712395 0.1400771\n",
      " 0.16306752 0.15480772 0.15940006 0.16032436 0.14051885 0.14003654\n",
      " 0.13669168 0.14450403 0.12830085 0.12908824 0.13607879 0.14519712\n",
      " 0.09205415 0.07880943 0.09154316 0.10138873 0.11405779 0.11213152\n",
      " 0.10965163 0.11763218 0.10475883 0.11424801 0.11603692 0.11192967\n",
      " 0.09244433 0.07842481 0.09115911 0.10138873 0.11076017 0.1078922\n",
      " 0.10930468 0.1188027  0.10716552 0.10797948 0.11752017 0.11238684]\n"
     ]
    },
    {
     "data": {
      "text/plain": [
       "GridSearchCV(cv=10, error_score='raise-deprecating',\n",
       "       estimator=ExtraTreeClassifier(class_weight=None, criterion='gini', max_depth=None,\n",
       "          max_features='auto', max_leaf_nodes=None,\n",
       "          min_impurity_decrease=0.0, min_impurity_split=None,\n",
       "          min_samples_leaf=1, min_samples_split=2,\n",
       "          min_weight_fraction_leaf=0.0, random_state=None,\n",
       "          splitter='random'),\n",
       "       fit_params=None, iid='warn', n_jobs=None,\n",
       "       param_grid={'class_weight': ['balanced', {0: 1, 1: 1}, {0: 7, 1: 1}, {0: 10, 1: 1}], 'criterion': ['gini', 'entropy'], 'max_depth': [5, 10, 15], 'min_samples_leaf': [3, 6, 9, 12], 'random_state': [1]},\n",
       "       pre_dispatch='2*n_jobs', refit=True, return_train_score='warn',\n",
       "       scoring=make_scorer(matthews_corrcoef), verbose=0)"
      ]
     },
     "execution_count": 29,
     "metadata": {},
     "output_type": "execute_result"
    }
   ],
   "source": [
    "#balanced weight = 0.85/0.15 = 0.56\n",
    "ExtraTreeClassifier_hp = {\"class_weight\":[\"balanced\",{0:1,1:1},{0:7,1:1},{0:10,1:1}],\"criterion\":[\"gini\",\"entropy\"],\n",
    "                          \"max_depth\":[5,10,15],\"min_samples_leaf\":[3,6,9,12],\"random_state\":[1]}\n",
    "ExtraTreeClassifier_model = tuning_grid(tree.ExtraTreeClassifier(),features,target,ExtraTreeClassifier_hp,df)\n",
    "ExtraTreeClassifier_model\n"
   ]
  },
  {
   "cell_type": "code",
   "execution_count": 30,
   "metadata": {},
   "outputs": [
    {
     "data": {
      "text/html": [
       "<div>\n",
       "<style scoped>\n",
       "    .dataframe tbody tr th:only-of-type {\n",
       "        vertical-align: middle;\n",
       "    }\n",
       "\n",
       "    .dataframe tbody tr th {\n",
       "        vertical-align: top;\n",
       "    }\n",
       "\n",
       "    .dataframe thead th {\n",
       "        text-align: right;\n",
       "    }\n",
       "</style>\n",
       "<table border=\"1\" class=\"dataframe\">\n",
       "  <thead>\n",
       "    <tr style=\"text-align: right;\">\n",
       "      <th></th>\n",
       "      <th>ML_alg</th>\n",
       "      <th>ML_params</th>\n",
       "      <th>ML_runtime</th>\n",
       "      <th>ML_train_accuracy</th>\n",
       "      <th>ML_train_precision</th>\n",
       "      <th>ML_train_recall</th>\n",
       "      <th>ML_train_mcc</th>\n",
       "      <th>ML_test_accuracy</th>\n",
       "      <th>ML_test_precision</th>\n",
       "      <th>ML_test_recall</th>\n",
       "      <th>ML_test_mcc</th>\n",
       "    </tr>\n",
       "  </thead>\n",
       "  <tbody>\n",
       "    <tr>\n",
       "      <th>0</th>\n",
       "      <td>ExtraTreeClassifier</td>\n",
       "      <td>{'class_weight': {0: 7, 1: 1}, 'criterion': 'g...</td>\n",
       "      <td>0.0211502</td>\n",
       "      <td>0.558875</td>\n",
       "      <td>0.906442</td>\n",
       "      <td>0.544112</td>\n",
       "      <td>0.143372</td>\n",
       "      <td>0.556371</td>\n",
       "      <td>0.904326</td>\n",
       "      <td>0.5418</td>\n",
       "      <td>0.13934</td>\n",
       "    </tr>\n",
       "  </tbody>\n",
       "</table>\n",
       "</div>"
      ],
      "text/plain": [
       "                ML_alg                                          ML_params  \\\n",
       "0  ExtraTreeClassifier  {'class_weight': {0: 7, 1: 1}, 'criterion': 'g...   \n",
       "\n",
       "  ML_runtime ML_train_accuracy ML_train_precision ML_train_recall  \\\n",
       "0  0.0211502          0.558875           0.906442        0.544112   \n",
       "\n",
       "  ML_train_mcc ML_test_accuracy ML_test_precision ML_test_recall ML_test_mcc  \n",
       "0     0.143372         0.556371          0.904326         0.5418     0.13934  "
      ]
     },
     "execution_count": 30,
     "metadata": {},
     "output_type": "execute_result"
    }
   ],
   "source": [
    "current_model = [tree.ExtraTreeClassifier(criterion=\"gini\", class_weight={0:7,1:1},max_depth=5, min_samples_leaf=3)]\n",
    "current_table, y_pred = baseline_ml(current_model,features,target,scoring,df)\n",
    "hyper_tuning[\"ExtraTreeClassifier\"] = current_model\n",
    "Y_pred[\"ExtraTreeClassifier\"] = y_pred\n",
    "current_table\n",
    "#quite a good result with the fast runtime"
   ]
  },
  {
   "cell_type": "code",
   "execution_count": 31,
   "metadata": {},
   "outputs": [
    {
     "data": {
      "text/plain": [
       "'\\nGBClassifier_hp = {\"learning_rate\":[0.05,0.1,0.15],\"n_estimators\":[40,60,80,100],\\n                   \"max_features\":[\"auto\",\"sqrt\",\"log2\"],\"max_depth\":[3,6,8],\"random_state\":[1]}\\nGradientBoostingClassifier_model = tuning_grid(ensemble.GradientBoostingClassifier(),features,target,GBClassifier_hp,df)\\nGradientBoostingClassifier_model\\n'"
      ]
     },
     "execution_count": 31,
     "metadata": {},
     "output_type": "execute_result"
    }
   ],
   "source": [
    "#refer to: https://www.analyticsvidhya.com/blog/2016/02/complete-guide-parameter-tuning-gradient-boosting-gbm-python/\n",
    "#for hyperparameter tuning, it's unlikely to beat XGBClassifier previously\n",
    "#let's do a rough estimate\n",
    "'''\n",
    "GBClassifier_hp = {\"learning_rate\":[0.05,0.1,0.15],\"n_estimators\":[40,60,80,100],\n",
    "                   \"max_features\":[\"auto\",\"sqrt\",\"log2\"],\"max_depth\":[3,6,8],\"random_state\":[1]}\n",
    "GradientBoostingClassifier_model = tuning_grid(ensemble.GradientBoostingClassifier(),features,target,GBClassifier_hp,df)\n",
    "GradientBoostingClassifier_model\n",
    "'''"
   ]
  },
  {
   "cell_type": "code",
   "execution_count": 32,
   "metadata": {},
   "outputs": [
    {
     "data": {
      "text/html": [
       "<div>\n",
       "<style scoped>\n",
       "    .dataframe tbody tr th:only-of-type {\n",
       "        vertical-align: middle;\n",
       "    }\n",
       "\n",
       "    .dataframe tbody tr th {\n",
       "        vertical-align: top;\n",
       "    }\n",
       "\n",
       "    .dataframe thead th {\n",
       "        text-align: right;\n",
       "    }\n",
       "</style>\n",
       "<table border=\"1\" class=\"dataframe\">\n",
       "  <thead>\n",
       "    <tr style=\"text-align: right;\">\n",
       "      <th></th>\n",
       "      <th>ML_alg</th>\n",
       "      <th>ML_params</th>\n",
       "      <th>ML_runtime</th>\n",
       "      <th>ML_train_accuracy</th>\n",
       "      <th>ML_train_precision</th>\n",
       "      <th>ML_train_recall</th>\n",
       "      <th>ML_train_mcc</th>\n",
       "      <th>ML_test_accuracy</th>\n",
       "      <th>ML_test_precision</th>\n",
       "      <th>ML_test_recall</th>\n",
       "      <th>ML_test_mcc</th>\n",
       "    </tr>\n",
       "  </thead>\n",
       "  <tbody>\n",
       "    <tr>\n",
       "      <th>0</th>\n",
       "      <td>GradientBoostingClassifier</td>\n",
       "      <td>{'criterion': 'friedman_mse', 'init': None, 'l...</td>\n",
       "      <td>2.19714</td>\n",
       "      <td>0.879105</td>\n",
       "      <td>0.877242</td>\n",
       "      <td>0.998886</td>\n",
       "      <td>0.358608</td>\n",
       "      <td>0.85596</td>\n",
       "      <td>0.861963</td>\n",
       "      <td>0.990802</td>\n",
       "      <td>0.0939717</td>\n",
       "    </tr>\n",
       "  </tbody>\n",
       "</table>\n",
       "</div>"
      ],
      "text/plain": [
       "                       ML_alg  \\\n",
       "0  GradientBoostingClassifier   \n",
       "\n",
       "                                           ML_params ML_runtime  \\\n",
       "0  {'criterion': 'friedman_mse', 'init': None, 'l...    2.19714   \n",
       "\n",
       "  ML_train_accuracy ML_train_precision ML_train_recall ML_train_mcc  \\\n",
       "0          0.879105           0.877242        0.998886     0.358608   \n",
       "\n",
       "  ML_test_accuracy ML_test_precision ML_test_recall ML_test_mcc  \n",
       "0          0.85596          0.861963       0.990802   0.0939717  "
      ]
     },
     "execution_count": 32,
     "metadata": {},
     "output_type": "execute_result"
    }
   ],
   "source": [
    "current_model = [ensemble.GradientBoostingClassifier(learning_rate=0.15, n_estimators=80, min_samples_split=0.005,\n",
    "                                                    max_features=\"log2\",max_depth=8, random_state=1)]\n",
    "current_table, y_pred = baseline_ml(current_model,features,target,scoring,df)\n",
    "hyper_tuning[\"GradientBoostingClassifier\"] = current_model\n",
    "Y_pred[\"GradientBoostingClassifier\"] = y_pred\n",
    "current_table\n",
    "#long runtime and very unsatisfied result, not much better than baselines."
   ]
  },
  {
   "cell_type": "code",
   "execution_count": 33,
   "metadata": {},
   "outputs": [
    {
     "data": {
      "text/plain": [
       "'\\nRandomForestClassifier_hp = {\"class_weight\":[\"balanced\"],\"min_samples_split\":[0.005],\\n                             \"max_depth\":[3,5,7,9,11],\"n_estimators\":[10,20,30,40]}\\nRF_model = tuning_grid(ensemble.RandomForestClassifier(),features,target,RandomForestClassifier_hp,df)\\nRF_model\\n'"
      ]
     },
     "execution_count": 33,
     "metadata": {},
     "output_type": "execute_result"
    }
   ],
   "source": [
    "'''\n",
    "RandomForestClassifier_hp = {\"class_weight\":[\"balanced\"],\"min_samples_split\":[0.005],\n",
    "                             \"max_depth\":[3,5,7,9,11],\"n_estimators\":[10,20,30,40]}\n",
    "RF_model = tuning_grid(ensemble.RandomForestClassifier(),features,target,RandomForestClassifier_hp,df)\n",
    "RF_model\n",
    "'''"
   ]
  },
  {
   "cell_type": "code",
   "execution_count": 34,
   "metadata": {},
   "outputs": [
    {
     "data": {
      "text/html": [
       "<div>\n",
       "<style scoped>\n",
       "    .dataframe tbody tr th:only-of-type {\n",
       "        vertical-align: middle;\n",
       "    }\n",
       "\n",
       "    .dataframe tbody tr th {\n",
       "        vertical-align: top;\n",
       "    }\n",
       "\n",
       "    .dataframe thead th {\n",
       "        text-align: right;\n",
       "    }\n",
       "</style>\n",
       "<table border=\"1\" class=\"dataframe\">\n",
       "  <thead>\n",
       "    <tr style=\"text-align: right;\">\n",
       "      <th></th>\n",
       "      <th>ML_alg</th>\n",
       "      <th>ML_params</th>\n",
       "      <th>ML_runtime</th>\n",
       "      <th>ML_train_accuracy</th>\n",
       "      <th>ML_train_precision</th>\n",
       "      <th>ML_train_recall</th>\n",
       "      <th>ML_train_mcc</th>\n",
       "      <th>ML_test_accuracy</th>\n",
       "      <th>ML_test_precision</th>\n",
       "      <th>ML_test_recall</th>\n",
       "      <th>ML_test_mcc</th>\n",
       "    </tr>\n",
       "  </thead>\n",
       "  <tbody>\n",
       "    <tr>\n",
       "      <th>0</th>\n",
       "      <td>RandomForestClassifier</td>\n",
       "      <td>{'bootstrap': True, 'class_weight': 'balanced'...</td>\n",
       "      <td>0.986342</td>\n",
       "      <td>0.733779</td>\n",
       "      <td>0.934325</td>\n",
       "      <td>0.741885</td>\n",
       "      <td>0.319584</td>\n",
       "      <td>0.697656</td>\n",
       "      <td>0.905549</td>\n",
       "      <td>0.723117</td>\n",
       "      <td>0.200576</td>\n",
       "    </tr>\n",
       "  </tbody>\n",
       "</table>\n",
       "</div>"
      ],
      "text/plain": [
       "                   ML_alg                                          ML_params  \\\n",
       "0  RandomForestClassifier  {'bootstrap': True, 'class_weight': 'balanced'...   \n",
       "\n",
       "  ML_runtime ML_train_accuracy ML_train_precision ML_train_recall  \\\n",
       "0   0.986342          0.733779           0.934325        0.741885   \n",
       "\n",
       "  ML_train_mcc ML_test_accuracy ML_test_precision ML_test_recall ML_test_mcc  \n",
       "0     0.319584         0.697656          0.905549       0.723117    0.200576  "
      ]
     },
     "execution_count": 34,
     "metadata": {},
     "output_type": "execute_result"
    }
   ],
   "source": [
    "current_model = [ensemble.RandomForestClassifier(n_estimators=40, class_weight=\"balanced\", max_depth=11, min_samples_split=0.005)]\n",
    "current_table,y_pred = baseline_ml(current_model,features,target,scoring,df)\n",
    "Y_pred[\"RandomForestClassifier\"] = y_pred\n",
    "hyper_tuning[\"RandomForestClassifier\"] = current_model\n",
    "current_table\n",
    "#pred.head()"
   ]
  },
  {
   "cell_type": "code",
   "execution_count": 35,
   "metadata": {},
   "outputs": [
    {
     "name": "stdout",
     "output_type": "stream",
     "text": [
      "{'n_components': 38, 'solver': 'lsqr'}\n",
      "[0.06830835 0.06862049 0.06830835 0.06862049 0.06830835 0.06862049\n",
      " 0.06830835 0.06862049 0.06830835 0.06862049 0.06830835 0.06862049\n",
      " 0.06830835 0.06862049]\n",
      "[0.06332958 0.06352663 0.06332958 0.06352663 0.06332958 0.06352663\n",
      " 0.06332958 0.06352663 0.06332958 0.06352663 0.06332958 0.06352663\n",
      " 0.06332958 0.06352663]\n"
     ]
    },
    {
     "data": {
      "text/plain": [
       "GridSearchCV(cv=10, error_score='raise-deprecating',\n",
       "       estimator=LinearDiscriminantAnalysis(n_components=None, priors=None, shrinkage=None,\n",
       "              solver='svd', store_covariance=False, tol=0.0001),\n",
       "       fit_params=None, iid='warn', n_jobs=None,\n",
       "       param_grid={'solver': ['svd', 'lsqr'], 'n_components': [38, 35, 33, 30, 27, 25, 20]},\n",
       "       pre_dispatch='2*n_jobs', refit=True, return_train_score='warn',\n",
       "       scoring=make_scorer(matthews_corrcoef), verbose=0)"
      ]
     },
     "execution_count": 35,
     "metadata": {},
     "output_type": "execute_result"
    }
   ],
   "source": [
    "#n_components = features\n",
    "LDA_hp = {\"solver\":[\"svd\",\"lsqr\"],\"n_components\":[38,35,33,30,27,25,20]}\n",
    "LDA_model = tuning_grid(discriminant_analysis.LinearDiscriminantAnalysis(),features,target,LDA_hp,df)\n",
    "LDA_model"
   ]
  },
  {
   "cell_type": "code",
   "execution_count": 36,
   "metadata": {},
   "outputs": [
    {
     "data": {
      "text/html": [
       "<div>\n",
       "<style scoped>\n",
       "    .dataframe tbody tr th:only-of-type {\n",
       "        vertical-align: middle;\n",
       "    }\n",
       "\n",
       "    .dataframe tbody tr th {\n",
       "        vertical-align: top;\n",
       "    }\n",
       "\n",
       "    .dataframe thead th {\n",
       "        text-align: right;\n",
       "    }\n",
       "</style>\n",
       "<table border=\"1\" class=\"dataframe\">\n",
       "  <thead>\n",
       "    <tr style=\"text-align: right;\">\n",
       "      <th></th>\n",
       "      <th>ML_alg</th>\n",
       "      <th>ML_params</th>\n",
       "      <th>ML_runtime</th>\n",
       "      <th>ML_train_accuracy</th>\n",
       "      <th>ML_train_precision</th>\n",
       "      <th>ML_train_recall</th>\n",
       "      <th>ML_train_mcc</th>\n",
       "      <th>ML_test_accuracy</th>\n",
       "      <th>ML_test_precision</th>\n",
       "      <th>ML_test_recall</th>\n",
       "      <th>ML_test_mcc</th>\n",
       "    </tr>\n",
       "  </thead>\n",
       "  <tbody>\n",
       "    <tr>\n",
       "      <th>0</th>\n",
       "      <td>LinearDiscriminantAnalysis</td>\n",
       "      <td>{'n_components': None, 'priors': None, 'shrink...</td>\n",
       "      <td>0.121106</td>\n",
       "      <td>0.856821</td>\n",
       "      <td>0.860128</td>\n",
       "      <td>0.994927</td>\n",
       "      <td>0.0686205</td>\n",
       "      <td>0.85642</td>\n",
       "      <td>0.859987</td>\n",
       "      <td>0.994597</td>\n",
       "      <td>0.0635274</td>\n",
       "    </tr>\n",
       "  </tbody>\n",
       "</table>\n",
       "</div>"
      ],
      "text/plain": [
       "                       ML_alg  \\\n",
       "0  LinearDiscriminantAnalysis   \n",
       "\n",
       "                                           ML_params ML_runtime  \\\n",
       "0  {'n_components': None, 'priors': None, 'shrink...   0.121106   \n",
       "\n",
       "  ML_train_accuracy ML_train_precision ML_train_recall ML_train_mcc  \\\n",
       "0          0.856821           0.860128        0.994927    0.0686205   \n",
       "\n",
       "  ML_test_accuracy ML_test_precision ML_test_recall ML_test_mcc  \n",
       "0          0.85642          0.859987       0.994597   0.0635274  "
      ]
     },
     "execution_count": 36,
     "metadata": {},
     "output_type": "execute_result"
    }
   ],
   "source": [
    "#as expected, we can't improve the algorithm without the penalty applied parameter in our parameter.\n",
    "#let's not include it for our future usage.\n",
    "current_model = [discriminant_analysis.LinearDiscriminantAnalysis(solver=\"lsqr\")]\n",
    "current_table,pred = baseline_ml(current_model,features,target,scoring,df)\n",
    "current_table\n",
    "#pred.shape"
   ]
  },
  {
   "cell_type": "code",
   "execution_count": 37,
   "metadata": {},
   "outputs": [
    {
     "data": {
      "text/html": [
       "<div>\n",
       "<style scoped>\n",
       "    .dataframe tbody tr th:only-of-type {\n",
       "        vertical-align: middle;\n",
       "    }\n",
       "\n",
       "    .dataframe tbody tr th {\n",
       "        vertical-align: top;\n",
       "    }\n",
       "\n",
       "    .dataframe thead th {\n",
       "        text-align: right;\n",
       "    }\n",
       "</style>\n",
       "<table border=\"1\" class=\"dataframe\">\n",
       "  <thead>\n",
       "    <tr style=\"text-align: right;\">\n",
       "      <th></th>\n",
       "      <th>ML_alg</th>\n",
       "      <th>ML_params</th>\n",
       "      <th>ML_runtime</th>\n",
       "      <th>ML_train_accuracy</th>\n",
       "      <th>ML_train_precision</th>\n",
       "      <th>ML_train_recall</th>\n",
       "      <th>ML_train_mcc</th>\n",
       "      <th>ML_test_accuracy</th>\n",
       "      <th>ML_test_precision</th>\n",
       "      <th>ML_test_recall</th>\n",
       "      <th>ML_test_mcc</th>\n",
       "    </tr>\n",
       "  </thead>\n",
       "  <tbody>\n",
       "    <tr>\n",
       "      <th>0</th>\n",
       "      <td>XGBClassifier</td>\n",
       "      <td>{'base_score': 0.5, 'booster': 'gbtree', 'cols...</td>\n",
       "      <td>4.33653</td>\n",
       "      <td>0.667253</td>\n",
       "      <td>0.925267</td>\n",
       "      <td>0.665998</td>\n",
       "      <td>0.244779</td>\n",
       "      <td>0.653701</td>\n",
       "      <td>0.914324</td>\n",
       "      <td>0.658114</td>\n",
       "      <td>0.204821</td>\n",
       "    </tr>\n",
       "    <tr>\n",
       "      <th>1</th>\n",
       "      <td>AdaBoostClassifier</td>\n",
       "      <td>{'algorithm': 'SAMME.R', 'base_estimator__clas...</td>\n",
       "      <td>31.4052</td>\n",
       "      <td>0.688487</td>\n",
       "      <td>0.941036</td>\n",
       "      <td>0.679531</td>\n",
       "      <td>0.303481</td>\n",
       "      <td>0.654091</td>\n",
       "      <td>0.909004</td>\n",
       "      <td>0.66327</td>\n",
       "      <td>0.188922</td>\n",
       "    </tr>\n",
       "    <tr>\n",
       "      <th>2</th>\n",
       "      <td>BaggingClassifier</td>\n",
       "      <td>{'base_estimator__class_weight': 'balanced', '...</td>\n",
       "      <td>0.67463</td>\n",
       "      <td>0.632491</td>\n",
       "      <td>0.91675</td>\n",
       "      <td>0.628808</td>\n",
       "      <td>0.20114</td>\n",
       "      <td>0.629708</td>\n",
       "      <td>0.914839</td>\n",
       "      <td>0.626852</td>\n",
       "      <td>0.194195</td>\n",
       "    </tr>\n",
       "    <tr>\n",
       "      <th>3</th>\n",
       "      <td>ExtraTreeClassifier</td>\n",
       "      <td>{'class_weight': {0: 7, 1: 1}, 'criterion': 'g...</td>\n",
       "      <td>0.0193141</td>\n",
       "      <td>0.572264</td>\n",
       "      <td>0.909137</td>\n",
       "      <td>0.559387</td>\n",
       "      <td>0.15116</td>\n",
       "      <td>0.566671</td>\n",
       "      <td>0.905547</td>\n",
       "      <td>0.554625</td>\n",
       "      <td>0.139874</td>\n",
       "    </tr>\n",
       "    <tr>\n",
       "      <th>4</th>\n",
       "      <td>GradientBoostingClassifier</td>\n",
       "      <td>{'criterion': 'friedman_mse', 'init': None, 'l...</td>\n",
       "      <td>2.20232</td>\n",
       "      <td>0.879105</td>\n",
       "      <td>0.877242</td>\n",
       "      <td>0.998886</td>\n",
       "      <td>0.358608</td>\n",
       "      <td>0.85596</td>\n",
       "      <td>0.861963</td>\n",
       "      <td>0.990802</td>\n",
       "      <td>0.0939717</td>\n",
       "    </tr>\n",
       "    <tr>\n",
       "      <th>5</th>\n",
       "      <td>RandomForestClassifier</td>\n",
       "      <td>{'bootstrap': True, 'class_weight': 'balanced'...</td>\n",
       "      <td>0.975191</td>\n",
       "      <td>0.730897</td>\n",
       "      <td>0.934604</td>\n",
       "      <td>0.738022</td>\n",
       "      <td>0.317995</td>\n",
       "      <td>0.695392</td>\n",
       "      <td>0.906023</td>\n",
       "      <td>0.719694</td>\n",
       "      <td>0.20094</td>\n",
       "    </tr>\n",
       "  </tbody>\n",
       "</table>\n",
       "</div>"
      ],
      "text/plain": [
       "                       ML_alg  \\\n",
       "0               XGBClassifier   \n",
       "1          AdaBoostClassifier   \n",
       "2           BaggingClassifier   \n",
       "3         ExtraTreeClassifier   \n",
       "4  GradientBoostingClassifier   \n",
       "5      RandomForestClassifier   \n",
       "\n",
       "                                           ML_params ML_runtime  \\\n",
       "0  {'base_score': 0.5, 'booster': 'gbtree', 'cols...    4.33653   \n",
       "1  {'algorithm': 'SAMME.R', 'base_estimator__clas...    31.4052   \n",
       "2  {'base_estimator__class_weight': 'balanced', '...    0.67463   \n",
       "3  {'class_weight': {0: 7, 1: 1}, 'criterion': 'g...  0.0193141   \n",
       "4  {'criterion': 'friedman_mse', 'init': None, 'l...    2.20232   \n",
       "5  {'bootstrap': True, 'class_weight': 'balanced'...   0.975191   \n",
       "\n",
       "  ML_train_accuracy ML_train_precision ML_train_recall ML_train_mcc  \\\n",
       "0          0.667253           0.925267        0.665998     0.244779   \n",
       "1          0.688487           0.941036        0.679531     0.303481   \n",
       "2          0.632491            0.91675        0.628808      0.20114   \n",
       "3          0.572264           0.909137        0.559387      0.15116   \n",
       "4          0.879105           0.877242        0.998886     0.358608   \n",
       "5          0.730897           0.934604        0.738022     0.317995   \n",
       "\n",
       "  ML_test_accuracy ML_test_precision ML_test_recall ML_test_mcc  \n",
       "0         0.653701          0.914324       0.658114    0.204821  \n",
       "1         0.654091          0.909004        0.66327    0.188922  \n",
       "2         0.629708          0.914839       0.626852    0.194195  \n",
       "3         0.566671          0.905547       0.554625    0.139874  \n",
       "4          0.85596          0.861963       0.990802   0.0939717  \n",
       "5         0.695392          0.906023       0.719694     0.20094  "
      ]
     },
     "execution_count": 37,
     "metadata": {},
     "output_type": "execute_result"
    }
   ],
   "source": [
    "alg_set1 = list()\n",
    "for key,val in hyper_tuning.items():\n",
    "    alg_set1.append(val[0]) #the value itself is in a list too\n",
    "#alg_set1\n",
    "algset1_table, temp = baseline_ml(alg_set1,features,target,scoring,df)\n",
    "algset1_table"
   ]
  },
  {
   "cell_type": "code",
   "execution_count": 71,
   "metadata": {},
   "outputs": [
    {
     "name": "stdout",
     "output_type": "stream",
     "text": [
      "accuracy:  0.6610043529037053\n",
      "Precision:  0.9180751983442567\n",
      "Recall:  0.6619823405049123\n",
      "MCC:  0.23049886709570724\n"
     ]
    }
   ],
   "source": [
    "#Y_pred.tail()\n",
    "#let's do majority voting to benchmark our first round of algorithms\n",
    "#recall we already splitted the train/test dataset previously\n",
    "\n",
    "Y_pred[\"Vote1\"] = Y_pred.mode(axis=1)[0] #need the zero for unpacking\n",
    "Y_pred\n",
    "\n",
    "print(\"accuracy: \", accuracy_score(y_test,Y_pred[\"Vote1\"]))\n",
    "print(\"Precision: \", precision_score(y_test,Y_pred[\"Vote1\"]))\n",
    "print(\"Recall: \",recall_score(y_test,Y_pred[\"Vote1\"]))\n",
    "print(\"MCC: \",matthews_corrcoef(y_test,Y_pred[\"Vote1\"]))\n"
   ]
  },
  {
   "cell_type": "markdown",
   "metadata": {},
   "source": [
    "# Summary of the Part 1 of our algorithms"
   ]
  },
  {
   "cell_type": "markdown",
   "metadata": {},
   "source": [
    "As seen, accuracy are not what we wanted. If the bank would like to be a conservative investor, it is better to have a very high precision with some expenses of recall (missing out the some right calls for more higher probability of getting the predictions right. Our majority voting technique also helps get the better answer than any of the single models. Lastly, it is important to note that the MCC value maximizes the 4 quadrants of the confusion matrix, and maximize is probably the best way to do it, thus balancing both high precision with sufficient recall. Else we would be missing out of most of the investment opportunities with a high success rate."
   ]
  },
  {
   "cell_type": "markdown",
   "metadata": {},
   "source": [
    "# Algorithms focus #2"
   ]
  },
  {
   "cell_type": "code",
   "execution_count": 74,
   "metadata": {},
   "outputs": [
    {
     "data": {
      "text/plain": [
       "Index(['loan_amnt', 'int_rate', 'installment', 'emp_length', 'annual_inc',\n",
       "       'loan_status', 'dti', 'delinq_2yrs', 'inq_last_6mths', 'open_acc',\n",
       "       'pub_rec', 'revol_bal', 'revol_util', 'total_acc',\n",
       "       'home_ownership_MORTGAGE', 'home_ownership_NONE',\n",
       "       'home_ownership_OTHER', 'home_ownership_OWN', 'home_ownership_RENT',\n",
       "       'verification_status_Not Verified',\n",
       "       'verification_status_Source Verified', 'verification_status_Verified',\n",
       "       'purpose_car', 'purpose_credit_card', 'purpose_debt_consolidation',\n",
       "       'purpose_educational', 'purpose_home_improvement', 'purpose_house',\n",
       "       'purpose_major_purchase', 'purpose_medical', 'purpose_moving',\n",
       "       'purpose_other', 'purpose_renewable_energy', 'purpose_small_business',\n",
       "       'purpose_vacation', 'purpose_wedding', 'term_ 36 months',\n",
       "       'term_ 60 months'],\n",
       "      dtype='object')"
      ]
     },
     "execution_count": 74,
     "metadata": {},
     "output_type": "execute_result"
    }
   ],
   "source": [
    "df.columns"
   ]
  },
  {
   "cell_type": "code",
   "execution_count": 75,
   "metadata": {},
   "outputs": [
    {
     "data": {
      "text/html": [
       "<div>\n",
       "<style scoped>\n",
       "    .dataframe tbody tr th:only-of-type {\n",
       "        vertical-align: middle;\n",
       "    }\n",
       "\n",
       "    .dataframe tbody tr th {\n",
       "        vertical-align: top;\n",
       "    }\n",
       "\n",
       "    .dataframe thead th {\n",
       "        text-align: right;\n",
       "    }\n",
       "</style>\n",
       "<table border=\"1\" class=\"dataframe\">\n",
       "  <thead>\n",
       "    <tr style=\"text-align: right;\">\n",
       "      <th></th>\n",
       "      <th>loan_amnt</th>\n",
       "      <th>int_rate</th>\n",
       "      <th>installment</th>\n",
       "      <th>emp_length</th>\n",
       "      <th>annual_inc</th>\n",
       "      <th>loan_status</th>\n",
       "      <th>dti</th>\n",
       "      <th>delinq_2yrs</th>\n",
       "      <th>inq_last_6mths</th>\n",
       "      <th>open_acc</th>\n",
       "      <th>...</th>\n",
       "      <th>purpose_major_purchase</th>\n",
       "      <th>purpose_medical</th>\n",
       "      <th>purpose_moving</th>\n",
       "      <th>purpose_other</th>\n",
       "      <th>purpose_renewable_energy</th>\n",
       "      <th>purpose_small_business</th>\n",
       "      <th>purpose_vacation</th>\n",
       "      <th>purpose_wedding</th>\n",
       "      <th>term_ 36 months</th>\n",
       "      <th>term_ 60 months</th>\n",
       "    </tr>\n",
       "  </thead>\n",
       "  <tbody>\n",
       "    <tr>\n",
       "      <th>0</th>\n",
       "      <td>5000.0</td>\n",
       "      <td>10.65</td>\n",
       "      <td>162.87</td>\n",
       "      <td>10</td>\n",
       "      <td>24000.0</td>\n",
       "      <td>1</td>\n",
       "      <td>27.65</td>\n",
       "      <td>0.0</td>\n",
       "      <td>1.0</td>\n",
       "      <td>3.0</td>\n",
       "      <td>...</td>\n",
       "      <td>0</td>\n",
       "      <td>0</td>\n",
       "      <td>0</td>\n",
       "      <td>0</td>\n",
       "      <td>0</td>\n",
       "      <td>0</td>\n",
       "      <td>0</td>\n",
       "      <td>0</td>\n",
       "      <td>1</td>\n",
       "      <td>0</td>\n",
       "    </tr>\n",
       "    <tr>\n",
       "      <th>1</th>\n",
       "      <td>2500.0</td>\n",
       "      <td>15.27</td>\n",
       "      <td>59.83</td>\n",
       "      <td>0</td>\n",
       "      <td>30000.0</td>\n",
       "      <td>0</td>\n",
       "      <td>1.00</td>\n",
       "      <td>0.0</td>\n",
       "      <td>5.0</td>\n",
       "      <td>3.0</td>\n",
       "      <td>...</td>\n",
       "      <td>0</td>\n",
       "      <td>0</td>\n",
       "      <td>0</td>\n",
       "      <td>0</td>\n",
       "      <td>0</td>\n",
       "      <td>0</td>\n",
       "      <td>0</td>\n",
       "      <td>0</td>\n",
       "      <td>0</td>\n",
       "      <td>1</td>\n",
       "    </tr>\n",
       "    <tr>\n",
       "      <th>2</th>\n",
       "      <td>2400.0</td>\n",
       "      <td>15.96</td>\n",
       "      <td>84.33</td>\n",
       "      <td>10</td>\n",
       "      <td>12252.0</td>\n",
       "      <td>1</td>\n",
       "      <td>8.72</td>\n",
       "      <td>0.0</td>\n",
       "      <td>2.0</td>\n",
       "      <td>2.0</td>\n",
       "      <td>...</td>\n",
       "      <td>0</td>\n",
       "      <td>0</td>\n",
       "      <td>0</td>\n",
       "      <td>0</td>\n",
       "      <td>0</td>\n",
       "      <td>1</td>\n",
       "      <td>0</td>\n",
       "      <td>0</td>\n",
       "      <td>1</td>\n",
       "      <td>0</td>\n",
       "    </tr>\n",
       "    <tr>\n",
       "      <th>3</th>\n",
       "      <td>10000.0</td>\n",
       "      <td>13.49</td>\n",
       "      <td>339.31</td>\n",
       "      <td>10</td>\n",
       "      <td>49200.0</td>\n",
       "      <td>1</td>\n",
       "      <td>20.00</td>\n",
       "      <td>0.0</td>\n",
       "      <td>1.0</td>\n",
       "      <td>10.0</td>\n",
       "      <td>...</td>\n",
       "      <td>0</td>\n",
       "      <td>0</td>\n",
       "      <td>0</td>\n",
       "      <td>1</td>\n",
       "      <td>0</td>\n",
       "      <td>0</td>\n",
       "      <td>0</td>\n",
       "      <td>0</td>\n",
       "      <td>1</td>\n",
       "      <td>0</td>\n",
       "    </tr>\n",
       "    <tr>\n",
       "      <th>4</th>\n",
       "      <td>5000.0</td>\n",
       "      <td>7.90</td>\n",
       "      <td>156.46</td>\n",
       "      <td>3</td>\n",
       "      <td>36000.0</td>\n",
       "      <td>1</td>\n",
       "      <td>11.20</td>\n",
       "      <td>0.0</td>\n",
       "      <td>3.0</td>\n",
       "      <td>9.0</td>\n",
       "      <td>...</td>\n",
       "      <td>0</td>\n",
       "      <td>0</td>\n",
       "      <td>0</td>\n",
       "      <td>0</td>\n",
       "      <td>0</td>\n",
       "      <td>0</td>\n",
       "      <td>0</td>\n",
       "      <td>1</td>\n",
       "      <td>1</td>\n",
       "      <td>0</td>\n",
       "    </tr>\n",
       "  </tbody>\n",
       "</table>\n",
       "<p>5 rows × 38 columns</p>\n",
       "</div>"
      ],
      "text/plain": [
       "   loan_amnt  int_rate  installment  emp_length  annual_inc  loan_status  \\\n",
       "0     5000.0     10.65       162.87          10     24000.0            1   \n",
       "1     2500.0     15.27        59.83           0     30000.0            0   \n",
       "2     2400.0     15.96        84.33          10     12252.0            1   \n",
       "3    10000.0     13.49       339.31          10     49200.0            1   \n",
       "4     5000.0      7.90       156.46           3     36000.0            1   \n",
       "\n",
       "     dti  delinq_2yrs  inq_last_6mths  open_acc       ...         \\\n",
       "0  27.65          0.0             1.0       3.0       ...          \n",
       "1   1.00          0.0             5.0       3.0       ...          \n",
       "2   8.72          0.0             2.0       2.0       ...          \n",
       "3  20.00          0.0             1.0      10.0       ...          \n",
       "4  11.20          0.0             3.0       9.0       ...          \n",
       "\n",
       "   purpose_major_purchase  purpose_medical  purpose_moving  purpose_other  \\\n",
       "0                       0                0               0              0   \n",
       "1                       0                0               0              0   \n",
       "2                       0                0               0              0   \n",
       "3                       0                0               0              1   \n",
       "4                       0                0               0              0   \n",
       "\n",
       "   purpose_renewable_energy  purpose_small_business  purpose_vacation  \\\n",
       "0                         0                       0                 0   \n",
       "1                         0                       0                 0   \n",
       "2                         0                       1                 0   \n",
       "3                         0                       0                 0   \n",
       "4                         0                       0                 0   \n",
       "\n",
       "   purpose_wedding  term_ 36 months  term_ 60 months  \n",
       "0                0                1                0  \n",
       "1                0                0                1  \n",
       "2                0                1                0  \n",
       "3                0                1                0  \n",
       "4                1                1                0  \n",
       "\n",
       "[5 rows x 38 columns]"
      ]
     },
     "execution_count": 75,
     "metadata": {},
     "output_type": "execute_result"
    }
   ],
   "source": [
    "#we'll categorize the continous variables together first prior to standardize the continous data\n",
    "df.head()"
   ]
  },
  {
   "cell_type": "code",
   "execution_count": null,
   "metadata": {
    "collapsed": true
   },
   "outputs": [],
   "source": [
    "#we'll categorize the continous variables together first prior to standardize the continous data\n",
    "cont_df = df[\"loan_amnt\",\"int_rate\",\"installment\",\"emp_length\",\"annual_inc\",\"dti\",\"delinq_2yrs\",\"inq_last_6mths\",\n",
    "             \"open_acc\",\"revol_bal\",\"\"]"
   ]
  }
 ],
 "metadata": {
  "kernelspec": {
   "display_name": "Python 3",
   "language": "python",
   "name": "python3"
  },
  "language_info": {
   "codemirror_mode": {
    "name": "ipython",
    "version": 3
   },
   "file_extension": ".py",
   "mimetype": "text/x-python",
   "name": "python",
   "nbconvert_exporter": "python",
   "pygments_lexer": "ipython3",
   "version": "3.6.5"
  }
 },
 "nbformat": 4,
 "nbformat_minor": 2
}
