{
 "cells": [
  {
   "cell_type": "markdown",
   "metadata": {},
   "source": [
    "# Car Prediction"
   ]
  },
  {
   "cell_type": "markdown",
   "metadata": {},
   "source": [
    "Using k-nearest neighbors, we're trying to predict the pricing of the car based on well-known features"
   ]
  },
  {
   "cell_type": "code",
   "execution_count": 94,
   "metadata": {},
   "outputs": [
    {
     "data": {
      "text/html": [
       "<div>\n",
       "<style scoped>\n",
       "    .dataframe tbody tr th:only-of-type {\n",
       "        vertical-align: middle;\n",
       "    }\n",
       "\n",
       "    .dataframe tbody tr th {\n",
       "        vertical-align: top;\n",
       "    }\n",
       "\n",
       "    .dataframe thead th {\n",
       "        text-align: right;\n",
       "    }\n",
       "</style>\n",
       "<table border=\"1\" class=\"dataframe\">\n",
       "  <thead>\n",
       "    <tr style=\"text-align: right;\">\n",
       "      <th></th>\n",
       "      <th>symboling</th>\n",
       "      <th>normalized-losses</th>\n",
       "      <th>make</th>\n",
       "      <th>fuel-type</th>\n",
       "      <th>aspiration</th>\n",
       "      <th>num-of-doors</th>\n",
       "      <th>body-style</th>\n",
       "      <th>drive-wheels</th>\n",
       "      <th>engine-location</th>\n",
       "      <th>wheel-base</th>\n",
       "      <th>...</th>\n",
       "      <th>engine-size</th>\n",
       "      <th>fuel-system</th>\n",
       "      <th>bore</th>\n",
       "      <th>stroke</th>\n",
       "      <th>compression-rate</th>\n",
       "      <th>horsepower</th>\n",
       "      <th>peak-rpm</th>\n",
       "      <th>city-mpg</th>\n",
       "      <th>highway-mpg</th>\n",
       "      <th>price</th>\n",
       "    </tr>\n",
       "  </thead>\n",
       "  <tbody>\n",
       "    <tr>\n",
       "      <th>0</th>\n",
       "      <td>3</td>\n",
       "      <td>?</td>\n",
       "      <td>alfa-romero</td>\n",
       "      <td>gas</td>\n",
       "      <td>std</td>\n",
       "      <td>two</td>\n",
       "      <td>convertible</td>\n",
       "      <td>rwd</td>\n",
       "      <td>front</td>\n",
       "      <td>88.6</td>\n",
       "      <td>...</td>\n",
       "      <td>130</td>\n",
       "      <td>mpfi</td>\n",
       "      <td>3.47</td>\n",
       "      <td>2.68</td>\n",
       "      <td>9.0</td>\n",
       "      <td>111</td>\n",
       "      <td>5000</td>\n",
       "      <td>21</td>\n",
       "      <td>27</td>\n",
       "      <td>13495</td>\n",
       "    </tr>\n",
       "    <tr>\n",
       "      <th>1</th>\n",
       "      <td>3</td>\n",
       "      <td>?</td>\n",
       "      <td>alfa-romero</td>\n",
       "      <td>gas</td>\n",
       "      <td>std</td>\n",
       "      <td>two</td>\n",
       "      <td>convertible</td>\n",
       "      <td>rwd</td>\n",
       "      <td>front</td>\n",
       "      <td>88.6</td>\n",
       "      <td>...</td>\n",
       "      <td>130</td>\n",
       "      <td>mpfi</td>\n",
       "      <td>3.47</td>\n",
       "      <td>2.68</td>\n",
       "      <td>9.0</td>\n",
       "      <td>111</td>\n",
       "      <td>5000</td>\n",
       "      <td>21</td>\n",
       "      <td>27</td>\n",
       "      <td>16500</td>\n",
       "    </tr>\n",
       "    <tr>\n",
       "      <th>2</th>\n",
       "      <td>1</td>\n",
       "      <td>?</td>\n",
       "      <td>alfa-romero</td>\n",
       "      <td>gas</td>\n",
       "      <td>std</td>\n",
       "      <td>two</td>\n",
       "      <td>hatchback</td>\n",
       "      <td>rwd</td>\n",
       "      <td>front</td>\n",
       "      <td>94.5</td>\n",
       "      <td>...</td>\n",
       "      <td>152</td>\n",
       "      <td>mpfi</td>\n",
       "      <td>2.68</td>\n",
       "      <td>3.47</td>\n",
       "      <td>9.0</td>\n",
       "      <td>154</td>\n",
       "      <td>5000</td>\n",
       "      <td>19</td>\n",
       "      <td>26</td>\n",
       "      <td>16500</td>\n",
       "    </tr>\n",
       "    <tr>\n",
       "      <th>3</th>\n",
       "      <td>2</td>\n",
       "      <td>164</td>\n",
       "      <td>audi</td>\n",
       "      <td>gas</td>\n",
       "      <td>std</td>\n",
       "      <td>four</td>\n",
       "      <td>sedan</td>\n",
       "      <td>fwd</td>\n",
       "      <td>front</td>\n",
       "      <td>99.8</td>\n",
       "      <td>...</td>\n",
       "      <td>109</td>\n",
       "      <td>mpfi</td>\n",
       "      <td>3.19</td>\n",
       "      <td>3.40</td>\n",
       "      <td>10.0</td>\n",
       "      <td>102</td>\n",
       "      <td>5500</td>\n",
       "      <td>24</td>\n",
       "      <td>30</td>\n",
       "      <td>13950</td>\n",
       "    </tr>\n",
       "    <tr>\n",
       "      <th>4</th>\n",
       "      <td>2</td>\n",
       "      <td>164</td>\n",
       "      <td>audi</td>\n",
       "      <td>gas</td>\n",
       "      <td>std</td>\n",
       "      <td>four</td>\n",
       "      <td>sedan</td>\n",
       "      <td>4wd</td>\n",
       "      <td>front</td>\n",
       "      <td>99.4</td>\n",
       "      <td>...</td>\n",
       "      <td>136</td>\n",
       "      <td>mpfi</td>\n",
       "      <td>3.19</td>\n",
       "      <td>3.40</td>\n",
       "      <td>8.0</td>\n",
       "      <td>115</td>\n",
       "      <td>5500</td>\n",
       "      <td>18</td>\n",
       "      <td>22</td>\n",
       "      <td>17450</td>\n",
       "    </tr>\n",
       "  </tbody>\n",
       "</table>\n",
       "<p>5 rows × 26 columns</p>\n",
       "</div>"
      ],
      "text/plain": [
       "   symboling normalized-losses         make fuel-type aspiration num-of-doors  \\\n",
       "0          3                 ?  alfa-romero       gas        std          two   \n",
       "1          3                 ?  alfa-romero       gas        std          two   \n",
       "2          1                 ?  alfa-romero       gas        std          two   \n",
       "3          2               164         audi       gas        std         four   \n",
       "4          2               164         audi       gas        std         four   \n",
       "\n",
       "    body-style drive-wheels engine-location  wheel-base  ...    engine-size  \\\n",
       "0  convertible          rwd           front        88.6  ...            130   \n",
       "1  convertible          rwd           front        88.6  ...            130   \n",
       "2    hatchback          rwd           front        94.5  ...            152   \n",
       "3        sedan          fwd           front        99.8  ...            109   \n",
       "4        sedan          4wd           front        99.4  ...            136   \n",
       "\n",
       "   fuel-system  bore  stroke compression-rate horsepower  peak-rpm city-mpg  \\\n",
       "0         mpfi  3.47    2.68              9.0        111      5000       21   \n",
       "1         mpfi  3.47    2.68              9.0        111      5000       21   \n",
       "2         mpfi  2.68    3.47              9.0        154      5000       19   \n",
       "3         mpfi  3.19    3.40             10.0        102      5500       24   \n",
       "4         mpfi  3.19    3.40              8.0        115      5500       18   \n",
       "\n",
       "  highway-mpg  price  \n",
       "0          27  13495  \n",
       "1          27  16500  \n",
       "2          26  16500  \n",
       "3          30  13950  \n",
       "4          22  17450  \n",
       "\n",
       "[5 rows x 26 columns]"
      ]
     },
     "execution_count": 94,
     "metadata": {},
     "output_type": "execute_result"
    }
   ],
   "source": [
    "import pandas as pd\n",
    "import numpy as np\n",
    "import matplotlib.pyplot as plt\n",
    "from sklearn.neighbors import KNeighborsRegressor\n",
    "from sklearn.metrics import mean_squared_error\n",
    "from sklearn.model_selection import cross_val_score, KFold\n",
    "\n",
    "%matplotlib inline\n",
    "\n",
    "#print(cars.columns)\n",
    "#cars.dtypes\n",
    "cols = ['symboling', 'normalized-losses', 'make', 'fuel-type', 'aspiration', 'num-of-doors', 'body-style', \n",
    "        'drive-wheels', 'engine-location', 'wheel-base', 'length', 'width', 'height', 'curb-weight', 'engine-type', \n",
    "        'num-of-cylinders', 'engine-size', 'fuel-system', 'bore', 'stroke', 'compression-rate', 'horsepower', 'peak-rpm', 'city-mpg', 'highway-mpg', 'price']\n",
    "cars = pd.read_csv(\"imports-85.data\",names=cols)\n",
    "cars.head()"
   ]
  },
  {
   "cell_type": "code",
   "execution_count": 95,
   "metadata": {},
   "outputs": [
    {
     "data": {
      "text/html": [
       "<div>\n",
       "<style scoped>\n",
       "    .dataframe tbody tr th:only-of-type {\n",
       "        vertical-align: middle;\n",
       "    }\n",
       "\n",
       "    .dataframe tbody tr th {\n",
       "        vertical-align: top;\n",
       "    }\n",
       "\n",
       "    .dataframe thead th {\n",
       "        text-align: right;\n",
       "    }\n",
       "</style>\n",
       "<table border=\"1\" class=\"dataframe\">\n",
       "  <thead>\n",
       "    <tr style=\"text-align: right;\">\n",
       "      <th></th>\n",
       "      <th>normalized-losses</th>\n",
       "      <th>wheel-base</th>\n",
       "      <th>length</th>\n",
       "      <th>width</th>\n",
       "      <th>height</th>\n",
       "      <th>curb-weight</th>\n",
       "      <th>bore</th>\n",
       "      <th>stroke</th>\n",
       "      <th>compression-rate</th>\n",
       "      <th>horsepower</th>\n",
       "      <th>peak-rpm</th>\n",
       "      <th>city-mpg</th>\n",
       "      <th>highway-mpg</th>\n",
       "      <th>price</th>\n",
       "    </tr>\n",
       "  </thead>\n",
       "  <tbody>\n",
       "    <tr>\n",
       "      <th>0</th>\n",
       "      <td>NaN</td>\n",
       "      <td>88.6</td>\n",
       "      <td>168.8</td>\n",
       "      <td>64.1</td>\n",
       "      <td>48.8</td>\n",
       "      <td>2548</td>\n",
       "      <td>3.47</td>\n",
       "      <td>2.68</td>\n",
       "      <td>9.0</td>\n",
       "      <td>111</td>\n",
       "      <td>5000</td>\n",
       "      <td>21</td>\n",
       "      <td>27</td>\n",
       "      <td>13495</td>\n",
       "    </tr>\n",
       "    <tr>\n",
       "      <th>1</th>\n",
       "      <td>NaN</td>\n",
       "      <td>88.6</td>\n",
       "      <td>168.8</td>\n",
       "      <td>64.1</td>\n",
       "      <td>48.8</td>\n",
       "      <td>2548</td>\n",
       "      <td>3.47</td>\n",
       "      <td>2.68</td>\n",
       "      <td>9.0</td>\n",
       "      <td>111</td>\n",
       "      <td>5000</td>\n",
       "      <td>21</td>\n",
       "      <td>27</td>\n",
       "      <td>16500</td>\n",
       "    </tr>\n",
       "    <tr>\n",
       "      <th>2</th>\n",
       "      <td>NaN</td>\n",
       "      <td>94.5</td>\n",
       "      <td>171.2</td>\n",
       "      <td>65.5</td>\n",
       "      <td>52.4</td>\n",
       "      <td>2823</td>\n",
       "      <td>2.68</td>\n",
       "      <td>3.47</td>\n",
       "      <td>9.0</td>\n",
       "      <td>154</td>\n",
       "      <td>5000</td>\n",
       "      <td>19</td>\n",
       "      <td>26</td>\n",
       "      <td>16500</td>\n",
       "    </tr>\n",
       "    <tr>\n",
       "      <th>3</th>\n",
       "      <td>164</td>\n",
       "      <td>99.8</td>\n",
       "      <td>176.6</td>\n",
       "      <td>66.2</td>\n",
       "      <td>54.3</td>\n",
       "      <td>2337</td>\n",
       "      <td>3.19</td>\n",
       "      <td>3.40</td>\n",
       "      <td>10.0</td>\n",
       "      <td>102</td>\n",
       "      <td>5500</td>\n",
       "      <td>24</td>\n",
       "      <td>30</td>\n",
       "      <td>13950</td>\n",
       "    </tr>\n",
       "    <tr>\n",
       "      <th>4</th>\n",
       "      <td>164</td>\n",
       "      <td>99.4</td>\n",
       "      <td>176.6</td>\n",
       "      <td>66.4</td>\n",
       "      <td>54.3</td>\n",
       "      <td>2824</td>\n",
       "      <td>3.19</td>\n",
       "      <td>3.40</td>\n",
       "      <td>8.0</td>\n",
       "      <td>115</td>\n",
       "      <td>5500</td>\n",
       "      <td>18</td>\n",
       "      <td>22</td>\n",
       "      <td>17450</td>\n",
       "    </tr>\n",
       "  </tbody>\n",
       "</table>\n",
       "</div>"
      ],
      "text/plain": [
       "  normalized-losses  wheel-base  length  width  height  curb-weight  bore  \\\n",
       "0               NaN        88.6   168.8   64.1    48.8         2548  3.47   \n",
       "1               NaN        88.6   168.8   64.1    48.8         2548  3.47   \n",
       "2               NaN        94.5   171.2   65.5    52.4         2823  2.68   \n",
       "3               164        99.8   176.6   66.2    54.3         2337  3.19   \n",
       "4               164        99.4   176.6   66.4    54.3         2824  3.19   \n",
       "\n",
       "  stroke  compression-rate horsepower peak-rpm  city-mpg  highway-mpg  price  \n",
       "0   2.68               9.0        111     5000        21           27  13495  \n",
       "1   2.68               9.0        111     5000        21           27  16500  \n",
       "2   3.47               9.0        154     5000        19           26  16500  \n",
       "3   3.40              10.0        102     5500        24           30  13950  \n",
       "4   3.40               8.0        115     5500        18           22  17450  "
      ]
     },
     "execution_count": 95,
     "metadata": {},
     "output_type": "execute_result"
    }
   ],
   "source": [
    "#replacing \"?\" data into numeric for training\n",
    "#Changing datatypes for numeric values/continuous values\n",
    "#https://archive.ics.uci.edu/ml/machine-learning-databases/autos/imports-85.names\n",
    "#only selecting values for Linear Regression\n",
    "\n",
    "cols = ['normalized-losses', 'wheel-base', 'length', 'width', 'height', 'curb-weight', 'bore', 'stroke', 'compression-rate', 'horsepower', 'peak-rpm', 'city-mpg', 'highway-mpg', 'price']\n",
    "new_cars = cars[cols]\n",
    "new_cars = new_cars.replace(\"?\",np.nan)\n",
    "new_cars.head()"
   ]
  },
  {
   "cell_type": "code",
   "execution_count": 96,
   "metadata": {},
   "outputs": [
    {
     "data": {
      "text/plain": [
       "0"
      ]
     },
     "execution_count": 96,
     "metadata": {},
     "output_type": "execute_result"
    }
   ],
   "source": [
    "#we're replacing all the missing data with average values\n",
    "new_cars = new_cars.astype(float) #we already filtered out numeric columns\n",
    "avg_norm_losses = new_cars['normalized-losses'].mean()\n",
    "#avg_norm_losses\n",
    "new_cars['normalized-losses'].replace(np.nan, avg_norm_losses,inplace=True)\n",
    "new_cars.head()\n",
    "new_cars['normalized-losses'].isnull().sum()"
   ]
  },
  {
   "cell_type": "code",
   "execution_count": 97,
   "metadata": {},
   "outputs": [
    {
     "data": {
      "text/plain": [
       "normalized-losses    0\n",
       "wheel-base           0\n",
       "length               0\n",
       "width                0\n",
       "height               0\n",
       "curb-weight          0\n",
       "bore                 0\n",
       "stroke               0\n",
       "compression-rate     0\n",
       "horsepower           0\n",
       "peak-rpm             0\n",
       "city-mpg             0\n",
       "highway-mpg          0\n",
       "price                0\n",
       "dtype: int64"
      ]
     },
     "execution_count": 97,
     "metadata": {},
     "output_type": "execute_result"
    }
   ],
   "source": [
    "#follow the same logic for other columns\n",
    "cols = new_cars.columns.tolist()\n",
    "for col in cols:\n",
    "    if new_cars[col].isnull().sum()  > 0:\n",
    "        avg = new_cars[col].mean()\n",
    "        new_cars[col].replace(np.nan,avg,inplace=True)\n",
    "new_cars.isnull().sum() #woot!"
   ]
  },
  {
   "cell_type": "code",
   "execution_count": 98,
   "metadata": {},
   "outputs": [
    {
     "data": {
      "text/html": [
       "<div>\n",
       "<style scoped>\n",
       "    .dataframe tbody tr th:only-of-type {\n",
       "        vertical-align: middle;\n",
       "    }\n",
       "\n",
       "    .dataframe tbody tr th {\n",
       "        vertical-align: top;\n",
       "    }\n",
       "\n",
       "    .dataframe thead th {\n",
       "        text-align: right;\n",
       "    }\n",
       "</style>\n",
       "<table border=\"1\" class=\"dataframe\">\n",
       "  <thead>\n",
       "    <tr style=\"text-align: right;\">\n",
       "      <th></th>\n",
       "      <th>normalized-losses</th>\n",
       "      <th>wheel-base</th>\n",
       "      <th>length</th>\n",
       "      <th>width</th>\n",
       "      <th>height</th>\n",
       "      <th>curb-weight</th>\n",
       "      <th>bore</th>\n",
       "      <th>stroke</th>\n",
       "      <th>compression-rate</th>\n",
       "      <th>horsepower</th>\n",
       "      <th>peak-rpm</th>\n",
       "      <th>city-mpg</th>\n",
       "      <th>highway-mpg</th>\n",
       "      <th>price</th>\n",
       "    </tr>\n",
       "  </thead>\n",
       "  <tbody>\n",
       "    <tr>\n",
       "      <th>0</th>\n",
       "      <td>0.000000</td>\n",
       "      <td>-0.296110</td>\n",
       "      <td>-0.078347</td>\n",
       "      <td>-0.150650</td>\n",
       "      <td>-0.410407</td>\n",
       "      <td>-0.002935</td>\n",
       "      <td>0.100178</td>\n",
       "      <td>-0.274011</td>\n",
       "      <td>-0.071409</td>\n",
       "      <td>0.028099</td>\n",
       "      <td>-0.051171</td>\n",
       "      <td>-0.117209</td>\n",
       "      <td>-0.098716</td>\n",
       "      <td>13495.0</td>\n",
       "    </tr>\n",
       "    <tr>\n",
       "      <th>1</th>\n",
       "      <td>0.000000</td>\n",
       "      <td>-0.296110</td>\n",
       "      <td>-0.078347</td>\n",
       "      <td>-0.150650</td>\n",
       "      <td>-0.410407</td>\n",
       "      <td>-0.002935</td>\n",
       "      <td>0.100178</td>\n",
       "      <td>-0.274011</td>\n",
       "      <td>-0.071409</td>\n",
       "      <td>0.028099</td>\n",
       "      <td>-0.051171</td>\n",
       "      <td>-0.117209</td>\n",
       "      <td>-0.098716</td>\n",
       "      <td>16500.0</td>\n",
       "    </tr>\n",
       "    <tr>\n",
       "      <th>2</th>\n",
       "      <td>0.000000</td>\n",
       "      <td>-0.124099</td>\n",
       "      <td>-0.042526</td>\n",
       "      <td>-0.033984</td>\n",
       "      <td>-0.110407</td>\n",
       "      <td>0.103737</td>\n",
       "      <td>-0.464108</td>\n",
       "      <td>0.102180</td>\n",
       "      <td>-0.071409</td>\n",
       "      <td>0.207266</td>\n",
       "      <td>-0.051171</td>\n",
       "      <td>-0.172764</td>\n",
       "      <td>-0.125032</td>\n",
       "      <td>16500.0</td>\n",
       "    </tr>\n",
       "    <tr>\n",
       "      <th>3</th>\n",
       "      <td>0.219895</td>\n",
       "      <td>0.030420</td>\n",
       "      <td>0.038071</td>\n",
       "      <td>0.024350</td>\n",
       "      <td>0.047927</td>\n",
       "      <td>-0.084781</td>\n",
       "      <td>-0.099822</td>\n",
       "      <td>0.068846</td>\n",
       "      <td>-0.008909</td>\n",
       "      <td>-0.009401</td>\n",
       "      <td>0.152910</td>\n",
       "      <td>-0.033875</td>\n",
       "      <td>-0.019769</td>\n",
       "      <td>13950.0</td>\n",
       "    </tr>\n",
       "    <tr>\n",
       "      <th>4</th>\n",
       "      <td>0.219895</td>\n",
       "      <td>0.018758</td>\n",
       "      <td>0.038071</td>\n",
       "      <td>0.041016</td>\n",
       "      <td>0.047927</td>\n",
       "      <td>0.104125</td>\n",
       "      <td>-0.099822</td>\n",
       "      <td>0.068846</td>\n",
       "      <td>-0.133909</td>\n",
       "      <td>0.044766</td>\n",
       "      <td>0.152910</td>\n",
       "      <td>-0.200542</td>\n",
       "      <td>-0.230295</td>\n",
       "      <td>17450.0</td>\n",
       "    </tr>\n",
       "  </tbody>\n",
       "</table>\n",
       "</div>"
      ],
      "text/plain": [
       "   normalized-losses  wheel-base    length     width    height  curb-weight  \\\n",
       "0           0.000000   -0.296110 -0.078347 -0.150650 -0.410407    -0.002935   \n",
       "1           0.000000   -0.296110 -0.078347 -0.150650 -0.410407    -0.002935   \n",
       "2           0.000000   -0.124099 -0.042526 -0.033984 -0.110407     0.103737   \n",
       "3           0.219895    0.030420  0.038071  0.024350  0.047927    -0.084781   \n",
       "4           0.219895    0.018758  0.038071  0.041016  0.047927     0.104125   \n",
       "\n",
       "       bore    stroke  compression-rate  horsepower  peak-rpm  city-mpg  \\\n",
       "0  0.100178 -0.274011         -0.071409    0.028099 -0.051171 -0.117209   \n",
       "1  0.100178 -0.274011         -0.071409    0.028099 -0.051171 -0.117209   \n",
       "2 -0.464108  0.102180         -0.071409    0.207266 -0.051171 -0.172764   \n",
       "3 -0.099822  0.068846         -0.008909   -0.009401  0.152910 -0.033875   \n",
       "4 -0.099822  0.068846         -0.133909    0.044766  0.152910 -0.200542   \n",
       "\n",
       "   highway-mpg    price  \n",
       "0    -0.098716  13495.0  \n",
       "1    -0.098716  16500.0  \n",
       "2    -0.125032  16500.0  \n",
       "3    -0.019769  13950.0  \n",
       "4    -0.230295  17450.0  "
      ]
     },
     "execution_count": 98,
     "metadata": {},
     "output_type": "execute_result"
    }
   ],
   "source": [
    "#normalize all columns but the price column (min-max normalization)\n",
    "cols = new_cars.columns.tolist()\n",
    "cols.remove(\"price\")\n",
    "cols\n",
    "\n",
    "for col in cols:\n",
    "    max_ = new_cars[col].max()\n",
    "    min_ = new_cars[col].min()\n",
    "    mean_ = new_cars[col].mean()\n",
    "    new_cars[col] = (new_cars[col] - mean_)/(max_ - min_)\n",
    "new_cars.head()"
   ]
  },
  {
   "cell_type": "code",
   "execution_count": 99,
   "metadata": {},
   "outputs": [
    {
     "data": {
      "text/plain": [
       "2353.381880478646"
      ]
     },
     "execution_count": 99,
     "metadata": {},
     "output_type": "execute_result"
    }
   ],
   "source": [
    "def knn_train_test(k_num,train_col,target_col,df):\n",
    "    seed = np.random.seed(1)\n",
    "    shuffle = np.random.permutation(df.index)\n",
    "    df_new = df.reindex(shuffle)\n",
    "    divider = int(len(df)*0.75)\n",
    "    \n",
    "    train_set = df.iloc[0:divider]\n",
    "    test_set = df.iloc[divider:]\n",
    "    \n",
    "    knn = KNeighborsRegressor(n_neighbors=k_num,algorithm='auto')\n",
    "    knn.fit(train_set[train_col],train_set[target_col])\n",
    "    hypothesis = knn.predict(test_set[train_col])\n",
    "    mse = mean_squared_error(test_set[target_col],hypothesis)\n",
    "    return mse**0.5 #rmse\n",
    "\n",
    "knn = knn_train_test(10,['horsepower','highway-mpg'],['price'],new_cars)\n",
    "knn"
   ]
  },
  {
   "cell_type": "code",
   "execution_count": 100,
   "metadata": {},
   "outputs": [
    {
     "data": {
      "text/plain": [
       "Text(0.5,0,'k-value')"
      ]
     },
     "execution_count": 100,
     "metadata": {},
     "output_type": "execute_result"
    },
    {
     "data": {
      "image/png": "[encoded data removed]",
      "text/plain": [
       "<matplotlib.figure.Figure at 0x1a1030b160>"
      ]
     },
     "metadata": {},
     "output_type": "display_data"
    }
   ],
   "source": [
    "#testing out different k-values, plotting the loss function against k\n",
    "rmse = list()\n",
    "for i in range(1,30):\n",
    "    result = knn_train_test(i,['horsepower','highway-mpg'],['price'],new_cars)\n",
    "    rmse.append(result)\n",
    "rmse\n",
    "plt.scatter(range(1,30),rmse)\n",
    "plt.ylabel(\"rmse\")\n",
    "plt.xlabel(\"k-value\")\n",
    "#seems like we have 2 good local min at 11 and 17"
   ]
  },
  {
   "cell_type": "markdown",
   "metadata": {},
   "source": [
    "It seems that we have a double minimum valleys here. In theory, 11 and 17 would be ok. Before that, we have underfitting. After that, we have overfitting."
   ]
  },
  {
   "cell_type": "code",
   "execution_count": 101,
   "metadata": {},
   "outputs": [
    {
     "data": {
      "text/plain": [
       "Text(0.5,0,'k-value')"
      ]
     },
     "execution_count": 101,
     "metadata": {},
     "output_type": "execute_result"
    },
    {
     "data": {
      "image/png": "[encoded data removed]",
      "text/plain": [
       "<matplotlib.figure.Figure at 0x1a108f3e80>"
      ]
     },
     "metadata": {},
     "output_type": "display_data"
    }
   ],
   "source": [
    "#more columns (all columns)\n",
    "rmse = list()\n",
    "for i in range(1,50):\n",
    "    result = knn_train_test(i,cols,['price'],new_cars)\n",
    "    rmse.append(result)\n",
    "rmse\n",
    "plt.scatter(range(1,50),rmse)\n",
    "plt.ylabel(\"rmse\")\n",
    "plt.xlabel(\"k-value\")\n",
    "#we look to be able to reach a min value of ~$1600 error with all parameters\n",
    "#Generally, more parameters = better but not neccessarily always. Obviously it's still better than previous model"
   ]
  },
  {
   "cell_type": "code",
   "execution_count": 102,
   "metadata": {},
   "outputs": [
    {
     "data": {
      "text/plain": [
       "3811.0457726512686"
      ]
     },
     "execution_count": 102,
     "metadata": {},
     "output_type": "execute_result"
    }
   ],
   "source": [
    "#prevent too much overfitting\n",
    "#modifying our train function to include cross validation\n",
    "#n_split for cv validation, k_num for # of k-clusters, train_col = features, target_col = results column,\n",
    "#df = dataframe\n",
    "def knn_train_test2(n_split,k_num,train_col,target_col,df):\n",
    "    seed = np.random.seed(1)\n",
    "    kf = KFold(n_splits=n_split,shuffle=True,random_state=1)\n",
    "    shuffle = np.random.permutation(df.index)\n",
    "    df_new = df.reindex(shuffle)\n",
    "    divider = int(len(df)*0.75)\n",
    "    \n",
    "    train_set = df.iloc[0:divider]\n",
    "    test_set = df.iloc[divider:]\n",
    "    \n",
    "    knn = KNeighborsRegressor(n_neighbors=k_num,algorithm='auto')\n",
    "    #knn.fit(train_set[train_col],train_set[target_col])\n",
    "    mses = cross_val_score(knn,df[train_col],df[target_col],\n",
    "\tscoring=\"neg_mean_squared_error\",cv=kf)\n",
    "    rmses = np.sqrt(np.absolute(mses))\n",
    "    rmse = np.mean(rmses)\n",
    "    #hypothesis = knn.predict(test_set[train_col])\n",
    "    #mse = mean_squared_error(test_set[target_col],hypothesis)\n",
    "    return  rmse\n",
    "\n",
    "knn = knn_train_test2(4,10,['horsepower','highway-mpg'],['price'],new_cars)\n",
    "knn\n"
   ]
  },
  {
   "cell_type": "code",
   "execution_count": 103,
   "metadata": {},
   "outputs": [
    {
     "data": {
      "image/png": "[encoded data removed]",
      "text/plain": [
       "<matplotlib.figure.Figure at 0x10666e1d0>"
      ]
     },
     "metadata": {},
     "output_type": "display_data"
    },
    {
     "name": "stdout",
     "output_type": "stream",
     "text": [
      "7868.7682123438\n"
     ]
    }
   ],
   "source": [
    "rmse = list() #normal\n",
    "rmse_2 = list() #with cross validation\n",
    "for i in range(1,50):\n",
    "    result = knn_train_test(i,cols,['price'],new_cars)\n",
    "    result2 = knn_train_test2(10,i,cols,['price'],new_cars)\n",
    "    rmse.append(result)\n",
    "    rmse_2.append(result2)\n",
    "rmse\n",
    "plt.close()\n",
    "plt.scatter(range(1,50),rmse,c='b') \n",
    "plt.scatter(range(1,50),rmse_2,c='r')\n",
    "plt.xlim(0,50)\n",
    "plt.legend([\"normal\",\"with CV\"],loc=\"upper right\")\n",
    "plt.ylabel(\"rmse\")\n",
    "plt.xlabel(\"k-value\")\n",
    "plt.show()\n",
    "print(new_cars[\"price\"].std())\n",
    "#is the divergence real? Error is still within 1 std of the price column. There is no local minum seen in the CV function.\n"
   ]
  },
  {
   "cell_type": "code",
   "execution_count": 104,
   "metadata": {},
   "outputs": [
    {
     "data": {
      "image/png": "[encoded data removed]",
      "text/plain": [
       "<matplotlib.figure.Figure at 0x1a0ff55748>"
      ]
     },
     "metadata": {},
     "output_type": "display_data"
    }
   ],
   "source": [
    "#we know that 2 parameters: ['horsepower','highway-mpg'] affects the price point, let's test out with the cv\n",
    "cols = ['horsepower','highway-mpg']\n",
    "rmse = list()\n",
    "rmse_2 = list()\n",
    "for i in range(1,30):\n",
    "    result = knn_train_test(i,cols,['price'],new_cars)\n",
    "    result2 = knn_train_test2(20,i,cols,['price'],new_cars)\n",
    "    rmse.append(result)\n",
    "    rmse_2.append(result2)\n",
    "    \n",
    "plt.scatter(range(1,30),rmse,c='b')\n",
    "plt.scatter(range(1,30),rmse_2,c='r')\n",
    "plt.legend([\"normal\",\"with CV\"],loc=\"upper right\")\n",
    "plt.ylabel(\"rmse\")\n",
    "plt.xlabel(\"k-value\")\n",
    "plt.show()\n",
    "#playing around with the cv splits does help a bit with the full divergence problem.\n"
   ]
  },
  {
   "cell_type": "code",
   "execution_count": 139,
   "metadata": {},
   "outputs": [
    {
     "data": {
      "image/png": "[encoded data removed]",
      "text/plain": [
       "<matplotlib.figure.Figure at 0x1a0fc0e748>"
      ]
     },
     "metadata": {},
     "output_type": "display_data"
    }
   ],
   "source": [
    "import seaborn as sns\n",
    "\n",
    "#Let's plot out the number of cross validation splits vs. k-value\n",
    "cols = new_cars.columns.tolist()\n",
    "cols.remove('price')\n",
    "def cv_matrix(n_split, k_num,cols,target,df):\n",
    "    result = dict() #key= k_num, val=(n_split,error)\n",
    "    for k in range(1,k_num):\n",
    "        for n in range(2,n_split):\n",
    "            rmse = knn_train_test2(n,k,cols,target,df)\n",
    "            if n not in result:\n",
    "                result[n] = [0]\n",
    "            else:\n",
    "                result[n].append(rmse)\n",
    "    return result\n",
    "\n",
    "knn_cv = cv_matrix(8,20,cols,['price'],new_cars)\n",
    "knn_cv        \n",
    "\n",
    "for key in knn_cv:\n",
    "    rmse_results = knn_cv[key]\n",
    "    #x is the size of the k values iterated above, y are the errors\n",
    "    sns.lineplot(x=range(1,len(rmse_results)),y=rmse_results[1:],legend=\"full\")\n",
    "    plt.xticks([i for i in range(len(rmse_results)+1)])\n",
    "plt.legend([i for i in range(2,11)])\n",
    "plt.xlabel(\"k-value\")\n",
    "plt.ylabel(\"rmse\")\n",
    "plt.title(\"Series of n_splits cv against k-values\")\n",
    "plt.show()"
   ]
  },
  {
   "cell_type": "markdown",
   "metadata": {},
   "source": [
    "Based on this, it seems that we are in the problem of feature engineering instead of matrix modeling building. Let's focus on picking some of the best parameters and assign the needed inputs from there. There's a major problem when there is no local minimum with the matrix"
   ]
  },
  {
   "cell_type": "code",
   "execution_count": null,
   "metadata": {
    "collapsed": true
   },
   "outputs": [],
   "source": []
  }
 ],
 "metadata": {
  "kernelspec": {
   "display_name": "Python 3",
   "language": "python",
   "name": "python3"
  },
  "language_info": {
   "codemirror_mode": {
    "name": "ipython",
    "version": 3
   },
   "file_extension": ".py",
   "mimetype": "text/x-python",
   "name": "python",
   "nbconvert_exporter": "python",
   "pygments_lexer": "ipython3",
   "version": "3.6.5"
  }
 },
 "nbformat": 4,
 "nbformat_minor": 2
}
