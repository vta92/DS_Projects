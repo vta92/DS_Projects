{
 "cells": [
  {
   "cell_type": "code",
   "execution_count": 2,
   "metadata": {},
   "outputs": [],
   "source": [
    "import tensorflow as tf\n",
    "import numpy as np"
   ]
  },
  {
   "cell_type": "code",
   "execution_count": 3,
   "metadata": {
    "collapsed": true
   },
   "outputs": [],
   "source": [
    "#setting both np and tf random seeds\n",
    "np.random.seed(101)\n",
    "tf.set_random_seed(101)"
   ]
  },
  {
   "cell_type": "code",
   "execution_count": 4,
   "metadata": {},
   "outputs": [
    {
     "data": {
      "text/plain": [
       "array([[51.63986277, 57.06675869,  2.84742265, 17.15216562, 68.52769817],\n",
       "       [83.38968626, 30.69662197, 89.36130797, 72.15438618, 18.99389542],\n",
       "       [55.42275911, 35.2131954 , 18.18924027, 78.56017619, 96.54832224],\n",
       "       [23.23536618,  8.35614337, 60.35484223, 72.89927573, 27.62388285],\n",
       "       [68.53063288, 51.78674742,  4.84845374, 13.78692376, 18.69674261]])"
      ]
     },
     "execution_count": 4,
     "metadata": {},
     "output_type": "execute_result"
    }
   ],
   "source": [
    "#creating random number between 0 to 100 with 5x5 matrix\n",
    "rand_a = np.random.uniform(low=0.0,high=100.0,size=(5,5))\n",
    "rand_a"
   ]
  },
  {
   "cell_type": "code",
   "execution_count": 5,
   "metadata": {},
   "outputs": [
    {
     "data": {
      "text/plain": [
       "array([[99.43179012],\n",
       "       [52.06653967],\n",
       "       [57.87895355],\n",
       "       [73.48190583],\n",
       "       [54.19617722]])"
      ]
     },
     "execution_count": 5,
     "metadata": {},
     "output_type": "execute_result"
    }
   ],
   "source": [
    "rand_b = np.random.uniform(low=0.0,high=100.0,size=(5,1)) #5x1 matrix\n",
    "rand_b"
   ]
  },
  {
   "cell_type": "code",
   "execution_count": 9,
   "metadata": {},
   "outputs": [
    {
     "name": "stdout",
     "output_type": "stream",
     "text": [
      "[[151.07166  156.49855  102.27921  116.58396  167.95949 ]\n",
      " [135.45622   82.76316  141.42784  124.22093   71.06043 ]\n",
      " [113.30171   93.09215   76.06819  136.43912  154.42728 ]\n",
      " [ 96.71727   81.83804  133.83675  146.38118  101.10579 ]\n",
      " [122.72681  105.982925  59.044632  67.9831    72.89292 ]]\n",
      "[[5134.644   5674.25     283.12433 1705.4707  6813.8315 ]\n",
      " [4341.8125  1598.267   4652.734   3756.8293   988.94635]\n",
      " [3207.8113  2038.1029  1052.7742  4546.9805  5588.1157 ]\n",
      " [1707.379    614.02527 4434.989   5356.7773  2029.8555 ]\n",
      " [3714.0984  2806.6438   262.76764  747.19855 1013.292  ]]\n"
     ]
    }
   ],
   "source": [
    "#creating placeholders for tf with float32 datatype\n",
    "a = tf.placeholder(tf.float32)\n",
    "b = tf.placeholder(tf.float32)\n",
    "\n",
    "add_op = a+b # or tf.add(a,b)\n",
    "mul_op = a*b # also tf.multiply(a,b)\n",
    "\n",
    "with tf.Session() as sess:\n",
    "    #recall the placeholders a,b needs input. Operation node is add_op\n",
    "    #how a 5x5 + 5x1 ? we just add each row of the 5x5 with the correspondent of the 5x1 row value.\n",
    "    #Result is 5x5 matrix\n",
    "    add_result = sess.run(add_op,feed_dict={a:rand_a,b:rand_b})\n",
    "    mul_result = sess.run(mul_op,feed_dict={a:rand_a,b:rand_b})\n",
    "    print(add_result)\n",
    "    print(mul_result)\n"
   ]
  },
  {
   "cell_type": "markdown",
   "metadata": {},
   "source": [
    "# Example of a Neural Network"
   ]
  },
  {
   "cell_type": "code",
   "execution_count": 11,
   "metadata": {},
   "outputs": [],
   "source": [
    "n_features = 10 #10 features\n",
    "n_dense_neurons = 3 #3 neurons in mid layer\n",
    "\n",
    "#we don't know what's the batch size for input, so None. 10 features\n",
    "x = tf.placeholder(tf.float32,(None,n_features))\n",
    "W = tf.Variable(tf.random_normal([n_features,n_dense_neurons])) #weight matrix by the number of neurons in middle layer\n",
    "b = tf.Variable(tf.ones([n_dense_neurons])) #biases, need to match up with the number of neurons, so we can add.\n",
    "\n",
    "xW = tf.matmul(x,W)\n",
    "z = tf.add(xW,b)\n",
    "#activation\n",
    "#a = tf.nn.relu(z)\n",
    "a = tf.sigmoid(z)"
   ]
  },
  {
   "cell_type": "code",
   "execution_count": 16,
   "metadata": {},
   "outputs": [
    {
     "name": "stdout",
     "output_type": "stream",
     "text": [
      "<tf.Variable 'Variable_1:0' shape=(3,) dtype=float32_ref>\n",
      "[[0.59156513 0.04860613 0.9331273 ]]\n"
     ]
    }
   ],
   "source": [
    "init = tf.global_variables_initializer() #init the global vars\n",
    "with tf.Session() as sess:\n",
    "    sess.run(init) #initialize global vars\n",
    "    #we just passed in 1 sample only, 1 data point with n_features\n",
    "    #notice how it needs to backtrack a to the placeholder of x, declared above\n",
    "    output = sess.run(a,feed_dict={x:np.random.random([1,n_features])})\n",
    "    print(b)\n",
    "print(output)"
   ]
  },
  {
   "cell_type": "code",
   "execution_count": 168,
   "metadata": {},
   "outputs": [
    {
     "data": {
      "text/plain": [
       "array([ 1.33216815,  0.6654139 ,  2.92292506,  4.57500191,  5.04740693,\n",
       "        5.22114937,  7.99344453,  8.48725177,  8.10428205, 10.97132118])"
      ]
     },
     "execution_count": 168,
     "metadata": {},
     "output_type": "execute_result"
    }
   ],
   "source": [
    "#we have only foward feeding our network, but let's create some sort of loss functions for training\n",
    "x_data=np.linspace(0,10,10) + np.random.uniform(-1.5,1.5,10)\n",
    "x_data"
   ]
  },
  {
   "cell_type": "code",
   "execution_count": 169,
   "metadata": {},
   "outputs": [
    {
     "data": {
      "text/plain": [
       "array([ 0.78184034,  0.79523833,  1.32278597,  3.97112275,  5.48037114,\n",
       "        5.16149518,  6.47760702,  7.34757077,  8.10810111, 10.46013442])"
      ]
     },
     "execution_count": 169,
     "metadata": {},
     "output_type": "execute_result"
    }
   ],
   "source": [
    "y_label = np.linspace(0,10,10) + np.random.uniform(-1.5,1.5,10)\n",
    "y_label"
   ]
  },
  {
   "cell_type": "code",
   "execution_count": 170,
   "metadata": {},
   "outputs": [
    {
     "data": {
      "text/plain": [
       "<function matplotlib.pyplot.show>"
      ]
     },
     "execution_count": 170,
     "metadata": {},
     "output_type": "execute_result"
    },
    {
     "data": {
      "image/png": "[encoded data removed]",
      "text/plain": [
       "<matplotlib.figure.Figure at 0x182279fc88>"
      ]
     },
     "metadata": {},
     "output_type": "display_data"
    }
   ],
   "source": [
    "#we should have a fairly linear function of y ~ x\n",
    "import matplotlib.pyplot as plt\n",
    "%matplotlib inline\n",
    "\n",
    "#fairly linear with high variation\n",
    "plt.scatter(x_data,y_label)\n",
    "plt.show"
   ]
  },
  {
   "cell_type": "code",
   "execution_count": 171,
   "metadata": {},
   "outputs": [
    {
     "name": "stdout",
     "output_type": "stream",
     "text": [
      "[0.3904392  0.65778302]\n"
     ]
    }
   ],
   "source": [
    "# y = mx+b model\n",
    "print(np.random.random(2))"
   ]
  },
  {
   "cell_type": "code",
   "execution_count": 245,
   "metadata": {},
   "outputs": [],
   "source": [
    "m = tf.Variable(0.78)\n",
    "b = tf.Variable(0.69)\n",
    "\n",
    "#create initial error at 0\n",
    "error = 0\n",
    "for x,y in zip(x_data,y_label): #x is input, y is label from original matrices\n",
    "    y_pred = m*x+b #for each data point we unzipped\n",
    "    error += (y - y_pred)**2 #need to minimize this cost function, add up all the errors in batch"
   ]
  },
  {
   "cell_type": "code",
   "execution_count": 246,
   "metadata": {},
   "outputs": [],
   "source": [
    "optimizer = tf.train.GradientDescentOptimizer(learning_rate=0.001) #using GD\n",
    "train = optimizer.minimize(error) #try to minimize error"
   ]
  },
  {
   "cell_type": "code",
   "execution_count": 253,
   "metadata": {},
   "outputs": [],
   "source": [
    "init = tf.global_variables_initializer()\n",
    "with tf.Session() as sess:\n",
    "    sess.run(init)\n",
    "    epochs = 1000\n",
    "    \n",
    "    for i in range(epochs):\n",
    "        sess.run(train) #optimize.minimize() the error\n",
    "        #print(error)\n",
    "    #to grab the weights and bias\n",
    "    #slope,intercept = sess.run([m,b])\n",
    "    slope = sess.run(m)\n",
    "    intercept = sess.run(b)"
   ]
  },
  {
   "cell_type": "code",
   "execution_count": 254,
   "metadata": {},
   "outputs": [
    {
     "name": "stdout",
     "output_type": "stream",
     "text": [
      "0.96274793 -0.3333828\n"
     ]
    }
   ],
   "source": [
    "print(slope,intercept)\n",
    "x_test = np.linspace(-1,11,10)\n",
    "y_pred_plot = x_test*slope + intercept"
   ]
  },
  {
   "cell_type": "code",
   "execution_count": 255,
   "metadata": {},
   "outputs": [
    {
     "data": {
      "image/png": "[encoded data removed]",
      "text/plain": [
       "<matplotlib.figure.Figure at 0x1822180470>"
      ]
     },
     "metadata": {},
     "output_type": "display_data"
    }
   ],
   "source": [
    "plt.scatter(x_data,y_label)\n",
    "plt.plot(x_test,y_pred_plot)\n",
    "plt.show()"
   ]
  },
  {
   "cell_type": "markdown",
   "metadata": {},
   "source": [
    "Try to play around with different epochs and see how much more optimized things can be ?"
   ]
  },
  {
   "cell_type": "markdown",
   "metadata": {},
   "source": [
    "# Tensorflow Regression Example"
   ]
  },
  {
   "cell_type": "code",
   "execution_count": 257,
   "metadata": {},
   "outputs": [
    {
     "data": {
      "text/plain": [
       "(1000000,)"
      ]
     },
     "execution_count": 257,
     "metadata": {},
     "output_type": "execute_result"
    }
   ],
   "source": [
    "x_data = np.linspace(0,10,1000000)\n",
    "noise = np.random.random(size=len(x_data))\n",
    "noise.shape"
   ]
  },
  {
   "cell_type": "code",
   "execution_count": 258,
   "metadata": {
    "collapsed": true
   },
   "outputs": [],
   "source": [
    "#Let's make our dataset with y=m*x+b.\n",
    "b = 5 #bias\n",
    "m = 0.35\n",
    "\n",
    "y_data = x_data*m+b+noise #our model"
   ]
  },
  {
   "cell_type": "code",
   "execution_count": 266,
   "metadata": {},
   "outputs": [
    {
     "data": {
      "text/html": [
       "<div>\n",
       "<style scoped>\n",
       "    .dataframe tbody tr th:only-of-type {\n",
       "        vertical-align: middle;\n",
       "    }\n",
       "\n",
       "    .dataframe tbody tr th {\n",
       "        vertical-align: top;\n",
       "    }\n",
       "\n",
       "    .dataframe thead th {\n",
       "        text-align: right;\n",
       "    }\n",
       "</style>\n",
       "<table border=\"1\" class=\"dataframe\">\n",
       "  <thead>\n",
       "    <tr style=\"text-align: right;\">\n",
       "      <th></th>\n",
       "      <th>x</th>\n",
       "      <th>y</th>\n",
       "    </tr>\n",
       "  </thead>\n",
       "  <tbody>\n",
       "    <tr>\n",
       "      <th>0</th>\n",
       "      <td>0.00000</td>\n",
       "      <td>5.362273</td>\n",
       "    </tr>\n",
       "    <tr>\n",
       "      <th>1</th>\n",
       "      <td>0.00001</td>\n",
       "      <td>5.356506</td>\n",
       "    </tr>\n",
       "    <tr>\n",
       "      <th>2</th>\n",
       "      <td>0.00002</td>\n",
       "      <td>5.195259</td>\n",
       "    </tr>\n",
       "    <tr>\n",
       "      <th>3</th>\n",
       "      <td>0.00003</td>\n",
       "      <td>5.987323</td>\n",
       "    </tr>\n",
       "    <tr>\n",
       "      <th>4</th>\n",
       "      <td>0.00004</td>\n",
       "      <td>5.023319</td>\n",
       "    </tr>\n",
       "  </tbody>\n",
       "</table>\n",
       "</div>"
      ],
      "text/plain": [
       "         x         y\n",
       "0  0.00000  5.362273\n",
       "1  0.00001  5.356506\n",
       "2  0.00002  5.195259\n",
       "3  0.00003  5.987323\n",
       "4  0.00004  5.023319"
      ]
     },
     "execution_count": 266,
     "metadata": {},
     "output_type": "execute_result"
    }
   ],
   "source": [
    "import pandas as pd\n",
    "my_data = pd.concat([pd.DataFrame(data=x_data),pd.DataFrame(data=y_data)],axis=1)\n",
    "my_data.columns = [\"x\",\"y\"]\n",
    "my_data.head()"
   ]
  },
  {
   "cell_type": "code",
   "execution_count": 268,
   "metadata": {},
   "outputs": [
    {
     "data": {
      "text/plain": [
       "<matplotlib.axes._subplots.AxesSubplot at 0x18225a7a90>"
      ]
     },
     "execution_count": 268,
     "metadata": {},
     "output_type": "execute_result"
    },
    {
     "data": {
      "image/png": "[encoded data removed]",
      "text/plain": [
       "<matplotlib.figure.Figure at 0x18205e8d68>"
      ]
     },
     "metadata": {},
     "output_type": "display_data"
    }
   ],
   "source": [
    "#sample plotting\n",
    "my_data.sample(n=250).plot(kind='scatter',x=\"x\",y=\"y\")"
   ]
  },
  {
   "cell_type": "markdown",
   "metadata": {},
   "source": [
    "# Tensorflow"
   ]
  },
  {
   "cell_type": "code",
   "execution_count": 272,
   "metadata": {},
   "outputs": [],
   "source": [
    "batch_size = 8 #quicker, better generalization\n",
    "\n",
    "#random initializing the weights/biases\n",
    "m2 = tf.Variable(0.87)\n",
    "b2 = tf.Variable(4.0)\n",
    "\n",
    "#Creating placeholders for our data input\n",
    "#how does [batchsize x features] make sense? Think about matrix multiplication when each sample with all features are\n",
    "#multiply by a [nx1] weights\n",
    "xph = tf.placeholder(tf.float32,[batch_size])\n",
    "yph = tf.placeholder(tf.float32,[batch_size])\n",
    "\n",
    "#making a graph\n",
    "y_model = m2*xph+b2 #initial predictions\n",
    "\n",
    "#loss defined\n",
    "error = tf.reduce_sum(tf.square(y_model-yph)) \n",
    "#yph is our true result here, think about the input of y. It is the solution \n",
    "\n",
    "#optimizer\n",
    "optimizer = tf.train.GradientDescentOptimizer(learning_rate=0.001)\n",
    "train = optimizer.minimize(error)"
   ]
  },
  {
   "cell_type": "code",
   "execution_count": 277,
   "metadata": {},
   "outputs": [],
   "source": [
    "init = tf.global_variables_initializer()\n",
    "with tf.Session() as sess:\n",
    "    sess.run(init)\n",
    "    epochs = 1000\n",
    "    \n",
    "    for i in range(epochs):\n",
    "        rand_ind = np.random.randint(len(x_data),size=batch_size) #8 random datapoints\n",
    "        sess.run(train,feed_dict={xph:x_data[rand_ind],yph:y_data[rand_ind]})\n",
    "        slope = sess.run(m2)\n",
    "        intercept = sess.run(b2)"
   ]
  },
  {
   "cell_type": "code",
   "execution_count": 279,
   "metadata": {},
   "outputs": [
    {
     "name": "stdout",
     "output_type": "stream",
     "text": [
      "0.34521118 5.473752\n"
     ]
    }
   ],
   "source": [
    "'''\n",
    "recall:\n",
    "m2 = tf.Variable(0.87)\n",
    "b2 = tf.Variable(4.0)\n",
    "\n",
    "and\n",
    "b = 5 #bias\n",
    "m = 0.35\n",
    "'''\n",
    "print(slope,intercept)\n"
   ]
  },
  {
   "cell_type": "markdown",
   "metadata": {},
   "source": [
    "c'etait bien!"
   ]
  },
  {
   "cell_type": "markdown",
   "metadata": {},
   "source": [
    "# TF Estimator API"
   ]
  },
  {
   "cell_type": "code",
   "execution_count": 280,
   "metadata": {},
   "outputs": [
    {
     "name": "stdout",
     "output_type": "stream",
     "text": [
      "INFO:tensorflow:Using default config.\n",
      "WARNING:tensorflow:Using temporary folder as model directory: /var/folders/lw/cnbx1bp507n2clzfjv5hcgqh0000gn/T/tmprfzkjc9w\n",
      "INFO:tensorflow:Using config: {'_model_dir': '/var/folders/lw/cnbx1bp507n2clzfjv5hcgqh0000gn/T/tmprfzkjc9w', '_tf_random_seed': None, '_save_summary_steps': 100, '_save_checkpoints_steps': None, '_save_checkpoints_secs': 600, '_session_config': allow_soft_placement: true\n",
      "graph_options {\n",
      "  rewrite_options {\n",
      "    meta_optimizer_iterations: ONE\n",
      "  }\n",
      "}\n",
      ", '_keep_checkpoint_max': 5, '_keep_checkpoint_every_n_hours': 10000, '_log_step_count_steps': 100, '_train_distribute': None, '_device_fn': None, '_protocol': None, '_eval_distribute': None, '_experimental_distribute': None, '_service': None, '_cluster_spec': <tensorflow.python.training.server_lib.ClusterSpec object at 0x1823bbd898>, '_task_type': 'worker', '_task_id': 0, '_global_id_in_cluster': 0, '_master': '', '_evaluation_master': '', '_is_chief': True, '_num_ps_replicas': 0, '_num_worker_replicas': 1}\n"
     ]
    }
   ],
   "source": [
    "#1.define our feature columns\n",
    "\n",
    "feat_cols = [tf.feature_column.numeric_column(key='x',shape=[1])]\n",
    "#we only have 1 feature, x_data. whole thing needs to be a list\n",
    "\n",
    "#estimator takes in a list\n",
    "estimator = tf.estimator.LinearRegressor(feature_columns=feat_cols)"
   ]
  },
  {
   "cell_type": "code",
   "execution_count": 283,
   "metadata": {},
   "outputs": [],
   "source": [
    "from sklearn.model_selection import train_test_split\n",
    "\n",
    "x_train,x_test,y_train,y_test = train_test_split(x_data,y_data,test_size=0.3,random_state=101)"
   ]
  },
  {
   "cell_type": "code",
   "execution_count": 286,
   "metadata": {},
   "outputs": [],
   "source": [
    "#estimator input can be both np array or pandas input\n",
    "input_func = tf.estimator.inputs.numpy_input_fn({\"x\":x_train},y=y_train,batch_size=8,num_epochs=None,shuffle=True) \n",
    "#our features input, recall our definition for that was \"x\""
   ]
  },
  {
   "cell_type": "code",
   "execution_count": 287,
   "metadata": {
    "collapsed": true
   },
   "outputs": [],
   "source": [
    "#we don't want to shuffle the train set\n",
    "train_input_func = tf.estimator.inputs.numpy_input_fn({\"x\":x_train},y=y_train,batch_size=8,num_epochs=1000,shuffle=False) "
   ]
  },
  {
   "cell_type": "code",
   "execution_count": 289,
   "metadata": {
    "collapsed": true
   },
   "outputs": [],
   "source": [
    "#change the epochs, identical as above\n",
    "test_input_func = tf.estimator.inputs.numpy_input_fn({\"x\":x_test},y=y_test,batch_size=8,num_epochs=1000,shuffle=False) "
   ]
  },
  {
   "cell_type": "code",
   "execution_count": 291,
   "metadata": {},
   "outputs": [
    {
     "name": "stdout",
     "output_type": "stream",
     "text": [
      "WARNING:tensorflow:From /Users/vinhta/.local/lib/python3.6/site-packages/tensorflow/python/estimator/inputs/queues/feeding_queue_runner.py:62: QueueRunner.__init__ (from tensorflow.python.training.queue_runner_impl) is deprecated and will be removed in a future version.\n",
      "Instructions for updating:\n",
      "To construct input pipelines, use the `tf.data` module.\n",
      "WARNING:tensorflow:From /Users/vinhta/.local/lib/python3.6/site-packages/tensorflow/python/estimator/inputs/queues/feeding_functions.py:500: add_queue_runner (from tensorflow.python.training.queue_runner_impl) is deprecated and will be removed in a future version.\n",
      "Instructions for updating:\n",
      "To construct input pipelines, use the `tf.data` module.\n",
      "INFO:tensorflow:Calling model_fn.\n",
      "INFO:tensorflow:Done calling model_fn.\n",
      "INFO:tensorflow:Create CheckpointSaverHook.\n",
      "INFO:tensorflow:Graph was finalized.\n",
      "INFO:tensorflow:Running local_init_op.\n",
      "INFO:tensorflow:Done running local_init_op.\n",
      "WARNING:tensorflow:From /Users/vinhta/.local/lib/python3.6/site-packages/tensorflow/python/training/monitored_session.py:804: start_queue_runners (from tensorflow.python.training.queue_runner_impl) is deprecated and will be removed in a future version.\n",
      "Instructions for updating:\n",
      "To construct input pipelines, use the `tf.data` module.\n",
      "INFO:tensorflow:Saving checkpoints for 0 into /var/folders/lw/cnbx1bp507n2clzfjv5hcgqh0000gn/T/tmprfzkjc9w/model.ckpt.\n",
      "INFO:tensorflow:loss = 446.89288, step = 1\n",
      "INFO:tensorflow:global_step/sec: 399.175\n",
      "INFO:tensorflow:loss = 28.68383, step = 101 (0.251 sec)\n",
      "INFO:tensorflow:global_step/sec: 558.042\n",
      "INFO:tensorflow:loss = 25.52526, step = 201 (0.182 sec)\n",
      "INFO:tensorflow:global_step/sec: 576.253\n",
      "INFO:tensorflow:loss = 10.458163, step = 301 (0.173 sec)\n",
      "INFO:tensorflow:global_step/sec: 729.767\n",
      "INFO:tensorflow:loss = 10.293915, step = 401 (0.135 sec)\n",
      "INFO:tensorflow:global_step/sec: 969.49\n",
      "INFO:tensorflow:loss = 2.968066, step = 501 (0.103 sec)\n",
      "INFO:tensorflow:global_step/sec: 966.211\n",
      "INFO:tensorflow:loss = 6.8561316, step = 601 (0.104 sec)\n",
      "INFO:tensorflow:global_step/sec: 1003.09\n",
      "INFO:tensorflow:loss = 2.714104, step = 701 (0.100 sec)\n",
      "INFO:tensorflow:global_step/sec: 936.208\n",
      "INFO:tensorflow:loss = 3.8380508, step = 801 (0.107 sec)\n",
      "INFO:tensorflow:global_step/sec: 781.959\n",
      "INFO:tensorflow:loss = 2.0673547, step = 901 (0.128 sec)\n",
      "INFO:tensorflow:Saving checkpoints for 1000 into /var/folders/lw/cnbx1bp507n2clzfjv5hcgqh0000gn/T/tmprfzkjc9w/model.ckpt.\n",
      "INFO:tensorflow:Loss for final step: 0.99976283.\n"
     ]
    },
    {
     "data": {
      "text/plain": [
       "<tensorflow.python.estimator.canned.linear.LinearRegressor at 0x1823ba2e80>"
      ]
     },
     "execution_count": 291,
     "metadata": {},
     "output_type": "execute_result"
    }
   ],
   "source": [
    "estimator.train(input_fn=input_func,steps=1000) #now we're specifying epochs for the first input_func"
   ]
  },
  {
   "cell_type": "code",
   "execution_count": 295,
   "metadata": {},
   "outputs": [
    {
     "name": "stdout",
     "output_type": "stream",
     "text": [
      "INFO:tensorflow:Calling model_fn.\n",
      "INFO:tensorflow:Done calling model_fn.\n",
      "INFO:tensorflow:Starting evaluation at 2019-02-08-05:20:16\n",
      "INFO:tensorflow:Graph was finalized.\n",
      "INFO:tensorflow:Restoring parameters from /var/folders/lw/cnbx1bp507n2clzfjv5hcgqh0000gn/T/tmprfzkjc9w/model.ckpt-1000\n",
      "INFO:tensorflow:Running local_init_op.\n",
      "INFO:tensorflow:Done running local_init_op.\n",
      "INFO:tensorflow:Evaluation [100/1000]\n",
      "INFO:tensorflow:Evaluation [200/1000]\n",
      "INFO:tensorflow:Evaluation [300/1000]\n",
      "INFO:tensorflow:Evaluation [400/1000]\n",
      "INFO:tensorflow:Evaluation [500/1000]\n",
      "INFO:tensorflow:Evaluation [600/1000]\n",
      "INFO:tensorflow:Evaluation [700/1000]\n",
      "INFO:tensorflow:Evaluation [800/1000]\n",
      "INFO:tensorflow:Evaluation [900/1000]\n",
      "INFO:tensorflow:Evaluation [1000/1000]\n",
      "INFO:tensorflow:Finished evaluation at 2019-02-08-05:20:17\n",
      "INFO:tensorflow:Saving dict for global step 1000: average_loss = 0.18445672, global_step = 1000, label/mean = 7.2564445, loss = 1.4756538, prediction/mean = 7.1317105\n",
      "INFO:tensorflow:Saving 'checkpoint_path' summary for global step 1000: /var/folders/lw/cnbx1bp507n2clzfjv5hcgqh0000gn/T/tmprfzkjc9w/model.ckpt-1000\n"
     ]
    }
   ],
   "source": [
    "#eval against our train set without shuffle\n",
    "train_metrics = estimator.evaluate(input_fn=train_input_func,steps=1000)"
   ]
  },
  {
   "cell_type": "code",
   "execution_count": 297,
   "metadata": {},
   "outputs": [
    {
     "name": "stdout",
     "output_type": "stream",
     "text": [
      "INFO:tensorflow:Calling model_fn.\n",
      "INFO:tensorflow:Done calling model_fn.\n",
      "INFO:tensorflow:Starting evaluation at 2019-02-08-05:21:46\n",
      "INFO:tensorflow:Graph was finalized.\n",
      "INFO:tensorflow:Restoring parameters from /var/folders/lw/cnbx1bp507n2clzfjv5hcgqh0000gn/T/tmprfzkjc9w/model.ckpt-1000\n",
      "INFO:tensorflow:Running local_init_op.\n",
      "INFO:tensorflow:Done running local_init_op.\n",
      "INFO:tensorflow:Evaluation [100/1000]\n",
      "INFO:tensorflow:Evaluation [200/1000]\n",
      "INFO:tensorflow:Evaluation [300/1000]\n",
      "INFO:tensorflow:Evaluation [400/1000]\n",
      "INFO:tensorflow:Evaluation [500/1000]\n",
      "INFO:tensorflow:Evaluation [600/1000]\n",
      "INFO:tensorflow:Evaluation [700/1000]\n",
      "INFO:tensorflow:Evaluation [800/1000]\n",
      "INFO:tensorflow:Evaluation [900/1000]\n",
      "INFO:tensorflow:Evaluation [1000/1000]\n",
      "INFO:tensorflow:Finished evaluation at 2019-02-08-05:21:48\n",
      "INFO:tensorflow:Saving dict for global step 1000: average_loss = 0.1810947, global_step = 1000, label/mean = 7.2322025, loss = 1.4487576, prediction/mean = 7.102418\n",
      "INFO:tensorflow:Saving 'checkpoint_path' summary for global step 1000: /var/folders/lw/cnbx1bp507n2clzfjv5hcgqh0000gn/T/tmprfzkjc9w/model.ckpt-1000\n"
     ]
    }
   ],
   "source": [
    "test_metrics = estimator.evaluate(input_fn=test_input_func,steps=1000)"
   ]
  },
  {
   "cell_type": "code",
   "execution_count": 299,
   "metadata": {},
   "outputs": [
    {
     "name": "stdout",
     "output_type": "stream",
     "text": [
      "{'average_loss': 0.18445672, 'label/mean': 7.2564445, 'loss': 1.4756538, 'prediction/mean': 7.1317105, 'global_step': 1000}\n",
      "{'average_loss': 0.1810947, 'label/mean': 7.2322025, 'loss': 1.4487576, 'prediction/mean': 7.102418, 'global_step': 1000}\n"
     ]
    }
   ],
   "source": [
    "print(train_metrics)\n",
    "print(test_metrics)"
   ]
  },
  {
   "cell_type": "code",
   "execution_count": 310,
   "metadata": {
    "collapsed": true
   },
   "outputs": [],
   "source": [
    "#To predict new values\n",
    "brand_new_data = np.linspace(0,20,20)\n",
    "input_fn_predict = tf.estimator.inputs.numpy_input_fn({\"x\":brand_new_data},shuffle=False)"
   ]
  },
  {
   "cell_type": "code",
   "execution_count": 311,
   "metadata": {},
   "outputs": [
    {
     "data": {
      "text/plain": [
       "<generator object Estimator.predict at 0x1827d7dc50>"
      ]
     },
     "execution_count": 311,
     "metadata": {},
     "output_type": "execute_result"
    }
   ],
   "source": [
    "estimator.predict(input_fn=input_fn_predict)"
   ]
  },
  {
   "cell_type": "code",
   "execution_count": 312,
   "metadata": {},
   "outputs": [
    {
     "name": "stdout",
     "output_type": "stream",
     "text": [
      "INFO:tensorflow:Calling model_fn.\n",
      "INFO:tensorflow:Done calling model_fn.\n",
      "INFO:tensorflow:Graph was finalized.\n",
      "INFO:tensorflow:Restoring parameters from /var/folders/lw/cnbx1bp507n2clzfjv5hcgqh0000gn/T/tmprfzkjc9w/model.ckpt-1000\n",
      "INFO:tensorflow:Running local_init_op.\n",
      "INFO:tensorflow:Done running local_init_op.\n"
     ]
    },
    {
     "data": {
      "text/plain": [
       "[{'predictions': array([4.865597], dtype=float32)},\n",
       " {'predictions': array([5.3397183], dtype=float32)},\n",
       " {'predictions': array([5.8138404], dtype=float32)},\n",
       " {'predictions': array([6.287962], dtype=float32)},\n",
       " {'predictions': array([6.762084], dtype=float32)},\n",
       " {'predictions': array([7.2362056], dtype=float32)},\n",
       " {'predictions': array([7.710327], dtype=float32)},\n",
       " {'predictions': array([8.184449], dtype=float32)},\n",
       " {'predictions': array([8.658571], dtype=float32)},\n",
       " {'predictions': array([9.132692], dtype=float32)},\n",
       " {'predictions': array([9.606814], dtype=float32)},\n",
       " {'predictions': array([10.080936], dtype=float32)},\n",
       " {'predictions': array([10.555058], dtype=float32)},\n",
       " {'predictions': array([11.02918], dtype=float32)},\n",
       " {'predictions': array([11.503302], dtype=float32)},\n",
       " {'predictions': array([11.977423], dtype=float32)},\n",
       " {'predictions': array([12.451546], dtype=float32)},\n",
       " {'predictions': array([12.925667], dtype=float32)},\n",
       " {'predictions': array([13.399789], dtype=float32)},\n",
       " {'predictions': array([13.87391], dtype=float32)}]"
      ]
     },
     "execution_count": 312,
     "metadata": {},
     "output_type": "execute_result"
    }
   ],
   "source": [
    "#to see the result, we have to:\n",
    "list(estimator.predict(input_fn=input_fn_predict))"
   ]
  },
  {
   "cell_type": "code",
   "execution_count": 313,
   "metadata": {},
   "outputs": [
    {
     "name": "stdout",
     "output_type": "stream",
     "text": [
      "INFO:tensorflow:Calling model_fn.\n",
      "INFO:tensorflow:Done calling model_fn.\n",
      "INFO:tensorflow:Graph was finalized.\n",
      "INFO:tensorflow:Restoring parameters from /var/folders/lw/cnbx1bp507n2clzfjv5hcgqh0000gn/T/tmprfzkjc9w/model.ckpt-1000\n",
      "INFO:tensorflow:Running local_init_op.\n",
      "INFO:tensorflow:Done running local_init_op.\n"
     ]
    }
   ],
   "source": [
    "predictions = []\n",
    "for pred in estimator.predict(input_fn=input_fn_predict):\n",
    "    predictions.append(pred[\"predictions\"]) #notice the list dictionary in above cell"
   ]
  },
  {
   "cell_type": "code",
   "execution_count": 314,
   "metadata": {},
   "outputs": [
    {
     "data": {
      "text/plain": [
       "[array([4.865597], dtype=float32),\n",
       " array([5.3397183], dtype=float32),\n",
       " array([5.8138404], dtype=float32),\n",
       " array([6.287962], dtype=float32),\n",
       " array([6.762084], dtype=float32),\n",
       " array([7.2362056], dtype=float32),\n",
       " array([7.710327], dtype=float32),\n",
       " array([8.184449], dtype=float32),\n",
       " array([8.658571], dtype=float32),\n",
       " array([9.132692], dtype=float32),\n",
       " array([9.606814], dtype=float32),\n",
       " array([10.080936], dtype=float32),\n",
       " array([10.555058], dtype=float32),\n",
       " array([11.02918], dtype=float32),\n",
       " array([11.503302], dtype=float32),\n",
       " array([11.977423], dtype=float32),\n",
       " array([12.451546], dtype=float32),\n",
       " array([12.925667], dtype=float32),\n",
       " array([13.399789], dtype=float32),\n",
       " array([13.87391], dtype=float32)]"
      ]
     },
     "execution_count": 314,
     "metadata": {},
     "output_type": "execute_result"
    }
   ],
   "source": [
    "predictions"
   ]
  },
  {
   "cell_type": "code",
   "execution_count": 316,
   "metadata": {},
   "outputs": [
    {
     "data": {
      "text/plain": [
       "[<matplotlib.lines.Line2D at 0x18295fbc88>]"
      ]
     },
     "execution_count": 316,
     "metadata": {},
     "output_type": "execute_result"
    },
    {
     "data": {
      "image/png": "[encoded data removed]",
      "text/plain": [
       "<matplotlib.figure.Figure at 0x182f173908>"
      ]
     },
     "metadata": {},
     "output_type": "display_data"
    }
   ],
   "source": [
    "#plot our data again with pred\n",
    "my_data.sample(n=250).plot(kind='scatter',x='x',y='y')\n",
    "plt.plot(np.linspace(0,20,20),predictions,'r') #our prediction data\n",
    "#my_data"
   ]
  },
  {
   "cell_type": "code",
   "execution_count": null,
   "metadata": {
    "collapsed": true
   },
   "outputs": [],
   "source": []
  }
 ],
 "metadata": {
  "kernelspec": {
   "display_name": "Python 3",
   "language": "python",
   "name": "python3"
  },
  "language_info": {
   "codemirror_mode": {
    "name": "ipython",
    "version": 3
   },
   "file_extension": ".py",
   "mimetype": "text/x-python",
   "name": "python",
   "nbconvert_exporter": "python",
   "pygments_lexer": "ipython3",
   "version": "3.6.5"
  }
 },
 "nbformat": 4,
 "nbformat_minor": 2
}
